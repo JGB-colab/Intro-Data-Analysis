{
 "cells": [
  {
   "cell_type": "code",
   "execution_count": 1,
   "id": "266fbe5c",
   "metadata": {},
   "outputs": [],
   "source": [
    "import pandas as pd"
   ]
  },
  {
   "cell_type": "code",
   "execution_count": 2,
   "id": "d0be3516",
   "metadata": {},
   "outputs": [],
   "source": [
    "daily_engagement = pd.read_csv('daily_engagement_full.csv')"
   ]
  },
  {
   "cell_type": "code",
   "execution_count": 3,
   "id": "e936b616",
   "metadata": {},
   "outputs": [
    {
     "data": {
      "text/plain": [
       "1237"
      ]
     },
     "execution_count": 3,
     "metadata": {},
     "output_type": "execute_result"
    }
   ],
   "source": [
    "len(daily_engagement['acct'].unique())"
   ]
  },
  {
   "cell_type": "code",
   "execution_count": 4,
   "id": "7193f4e1",
   "metadata": {},
   "outputs": [],
   "source": [
    "import numpy as np\n",
    "countries = np.array([\n",
    "    'Afghanistan', 'Albania', 'Algeria', 'Angola', 'Argentina',\n",
    "    'Armenia', 'Australia', 'Austria', 'Azerbaijan', 'Bahamas',\n",
    "    'Bahrain', 'Bangladesh', 'Barbados', 'Belarus', 'Belgium',\n",
    "    'Belize', 'Benin', 'Bhutan', 'Bolivia',\n",
    "    'Bosnia and Herzegovina'\n",
    "])\n",
    "employment = np.array([\n",
    "    55.70000076,  51.40000153,  50.5       ,  75.69999695,\n",
    "    58.40000153,  40.09999847,  61.5       ,  57.09999847,\n",
    "    60.90000153,  66.59999847,  60.40000153,  68.09999847,\n",
    "    66.90000153,  53.40000153,  48.59999847,  56.79999924,\n",
    "    71.59999847,  58.40000153,  70.40000153,  41.20000076\n",
    "])"
   ]
  },
  {
   "cell_type": "code",
   "execution_count": 5,
   "id": "968e5416",
   "metadata": {},
   "outputs": [],
   "source": [
    "#Os valores do países e suas taxas de emprego estão conectados pelos índices\n",
    "def max_employment(countries, employment):\n",
    "    max_value = float(employment.max())\n",
    "    for i in range(len(employment)):\n",
    "        if employment[i] == max_value:\n",
    "            max_country = countries[i]\n",
    "    return (max_country, max_value)"
   ]
  },
  {
   "cell_type": "code",
   "execution_count": 6,
   "id": "e3807936",
   "metadata": {},
   "outputs": [
    {
     "data": {
      "text/plain": [
       "('Angola', 75.69999695)"
      ]
     },
     "execution_count": 6,
     "metadata": {},
     "output_type": "execute_result"
    }
   ],
   "source": [
    "max_employment(countries, employment)"
   ]
  },
  {
   "cell_type": "code",
   "execution_count": 7,
   "id": "5cb54b7d",
   "metadata": {},
   "outputs": [],
   "source": [
    "def max_employ(x,y):\n",
    "    ind = y.argmax()\n",
    "    max_country = x[ind]\n",
    "    max_value = y[ind]\n",
    "    return (max_country, max_value)"
   ]
  },
  {
   "cell_type": "code",
   "execution_count": 8,
   "id": "205824cc",
   "metadata": {},
   "outputs": [
    {
     "data": {
      "text/plain": [
       "('Angola', 75.69999695)"
      ]
     },
     "execution_count": 8,
     "metadata": {},
     "output_type": "execute_result"
    }
   ],
   "source": [
    "max_employ(countries, employment)"
   ]
  },
  {
   "cell_type": "code",
   "execution_count": 9,
   "id": "a9f726d3",
   "metadata": {},
   "outputs": [],
   "source": [
    "def teste():\n",
    "    return '0'"
   ]
  },
  {
   "cell_type": "code",
   "execution_count": 10,
   "id": "b5dcbaba",
   "metadata": {},
   "outputs": [
    {
     "data": {
      "text/plain": [
       "'0'"
      ]
     },
     "execution_count": 10,
     "metadata": {},
     "output_type": "execute_result"
    }
   ],
   "source": [
    "teste()"
   ]
  },
  {
   "cell_type": "code",
   "execution_count": 11,
   "id": "b49b5b7e",
   "metadata": {},
   "outputs": [],
   "source": [
    "#Female school completion rate in 2007 for those 20 countries\n",
    "female_completion = np.array([\n",
    "    97.35583,  104.62379,  103.02998,   95.14321,  103.69019,\n",
    "    98.49185,  100.88828,   95.43974,   92.11484,   91.54804,\n",
    "    95.98029,   98.22902,   96.12179,  119.28105,   97.84627,\n",
    "    29.07386,   38.41644,   90.70509,   51.7478 ,   95.45072\n",
    "])\n",
    "\n",
    "# Male school completion rate in 2007 for those 20 countries\n",
    "male_completion = np.array([\n",
    "     95.47622,  100.66476,   99.7926 ,   91.48936,  103.22096,\n",
    "     97.80458,  103.81398,   88.11736,   93.55611,   87.76347,\n",
    "    102.45714,   98.73953,   92.22388,  115.3892 ,   98.70502,\n",
    "     37.00692,   45.39401,   91.22084,   62.42028,   90.66958\n",
    "])"
   ]
  },
  {
   "cell_type": "code",
   "execution_count": 12,
   "id": "c7e90d69",
   "metadata": {},
   "outputs": [
    {
     "name": "stdout",
     "output_type": "stream",
     "text": [
      "35.9110388\n"
     ]
    }
   ],
   "source": [
    "for i in range(len(countries)):\n",
    "    x = np.mean(male_completion)\n",
    "    y = np.mean(female_completion)\n",
    "    s = (x + y) *0.2\n",
    "    \n",
    "print (s)"
   ]
  },
  {
   "cell_type": "code",
   "execution_count": 13,
   "id": "ced300fe",
   "metadata": {},
   "outputs": [],
   "source": [
    "def over(x,y):\n",
    "    s = 0\n",
    "    for i in range(len(countries)):\n",
    "        mean = (x[i] + y[i])/2\n",
    "        s+=mean\n",
    "    return s/len(countries)"
   ]
  },
  {
   "cell_type": "code",
   "execution_count": 14,
   "id": "c0fbaee5",
   "metadata": {},
   "outputs": [
    {
     "data": {
      "text/plain": [
       "89.777597"
      ]
     },
     "execution_count": 14,
     "metadata": {},
     "output_type": "execute_result"
    }
   ],
   "source": [
    "over(female_completion, male_completion)"
   ]
  },
  {
   "cell_type": "code",
   "execution_count": 15,
   "id": "09e5ae72",
   "metadata": {},
   "outputs": [
    {
     "data": {
      "text/plain": [
       "array([192.83205, 205.28855, 202.82258, 186.63257, 206.91115, 196.29643,\n",
       "       204.70226, 183.5571 , 185.67095, 179.31151, 198.43743, 196.96855,\n",
       "       188.34567, 234.67025, 196.55129,  66.08078,  83.81045, 181.92593,\n",
       "       114.16808, 186.1203 ])"
      ]
     },
     "execution_count": 15,
     "metadata": {},
     "output_type": "execute_result"
    }
   ],
   "source": [
    "total  = female_completion + male_completion\n",
    "total"
   ]
  },
  {
   "cell_type": "code",
   "execution_count": 16,
   "id": "d751d139",
   "metadata": {},
   "outputs": [
    {
     "data": {
      "text/plain": [
       "array([ 96.416025, 102.644275, 101.41129 ,  93.316285, 103.455575,\n",
       "        98.148215, 102.35113 ,  91.77855 ,  92.835475,  89.655755,\n",
       "        99.218715,  98.484275,  94.172835, 117.335125,  98.275645,\n",
       "        33.04039 ,  41.905225,  90.962965,  57.08404 ,  93.06015 ])"
      ]
     },
     "execution_count": 16,
     "metadata": {},
     "output_type": "execute_result"
    }
   ],
   "source": [
    "total/2"
   ]
  },
  {
   "cell_type": "code",
   "execution_count": 17,
   "id": "77e2417c",
   "metadata": {},
   "outputs": [],
   "source": [
    "x = np.array([3.7]*20)"
   ]
  },
  {
   "cell_type": "code",
   "execution_count": 18,
   "id": "c48a9ac9",
   "metadata": {},
   "outputs": [
    {
     "data": {
      "text/plain": [
       "array([3.7, 3.7, 3.7, 3.7, 3.7, 3.7, 3.7, 3.7, 3.7, 3.7, 3.7, 3.7, 3.7,\n",
       "       3.7, 3.7, 3.7, 3.7, 3.7, 3.7, 3.7])"
      ]
     },
     "execution_count": 18,
     "metadata": {},
     "output_type": "execute_result"
    }
   ],
   "source": [
    "x"
   ]
  },
  {
   "cell_type": "code",
   "execution_count": 19,
   "id": "de6d031d",
   "metadata": {},
   "outputs": [],
   "source": [
    "vetor_media= np.array([58.6]*len(total))"
   ]
  },
  {
   "cell_type": "code",
   "execution_count": 20,
   "id": "c510b76a",
   "metadata": {},
   "outputs": [
    {
     "data": {
      "text/plain": [
       "array([58.6, 58.6, 58.6, 58.6, 58.6, 58.6, 58.6, 58.6, 58.6, 58.6, 58.6,\n",
       "       58.6, 58.6, 58.6, 58.6, 58.6, 58.6, 58.6, 58.6, 58.6])"
      ]
     },
     "execution_count": 20,
     "metadata": {},
     "output_type": "execute_result"
    }
   ],
   "source": [
    "vetor_media"
   ]
  },
  {
   "cell_type": "code",
   "execution_count": 21,
   "id": "f14c13e5",
   "metadata": {},
   "outputs": [],
   "source": [
    "vetor_std = ( 58.6 - employment )/10.5"
   ]
  },
  {
   "cell_type": "code",
   "execution_count": 22,
   "id": "a612094e",
   "metadata": {},
   "outputs": [
    {
     "data": {
      "text/plain": [
       "array([ 0.2761904 ,  0.68571414,  0.77142857, -1.62857114,  0.01904747,\n",
       "        1.76190491, -0.27619048,  0.14285729, -0.21904776, -0.76190462,\n",
       "       -0.17142872, -0.90476176, -0.79047634,  0.49523795,  0.9523811 ,\n",
       "        0.17142864, -1.23809509,  0.01904747, -1.12380967,  1.65714278])"
      ]
     },
     "execution_count": 22,
     "metadata": {},
     "output_type": "execute_result"
    }
   ],
   "source": [
    "vetor_std"
   ]
  },
  {
   "cell_type": "code",
   "execution_count": 23,
   "id": "af79508b",
   "metadata": {},
   "outputs": [],
   "source": [
    "time_spent = np.array([\n",
    "       12.89697233,    0.        ,   64.55043217,    0.        ,\n",
    "       24.2315615 ,   39.991625  ,    0.        ,    0.        ,\n",
    "      147.20683783,    0.        ,    0.        ,    0.        ,\n",
    "       45.18261617,  157.60454283,  133.2434615 ,   52.85000767,\n",
    "        0.        ,   54.9204785 ,   26.78142417,    0.\n",
    "])\n",
    "\n",
    "# Days to cancel for 20 students\n",
    "days_to_cancel = np.array([\n",
    "      4,   5,  37,   3,  12,   4,  35,  38,   5,  37,   3,   3,  68,\n",
    "     38,  98,   2, 249,   2, 127,  35\n",
    "])"
   ]
  },
  {
   "cell_type": "code",
   "execution_count": 24,
   "id": "74f7e3dc",
   "metadata": {},
   "outputs": [
    {
     "data": {
      "text/plain": [
       "41.05400348545454"
      ]
     },
     "execution_count": 24,
     "metadata": {},
     "output_type": "execute_result"
    }
   ],
   "source": [
    "time_spent[days_to_cancel >=7].mean()"
   ]
  },
  {
   "cell_type": "code",
   "execution_count": 25,
   "id": "e664bc64",
   "metadata": {},
   "outputs": [
    {
     "data": {
      "text/plain": [
       "2.5"
      ]
     },
     "execution_count": 25,
     "metadata": {},
     "output_type": "execute_result"
    }
   ],
   "source": [
    "pd.Series([1,2,3,4]).mean()"
   ]
  },
  {
   "cell_type": "code",
   "execution_count": 26,
   "id": "f3474a2c",
   "metadata": {},
   "outputs": [
    {
     "data": {
      "text/plain": [
       "5.5"
      ]
     },
     "execution_count": 26,
     "metadata": {},
     "output_type": "execute_result"
    }
   ],
   "source": [
    "pd.Series([4,5,6,7]).mean()"
   ]
  },
  {
   "cell_type": "code",
   "execution_count": 27,
   "id": "e3c161eb",
   "metadata": {},
   "outputs": [],
   "source": [
    "\n",
    "life_expectancy_values = [74.7,  75. ,  83.4,  57.6,  74.6,  75.4,  72.3,  81.5,  80.2,\n",
    "                          70.3,  72.1,  76.4,  68.1,  75.2,  69.8,  79.4,  70.8,  62.7,\n",
    "                          67.3,  70.6]\n",
    "\n",
    "gdp_values = [ 1681.61390973,   2155.48523109,  21495.80508273,    562.98768478,\n",
    "              13495.1274663 ,   9388.68852258,   1424.19056199,  24765.54890176,\n",
    "              27036.48733192,   1945.63754911,  21721.61840978,  13373.21993972,\n",
    "                483.97086804,   9783.98417323,   2253.46411147,  25034.66692293,\n",
    "               3680.91642923,    366.04496652,   1175.92638695,   1132.21387981]"
   ]
  },
  {
   "cell_type": "code",
   "execution_count": 28,
   "id": "88724c84",
   "metadata": {},
   "outputs": [],
   "source": [
    "life_expectancy = pd.Series(life_expectancy_values)\n",
    "gdp = pd.Series(gdp_values)\n",
    "array_bool1 =life_expectancy[life_expectancy> life_expectancy.mean()]\n",
    "array_bool2 =life_expectancy[life_expectancy< life_expectancy.mean()]"
   ]
  },
  {
   "cell_type": "code",
   "execution_count": 29,
   "id": "6da9ad2a",
   "metadata": {},
   "outputs": [],
   "source": [
    "def test(x,y):\n",
    "    print(x[x>x.mean()], y[y>y.mean()])\n",
    "    print(x[x<x.mean()],  y[y>y.mean()])\n",
    "    print(x[x>x.mean()],  y[y<y.mean()])\n",
    "    print(x[x<x.mean()],  y[y<y.mean()])"
   ]
  },
  {
   "cell_type": "code",
   "execution_count": null,
   "id": "e93393ff",
   "metadata": {},
   "outputs": [],
   "source": []
  },
  {
   "cell_type": "code",
   "execution_count": 30,
   "id": "33236a9d",
   "metadata": {},
   "outputs": [],
   "source": [
    "conj_1 = list(gdp[gdp<gdp.mean()].items())\n",
    "conj_2 = list(life_expectancy[life_expectancy<life_expectancy.mean()].items())"
   ]
  },
  {
   "cell_type": "code",
   "execution_count": 31,
   "id": "8f299eb8",
   "metadata": {},
   "outputs": [
    {
     "name": "stdout",
     "output_type": "stream",
     "text": [
      "3\n",
      "6\n",
      "9\n",
      "12\n",
      "14\n",
      "16\n",
      "17\n",
      "18\n",
      "19\n"
     ]
    }
   ],
   "source": [
    "for i in conj_1:\n",
    "    for j in conj_2:\n",
    "        if i[0] == j[0]:\n",
    "            print(i[0])"
   ]
  },
  {
   "cell_type": "code",
   "execution_count": 32,
   "id": "64245c62",
   "metadata": {},
   "outputs": [
    {
     "name": "stdout",
     "output_type": "stream",
     "text": [
      "[(0, 1681.61390973), (1, 2155.48523109), (3, 562.98768478), (6, 1424.19056199), (9, 1945.63754911), (12, 483.97086804), (14, 2253.46411147), (16, 3680.91642923), (17, 366.04496652), (18, 1175.92638695), (19, 1132.21387981)]\n",
      "[(3, 57.6), (6, 72.3), (9, 70.3), (10, 72.1), (12, 68.1), (14, 69.8), (16, 70.8), (17, 62.7), (18, 67.3), (19, 70.6)]\n"
     ]
    }
   ],
   "source": [
    "print(conj_1)\n",
    "print(conj_2)"
   ]
  },
  {
   "cell_type": "code",
   "execution_count": 33,
   "id": "ba60a710",
   "metadata": {},
   "outputs": [],
   "source": [
    "def variable_correlation(v1,v2):\n",
    "    both_above = (v1>v1.mean()) &\\\n",
    "                 (v2>v2.mean())\n",
    "    both_below = (v1<v1.mean()) &\\\n",
    "                 (v2<v2.mean())\n",
    "    is_same_direction = both_above | both_below\n",
    "    num_same_direction = is_same_direction.sum()\n",
    "    num_dif_direction = len(v1) - num_same_direction\n",
    "    return (num_same_direction,num_dif_direction)"
   ]
  },
  {
   "cell_type": "code",
   "execution_count": 34,
   "id": "372e99df",
   "metadata": {},
   "outputs": [
    {
     "data": {
      "text/plain": [
       "(17, 3)"
      ]
     },
     "execution_count": 34,
     "metadata": {},
     "output_type": "execute_result"
    }
   ],
   "source": [
    "variable_correlation(gdp ,life_expectancy)"
   ]
  },
  {
   "cell_type": "code",
   "execution_count": 35,
   "id": "cebafe23",
   "metadata": {},
   "outputs": [],
   "source": [
    "countries = [\n",
    "    'Afghanistan', 'Albania', 'Algeria', 'Angola',\n",
    "    'Argentina', 'Armenia', 'Australia', 'Austria',\n",
    "    'Azerbaijan', 'Bahamas', 'Bahrain', 'Bangladesh',\n",
    "    'Barbados', 'Belarus', 'Belgium', 'Belize',\n",
    "    'Benin', 'Bhutan', 'Bolivia', 'Bosnia and Herzegovina',\n",
    "]\n",
    "\n",
    "\n",
    "employment_values = [\n",
    "    55.70000076,  51.40000153,  50.5       ,  75.69999695,\n",
    "    58.40000153,  40.09999847,  61.5       ,  57.09999847,\n",
    "    60.90000153,  66.59999847,  60.40000153,  68.09999847,\n",
    "    66.90000153,  53.40000153,  48.59999847,  56.79999924,\n",
    "    71.59999847,  58.40000153,  70.40000153,  41.20000076,\n",
    "]\n"
   ]
  },
  {
   "cell_type": "code",
   "execution_count": 36,
   "id": "85d4419c",
   "metadata": {},
   "outputs": [],
   "source": [
    "x = pd.Series(employment_values, index = countries)"
   ]
  },
  {
   "cell_type": "code",
   "execution_count": 37,
   "id": "f40ed6c0",
   "metadata": {},
   "outputs": [
    {
     "data": {
      "text/plain": [
       "'Angola'"
      ]
     },
     "execution_count": 37,
     "metadata": {},
     "output_type": "execute_result"
    }
   ],
   "source": [
    "x.idxmax()"
   ]
  },
  {
   "cell_type": "code",
   "execution_count": 38,
   "id": "daa931c1",
   "metadata": {},
   "outputs": [
    {
     "data": {
      "text/plain": [
       "3"
      ]
     },
     "execution_count": 38,
     "metadata": {},
     "output_type": "execute_result"
    }
   ],
   "source": [
    "x.argmax()"
   ]
  },
  {
   "cell_type": "code",
   "execution_count": 39,
   "id": "7ca2e9bb",
   "metadata": {},
   "outputs": [
    {
     "data": {
      "text/plain": [
       "75.69999695"
      ]
     },
     "execution_count": 39,
     "metadata": {},
     "output_type": "execute_result"
    }
   ],
   "source": [
    "x.iloc[x.argmax()]"
   ]
  },
  {
   "cell_type": "code",
   "execution_count": 40,
   "id": "adc2783e",
   "metadata": {},
   "outputs": [],
   "source": [
    "s1 = pd.Series([1, 2, 3, 4], index=['a', 'b', 'c', 'd'])\n",
    "s2 = pd.Series([10, 20, 30, 40], index=['c', 'd', 'e', 'f'])"
   ]
  },
  {
   "cell_type": "code",
   "execution_count": 41,
   "id": "bcb8f9e1",
   "metadata": {},
   "outputs": [],
   "source": [
    "x = list(s1[~(s1&s2)].items())\n",
    "y = list((s1[s1&s2] + s2[s1&s2]).items())\n",
    "z = list(s2[~(s1&s2)].items())\n",
    "s3 = x + y + z"
   ]
  },
  {
   "cell_type": "code",
   "execution_count": 42,
   "id": "da101ae0",
   "metadata": {},
   "outputs": [],
   "source": [
    "valor = []\n",
    "indice = []\n",
    "for i in s3:\n",
    "    valor.append(i[1])\n",
    "    indice.append(i[0])"
   ]
  },
  {
   "cell_type": "code",
   "execution_count": 43,
   "id": "e55ec4a0",
   "metadata": {},
   "outputs": [],
   "source": [
    "s4 = pd.Series(valor, index = indice)"
   ]
  },
  {
   "cell_type": "code",
   "execution_count": 44,
   "id": "e153fd2a",
   "metadata": {},
   "outputs": [
    {
     "data": {
      "text/plain": [
       "a     1\n",
       "b     2\n",
       "c    13\n",
       "d    24\n",
       "e    30\n",
       "f    40\n",
       "dtype: int64"
      ]
     },
     "execution_count": 44,
     "metadata": {},
     "output_type": "execute_result"
    }
   ],
   "source": [
    "s4"
   ]
  },
  {
   "cell_type": "code",
   "execution_count": 45,
   "id": "c1171cdb",
   "metadata": {},
   "outputs": [
    {
     "data": {
      "text/plain": [
       "a     1.0\n",
       "b     2.0\n",
       "c    13.0\n",
       "d    24.0\n",
       "e    30.0\n",
       "f    40.0\n",
       "dtype: float64"
      ]
     },
     "execution_count": 45,
     "metadata": {},
     "output_type": "execute_result"
    }
   ],
   "source": [
    "s1.add(s2, fill_value = 0)"
   ]
  },
  {
   "cell_type": "code",
   "execution_count": 64,
   "id": "7eaf8f8f",
   "metadata": {},
   "outputs": [
    {
     "data": {
      "text/plain": [
       "['EU amo programar']"
      ]
     },
     "execution_count": 64,
     "metadata": {},
     "output_type": "execute_result"
    }
   ],
   "source": [
    "names = pd.Series([\n",
    "    'Andre Agassi',\n",
    "    'Barry Bonds',\n",
    "    'Christopher Columbus',\n",
    "    'Daniel Defoe',\n",
    "    'Emilio Estevez',\n",
    "    'Fred Flintstone',\n",
    "    'Greta Garbo',\n",
    "    'Humbert Humbert',\n",
    "    'Ivan Ilych',\n",
    "    'James Joyce',\n",
    "    'Keira Knightley',\n",
    "    'Lois Lane',\n",
    "    'Mike Myers',\n",
    "    'Nick Nolte',\n",
    "    'Ozzy Osbourne',\n",
    "    'Pablo Picasso',\n",
    "    'Quirinus Quirrell',\n",
    "    'Rachael Ray',\n",
    "    'Susan Sarandon',\n",
    "    'Tina Turner',\n",
    "    'Ugueth Urbina',\n",
    "    'Vince Vaughn',\n",
    "    'Woodrow Wilson',\n",
    "    'Yoji Yamada',\n",
    "    'Zinedine Zidane'\n",
    "])\n"
   ]
  },
  {
   "cell_type": "code",
   "execution_count": 65,
   "id": "38e54497",
   "metadata": {},
   "outputs": [
    {
     "data": {
      "text/plain": [
       "['Andre Agassi',\n",
       " 'Barry Bonds',\n",
       " 'Christopher Columbus',\n",
       " 'Daniel Defoe',\n",
       " 'Emilio Estevez',\n",
       " 'Fred Flintstone',\n",
       " 'Greta Garbo',\n",
       " 'Humbert Humbert',\n",
       " 'Ivan Ilych',\n",
       " 'James Joyce',\n",
       " 'Keira Knightley',\n",
       " 'Lois Lane',\n",
       " 'Mike Myers',\n",
       " 'Nick Nolte',\n",
       " 'Ozzy Osbourne',\n",
       " 'Pablo Picasso',\n",
       " 'Quirinus Quirrell',\n",
       " 'Rachael Ray',\n",
       " 'Susan Sarandon',\n",
       " 'Tina Turner',\n",
       " 'Ugueth Urbina',\n",
       " 'Vince Vaughn',\n",
       " 'Woodrow Wilson',\n",
       " 'Yoji Yamada',\n",
       " 'Zinedine Zidane']"
      ]
     },
     "execution_count": 65,
     "metadata": {},
     "output_type": "execute_result"
    }
   ],
   "source": [
    "list(names)"
   ]
  },
  {
   "cell_type": "code",
   "execution_count": 79,
   "id": "62b51b9c",
   "metadata": {},
   "outputs": [],
   "source": [
    "def reverse(name):\n",
    "    sep = name.split()\n",
    "    x = sep[1] + ',' + sep[0]\n",
    "    return x"
   ]
  },
  {
   "cell_type": "code",
   "execution_count": 82,
   "id": "5fcd637d",
   "metadata": {},
   "outputs": [],
   "source": [
    "def reverse_names(names):\n",
    "    return names.apply(reverse)"
   ]
  },
  {
   "cell_type": "code",
   "execution_count": 83,
   "id": "5fd0ef10",
   "metadata": {},
   "outputs": [
    {
     "data": {
      "text/plain": [
       "0             Agassi,Andre\n",
       "1              Bonds,Barry\n",
       "2     Columbus,Christopher\n",
       "3             Defoe,Daniel\n",
       "4           Estevez,Emilio\n",
       "5          Flintstone,Fred\n",
       "6              Garbo,Greta\n",
       "7          Humbert,Humbert\n",
       "8               Ilych,Ivan\n",
       "9              Joyce,James\n",
       "10         Knightley,Keira\n",
       "11               Lane,Lois\n",
       "12              Myers,Mike\n",
       "13              Nolte,Nick\n",
       "14           Osbourne,Ozzy\n",
       "15           Picasso,Pablo\n",
       "16       Quirrell,Quirinus\n",
       "17             Ray,Rachael\n",
       "18          Sarandon,Susan\n",
       "19             Turner,Tina\n",
       "20           Urbina,Ugueth\n",
       "21            Vaughn,Vince\n",
       "22          Wilson,Woodrow\n",
       "23             Yamada,Yoji\n",
       "24         Zidane,Zinedine\n",
       "dtype: object"
      ]
     },
     "execution_count": 83,
     "metadata": {},
     "output_type": "execute_result"
    }
   ],
   "source": [
    "reverse_names(names)"
   ]
  },
  {
   "cell_type": "code",
   "execution_count": 96,
   "id": "6acf16fc",
   "metadata": {},
   "outputs": [],
   "source": [
    "employment = pd.read_csv( 'employment_above_15.csv', index_col='Country')\n",
    "female_completion = pd.read_csv('female_completion_rate.csv', index_col='Country')\n",
    "male_completion = pd.read_csv('male_completion_rate.csv', index_col='Country')\n",
    "life_expectancy = pd.read_csv('life_expectancy.csv', index_col='Country')\n",
    "gdp = pd.read_csv('gdp_per_capita.csv', index_col='Country')"
   ]
  },
  {
   "cell_type": "code",
   "execution_count": 89,
   "id": "312a384c",
   "metadata": {},
   "outputs": [],
   "source": [
    "import seaborn as sns"
   ]
  },
  {
   "cell_type": "code",
   "execution_count": 95,
   "id": "ce8ae27c",
   "metadata": {},
   "outputs": [
    {
     "data": {
      "text/plain": [
       "<AxesSubplot:ylabel='Count'>"
      ]
     },
     "execution_count": 95,
     "metadata": {},
     "output_type": "execute_result"
    },
    {
     "data": {
      "image/png": "[encoded data removed]",
      "text/plain": [
       "<Figure size 432x288 with 1 Axes>"
      ]
     },
     "metadata": {
      "needs_background": "light"
     },
     "output_type": "display_data"
    }
   ],
   "source": [
    "sns.histplot(employment_values,bins= 30)"
   ]
  },
  {
   "cell_type": "code",
   "execution_count": 100,
   "id": "88fa79e1",
   "metadata": {},
   "outputs": [
    {
     "name": "stdout",
     "output_type": "stream",
     "text": [
      "Populating the interactive namespace from numpy and matplotlib\n"
     ]
    }
   ],
   "source": [
    "%pylab inline\n",
    "employment_us = employment.loc['Brazil']"
   ]
  },
  {
   "cell_type": "code",
   "execution_count": 102,
   "id": "01da103f",
   "metadata": {},
   "outputs": [
    {
     "data": {
      "text/plain": [
       "<AxesSubplot:>"
      ]
     },
     "execution_count": 102,
     "metadata": {},
     "output_type": "execute_result"
    },
    {
     "data": {
      "image/png": "[encoded data removed]",
      "text/plain": [
       "<Figure size 432x288 with 1 Axes>"
      ]
     },
     "metadata": {
      "needs_background": "light"
     },
     "output_type": "display_data"
    }
   ],
   "source": [
    "employment_us.plot()"
   ]
  },
  {
   "cell_type": "code",
   "execution_count": null,
   "id": "34ac8f0a",
   "metadata": {},
   "outputs": [],
   "source": []
  }
 ],
 "metadata": {
  "kernelspec": {
   "display_name": "Python 3",
   "language": "python",
   "name": "python3"
  },
  "language_info": {
   "codemirror_mode": {
    "name": "ipython",
    "version": 3
   },
   "file_extension": ".py",
   "mimetype": "text/x-python",
   "name": "python",
   "nbconvert_exporter": "python",
   "pygments_lexer": "ipython3",
   "version": "3.8.8"
  }
 },
 "nbformat": 4,
 "nbformat_minor": 5
}
