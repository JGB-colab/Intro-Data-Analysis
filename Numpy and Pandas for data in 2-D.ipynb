{
 "cells": [
  {
   "cell_type": "code",
   "execution_count": 1,
   "id": "cc51e3bf",
   "metadata": {},
   "outputs": [],
   "source": [
    "import numpy as np\n",
    "import pandas as pd"
   ]
  },
  {
   "cell_type": "code",
   "execution_count": 2,
   "id": "82da4900",
   "metadata": {},
   "outputs": [],
   "source": [
    "ridership = np.array([\n",
    "    [   0,    0,    2,    5,    0],\n",
    "    [1478, 3877, 3674, 2328, 2539],\n",
    "    [1613, 4088, 3991, 6461, 2691],\n",
    "    [1560, 3392, 3826, 4787, 2613],\n",
    "    [1608, 4802, 3932, 4477, 2705],\n",
    "    [1576, 3933, 3909, 4979, 2685],\n",
    "    [  95,  229,  255,  496,  201],\n",
    "    [   2,    0,    1,   27,    0],\n",
    "    [1438, 3785, 3589, 4174, 2215],\n",
    "    [1342, 4043, 4009, 4665, 3033]\n",
    "])"
   ]
  },
  {
   "cell_type": "code",
   "execution_count": 3,
   "id": "b414a0ad",
   "metadata": {},
   "outputs": [
    {
     "data": {
      "text/plain": [
       "array([   0, 1478, 1613, 1560, 1608, 1576,   95,    2, 1438, 1342])"
      ]
     },
     "execution_count": 3,
     "metadata": {},
     "output_type": "execute_result"
    }
   ],
   "source": [
    "ridership[:, 0]"
   ]
  },
  {
   "cell_type": "code",
   "execution_count": 4,
   "id": "19bd3338",
   "metadata": {},
   "outputs": [
    {
     "data": {
      "text/plain": [
       "50"
      ]
     },
     "execution_count": 4,
     "metadata": {},
     "output_type": "execute_result"
    }
   ],
   "source": [
    "len(ridership[:,])*len(ridership[0,:])"
   ]
  },
  {
   "cell_type": "code",
   "execution_count": 5,
   "id": "fb8003fe",
   "metadata": {},
   "outputs": [],
   "source": [
    "ind = np.unravel_index(np.argmax(ridership), (10,5))"
   ]
  },
  {
   "cell_type": "code",
   "execution_count": 6,
   "id": "3aa6348b",
   "metadata": {},
   "outputs": [
    {
     "data": {
      "text/plain": [
       "3239.9"
      ]
     },
     "execution_count": 6,
     "metadata": {},
     "output_type": "execute_result"
    }
   ],
   "source": [
    "ridership[:,ind[1]].mean()"
   ]
  },
  {
   "cell_type": "code",
   "execution_count": 7,
   "id": "3962c6c5",
   "metadata": {},
   "outputs": [
    {
     "name": "stdout",
     "output_type": "stream",
     "text": [
      "10712.0\n"
     ]
    }
   ],
   "source": [
    "s = 0\n",
    "for i in range(len(ridership[0])):\n",
    "    s+= ridership[:,0].sum()\n",
    "print(s/len(ridership[0]))"
   ]
  },
  {
   "cell_type": "code",
   "execution_count": 8,
   "id": "bd164266",
   "metadata": {},
   "outputs": [
    {
     "data": {
      "text/plain": [
       "array([2, 4, 9, 2, 9], dtype=int64)"
      ]
     },
     "execution_count": 8,
     "metadata": {},
     "output_type": "execute_result"
    }
   ],
   "source": [
    "np.argmax(ridership,axis=0)"
   ]
  },
  {
   "cell_type": "code",
   "execution_count": 9,
   "id": "d6b131fb",
   "metadata": {},
   "outputs": [],
   "source": [
    "aux = ridership.sum(axis=0)/len(ridership[0,:])"
   ]
  },
  {
   "cell_type": "code",
   "execution_count": 10,
   "id": "521be18c",
   "metadata": {},
   "outputs": [
    {
     "data": {
      "text/plain": [
       "6479.8"
      ]
     },
     "execution_count": 10,
     "metadata": {},
     "output_type": "execute_result"
    }
   ],
   "source": [
    "aux.max()"
   ]
  },
  {
   "cell_type": "code",
   "execution_count": 11,
   "id": "c16ef104",
   "metadata": {},
   "outputs": [
    {
     "data": {
      "text/plain": [
       "2142.4"
      ]
     },
     "execution_count": 11,
     "metadata": {},
     "output_type": "execute_result"
    }
   ],
   "source": [
    "aux.min()"
   ]
  },
  {
   "cell_type": "code",
   "execution_count": 12,
   "id": "c2200beb",
   "metadata": {},
   "outputs": [],
   "source": [
    "ridership_df = pd.DataFrame(\n",
    "    data=[[   0,    0,    2,    5,    0],\n",
    "          [1478, 3877, 3674, 2328, 2539],\n",
    "          [1613, 4088, 3991, 6461, 2691],\n",
    "          [1560, 3392, 3826, 4787, 2613],\n",
    "          [1608, 4802, 3932, 4477, 2705],\n",
    "          [1576, 3933, 3909, 4979, 2685],\n",
    "          [  95,  229,  255,  496,  201],\n",
    "          [   2,    0,    1,   27,    0],\n",
    "          [1438, 3785, 3589, 4174, 2215],\n",
    "          [1342, 4043, 4009, 4665, 3033]],\n",
    "    index=['05-01-11', '05-02-11', '05-03-11', '05-04-11', '05-05-11',\n",
    "           '05-06-11', '05-07-11', '05-08-11', '05-09-11', '05-10-11'],\n",
    "    columns=['R003', 'R004', 'R005', 'R006', 'R007'])"
   ]
  },
  {
   "cell_type": "code",
   "execution_count": 13,
   "id": "213b4a14",
   "metadata": {},
   "outputs": [],
   "source": [
    "def position_max(array1):\n",
    "    for i in range(0,len(array1[:,0])):\n",
    "        for j in range(0,len(array1[0,:])):\n",
    "                 if array1[i,j] == array1.max():\n",
    "                     k = i ; l = j\n",
    "    return (k,l,array1.max())"
   ]
  },
  {
   "cell_type": "code",
   "execution_count": 14,
   "id": "921a3a1c",
   "metadata": {},
   "outputs": [],
   "source": [
    "position  = position_max(ridership_df.values)"
   ]
  },
  {
   "cell_type": "code",
   "execution_count": 15,
   "id": "61a08a3e",
   "metadata": {},
   "outputs": [
    {
     "data": {
      "text/plain": [
       "6461"
      ]
     },
     "execution_count": 15,
     "metadata": {},
     "output_type": "execute_result"
    }
   ],
   "source": [
    "ridership[position[0],position[1]]"
   ]
  },
  {
   "cell_type": "code",
   "execution_count": 16,
   "id": "f1cca3be",
   "metadata": {},
   "outputs": [
    {
     "data": {
      "text/plain": [
       "3239.9"
      ]
     },
     "execution_count": 16,
     "metadata": {},
     "output_type": "execute_result"
    }
   ],
   "source": [
    "ridership_df.values[:,position[1]].mean()"
   ]
  },
  {
   "cell_type": "code",
   "execution_count": 17,
   "id": "13e359e2",
   "metadata": {},
   "outputs": [
    {
     "data": {
      "text/plain": [
       "2342.6"
      ]
     },
     "execution_count": 17,
     "metadata": {},
     "output_type": "execute_result"
    }
   ],
   "source": [
    "ridership_df.values.mean()"
   ]
  },
  {
   "cell_type": "code",
   "execution_count": 18,
   "id": "75b36216",
   "metadata": {
    "scrolled": true
   },
   "outputs": [
    {
     "data": {
      "text/plain": [
       "3"
      ]
     },
     "execution_count": 18,
     "metadata": {},
     "output_type": "execute_result"
    }
   ],
   "source": [
    "ridership_df.iloc[0].argmax()"
   ]
  },
  {
   "cell_type": "code",
   "execution_count": 19,
   "id": "c94c5fe2",
   "metadata": {},
   "outputs": [
    {
     "data": {
      "text/plain": [
       "3239.9"
      ]
     },
     "execution_count": 19,
     "metadata": {},
     "output_type": "execute_result"
    }
   ],
   "source": [
    "ridership_df[ridership_df.columns[3]].mean()"
   ]
  },
  {
   "cell_type": "code",
   "execution_count": 20,
   "id": "62372500",
   "metadata": {},
   "outputs": [
    {
     "data": {
      "text/plain": [
       "R003    1071.2\n",
       "R004    2814.9\n",
       "R005    2718.8\n",
       "R006    3239.9\n",
       "R007    1868.2\n",
       "dtype: float64"
      ]
     },
     "execution_count": 20,
     "metadata": {},
     "output_type": "execute_result"
    }
   ],
   "source": [
    "ridership_df.mean()"
   ]
  },
  {
   "cell_type": "code",
   "execution_count": 21,
   "id": "c051779d",
   "metadata": {},
   "outputs": [],
   "source": [
    "subway_weather = pd.read_csv('nyc_subway_weather.csv')"
   ]
  },
  {
   "cell_type": "code",
   "execution_count": 22,
   "id": "cd198427",
   "metadata": {},
   "outputs": [],
   "source": [
    "desc = subway_weather"
   ]
  },
  {
   "cell_type": "code",
   "execution_count": 23,
   "id": "119d13e7",
   "metadata": {},
   "outputs": [
    {
     "name": "stdout",
     "output_type": "stream",
     "text": [
      "Index(['UNIT', 'DATEn', 'TIMEn', 'ENTRIESn', 'EXITSn', 'ENTRIESn_hourly',\n",
      "       'EXITSn_hourly', 'datetime', 'hour', 'day_week', 'weekday', 'station',\n",
      "       'latitude', 'longitude', 'conds', 'fog', 'precipi', 'pressurei', 'rain',\n",
      "       'tempi', 'wspdi', 'meanprecipi', 'meanpressurei', 'meantempi',\n",
      "       'meanwspdi', 'weather_lat', 'weather_lon'],\n",
      "      dtype='object')\n"
     ]
    }
   ],
   "source": [
    "print(desc.columns)"
   ]
  },
  {
   "cell_type": "code",
   "execution_count": 24,
   "id": "1b4d346f",
   "metadata": {},
   "outputs": [
    {
     "data": {
      "text/html": [
       "<div>\n",
       "<style scoped>\n",
       "    .dataframe tbody tr th:only-of-type {\n",
       "        vertical-align: middle;\n",
       "    }\n",
       "\n",
       "    .dataframe tbody tr th {\n",
       "        vertical-align: top;\n",
       "    }\n",
       "\n",
       "    .dataframe thead th {\n",
       "        text-align: right;\n",
       "    }\n",
       "</style>\n",
       "<table border=\"1\" class=\"dataframe\">\n",
       "  <thead>\n",
       "    <tr style=\"text-align: right;\">\n",
       "      <th></th>\n",
       "      <th>UNIT</th>\n",
       "      <th>DATEn</th>\n",
       "      <th>TIMEn</th>\n",
       "      <th>ENTRIESn</th>\n",
       "      <th>EXITSn</th>\n",
       "      <th>ENTRIESn_hourly</th>\n",
       "      <th>EXITSn_hourly</th>\n",
       "      <th>datetime</th>\n",
       "      <th>hour</th>\n",
       "      <th>day_week</th>\n",
       "      <th>...</th>\n",
       "      <th>pressurei</th>\n",
       "      <th>rain</th>\n",
       "      <th>tempi</th>\n",
       "      <th>wspdi</th>\n",
       "      <th>meanprecipi</th>\n",
       "      <th>meanpressurei</th>\n",
       "      <th>meantempi</th>\n",
       "      <th>meanwspdi</th>\n",
       "      <th>weather_lat</th>\n",
       "      <th>weather_lon</th>\n",
       "    </tr>\n",
       "  </thead>\n",
       "  <tbody>\n",
       "    <tr>\n",
       "      <th>5</th>\n",
       "      <td>R003</td>\n",
       "      <td>05-02-11</td>\n",
       "      <td>00:00:00</td>\n",
       "      <td>4388348</td>\n",
       "      <td>2911036</td>\n",
       "      <td>15.0</td>\n",
       "      <td>34.0</td>\n",
       "      <td>2011-05-02 00:00:00</td>\n",
       "      <td>0</td>\n",
       "      <td>0</td>\n",
       "      <td>...</td>\n",
       "      <td>30.31</td>\n",
       "      <td>0</td>\n",
       "      <td>50.0</td>\n",
       "      <td>6.9</td>\n",
       "      <td>0.0</td>\n",
       "      <td>30.238333</td>\n",
       "      <td>54.166667</td>\n",
       "      <td>8.250000</td>\n",
       "      <td>40.700348</td>\n",
       "      <td>-73.887177</td>\n",
       "    </tr>\n",
       "    <tr>\n",
       "      <th>6</th>\n",
       "      <td>R003</td>\n",
       "      <td>05-02-11</td>\n",
       "      <td>04:00:00</td>\n",
       "      <td>5818689</td>\n",
       "      <td>3874767</td>\n",
       "      <td>19.0</td>\n",
       "      <td>40.0</td>\n",
       "      <td>2011-05-02 04:00:00</td>\n",
       "      <td>4</td>\n",
       "      <td>0</td>\n",
       "      <td>...</td>\n",
       "      <td>30.27</td>\n",
       "      <td>0</td>\n",
       "      <td>50.0</td>\n",
       "      <td>4.6</td>\n",
       "      <td>0.0</td>\n",
       "      <td>30.238333</td>\n",
       "      <td>54.166667</td>\n",
       "      <td>8.250000</td>\n",
       "      <td>40.700348</td>\n",
       "      <td>-73.887177</td>\n",
       "    </tr>\n",
       "    <tr>\n",
       "      <th>7</th>\n",
       "      <td>R003</td>\n",
       "      <td>05-02-11</td>\n",
       "      <td>08:00:00</td>\n",
       "      <td>4388855</td>\n",
       "      <td>2911194</td>\n",
       "      <td>488.0</td>\n",
       "      <td>118.0</td>\n",
       "      <td>2011-05-02 08:00:00</td>\n",
       "      <td>8</td>\n",
       "      <td>0</td>\n",
       "      <td>...</td>\n",
       "      <td>30.30</td>\n",
       "      <td>0</td>\n",
       "      <td>53.1</td>\n",
       "      <td>10.4</td>\n",
       "      <td>0.0</td>\n",
       "      <td>30.238333</td>\n",
       "      <td>54.166667</td>\n",
       "      <td>8.250000</td>\n",
       "      <td>40.700348</td>\n",
       "      <td>-73.887177</td>\n",
       "    </tr>\n",
       "    <tr>\n",
       "      <th>8</th>\n",
       "      <td>R003</td>\n",
       "      <td>05-02-11</td>\n",
       "      <td>12:00:00</td>\n",
       "      <td>4389345</td>\n",
       "      <td>2911326</td>\n",
       "      <td>490.0</td>\n",
       "      <td>132.0</td>\n",
       "      <td>2011-05-02 12:00:00</td>\n",
       "      <td>12</td>\n",
       "      <td>0</td>\n",
       "      <td>...</td>\n",
       "      <td>30.24</td>\n",
       "      <td>0</td>\n",
       "      <td>57.0</td>\n",
       "      <td>11.5</td>\n",
       "      <td>0.0</td>\n",
       "      <td>30.238333</td>\n",
       "      <td>54.166667</td>\n",
       "      <td>8.250000</td>\n",
       "      <td>40.700348</td>\n",
       "      <td>-73.887177</td>\n",
       "    </tr>\n",
       "    <tr>\n",
       "      <th>9</th>\n",
       "      <td>R003</td>\n",
       "      <td>05-02-11</td>\n",
       "      <td>16:00:00</td>\n",
       "      <td>4389576</td>\n",
       "      <td>2911558</td>\n",
       "      <td>231.0</td>\n",
       "      <td>232.0</td>\n",
       "      <td>2011-05-02 16:00:00</td>\n",
       "      <td>16</td>\n",
       "      <td>0</td>\n",
       "      <td>...</td>\n",
       "      <td>30.16</td>\n",
       "      <td>0</td>\n",
       "      <td>59.0</td>\n",
       "      <td>11.5</td>\n",
       "      <td>0.0</td>\n",
       "      <td>30.238333</td>\n",
       "      <td>54.166667</td>\n",
       "      <td>8.250000</td>\n",
       "      <td>40.700348</td>\n",
       "      <td>-73.887177</td>\n",
       "    </tr>\n",
       "    <tr>\n",
       "      <th>...</th>\n",
       "      <td>...</td>\n",
       "      <td>...</td>\n",
       "      <td>...</td>\n",
       "      <td>...</td>\n",
       "      <td>...</td>\n",
       "      <td>...</td>\n",
       "      <td>...</td>\n",
       "      <td>...</td>\n",
       "      <td>...</td>\n",
       "      <td>...</td>\n",
       "      <td>...</td>\n",
       "      <td>...</td>\n",
       "      <td>...</td>\n",
       "      <td>...</td>\n",
       "      <td>...</td>\n",
       "      <td>...</td>\n",
       "      <td>...</td>\n",
       "      <td>...</td>\n",
       "      <td>...</td>\n",
       "      <td>...</td>\n",
       "      <td>...</td>\n",
       "    </tr>\n",
       "    <tr>\n",
       "      <th>42472</th>\n",
       "      <td>R459</td>\n",
       "      <td>05-30-11</td>\n",
       "      <td>16:00:00</td>\n",
       "      <td>543248</td>\n",
       "      <td>29529</td>\n",
       "      <td>658.0</td>\n",
       "      <td>37.0</td>\n",
       "      <td>2011-05-30 16:00:00</td>\n",
       "      <td>16</td>\n",
       "      <td>0</td>\n",
       "      <td>...</td>\n",
       "      <td>30.05</td>\n",
       "      <td>0</td>\n",
       "      <td>86.0</td>\n",
       "      <td>9.2</td>\n",
       "      <td>0.0</td>\n",
       "      <td>30.063333</td>\n",
       "      <td>78.166667</td>\n",
       "      <td>9.583333</td>\n",
       "      <td>40.844334</td>\n",
       "      <td>-73.830376</td>\n",
       "    </tr>\n",
       "    <tr>\n",
       "      <th>42473</th>\n",
       "      <td>R459</td>\n",
       "      <td>05-30-11</td>\n",
       "      <td>20:00:00</td>\n",
       "      <td>546793</td>\n",
       "      <td>29564</td>\n",
       "      <td>3545.0</td>\n",
       "      <td>35.0</td>\n",
       "      <td>2011-05-30 20:00:00</td>\n",
       "      <td>20</td>\n",
       "      <td>0</td>\n",
       "      <td>...</td>\n",
       "      <td>30.08</td>\n",
       "      <td>0</td>\n",
       "      <td>82.0</td>\n",
       "      <td>6.9</td>\n",
       "      <td>0.0</td>\n",
       "      <td>30.063333</td>\n",
       "      <td>78.166667</td>\n",
       "      <td>9.583333</td>\n",
       "      <td>40.844334</td>\n",
       "      <td>-73.830376</td>\n",
       "    </tr>\n",
       "    <tr>\n",
       "      <th>42474</th>\n",
       "      <td>R459</td>\n",
       "      <td>05-31-11</td>\n",
       "      <td>00:00:00</td>\n",
       "      <td>547062</td>\n",
       "      <td>29572</td>\n",
       "      <td>269.0</td>\n",
       "      <td>8.0</td>\n",
       "      <td>2011-05-31 00:00:00</td>\n",
       "      <td>0</td>\n",
       "      <td>1</td>\n",
       "      <td>...</td>\n",
       "      <td>30.12</td>\n",
       "      <td>0</td>\n",
       "      <td>78.1</td>\n",
       "      <td>5.8</td>\n",
       "      <td>0.0</td>\n",
       "      <td>30.158333</td>\n",
       "      <td>77.133333</td>\n",
       "      <td>7.683333</td>\n",
       "      <td>40.844334</td>\n",
       "      <td>-73.830376</td>\n",
       "    </tr>\n",
       "    <tr>\n",
       "      <th>42478</th>\n",
       "      <td>R459</td>\n",
       "      <td>05-31-11</td>\n",
       "      <td>16:00:00</td>\n",
       "      <td>547063</td>\n",
       "      <td>29588</td>\n",
       "      <td>1.0</td>\n",
       "      <td>16.0</td>\n",
       "      <td>2011-05-31 16:00:00</td>\n",
       "      <td>16</td>\n",
       "      <td>1</td>\n",
       "      <td>...</td>\n",
       "      <td>30.15</td>\n",
       "      <td>0</td>\n",
       "      <td>82.9</td>\n",
       "      <td>9.2</td>\n",
       "      <td>0.0</td>\n",
       "      <td>30.158333</td>\n",
       "      <td>77.133333</td>\n",
       "      <td>7.683333</td>\n",
       "      <td>40.844334</td>\n",
       "      <td>-73.830376</td>\n",
       "    </tr>\n",
       "    <tr>\n",
       "      <th>42479</th>\n",
       "      <td>R459</td>\n",
       "      <td>05-31-11</td>\n",
       "      <td>20:00:00</td>\n",
       "      <td>547063</td>\n",
       "      <td>29593</td>\n",
       "      <td>0.0</td>\n",
       "      <td>5.0</td>\n",
       "      <td>2011-05-31 20:00:00</td>\n",
       "      <td>20</td>\n",
       "      <td>1</td>\n",
       "      <td>...</td>\n",
       "      <td>30.16</td>\n",
       "      <td>0</td>\n",
       "      <td>73.9</td>\n",
       "      <td>9.2</td>\n",
       "      <td>0.0</td>\n",
       "      <td>30.158333</td>\n",
       "      <td>77.133333</td>\n",
       "      <td>7.683333</td>\n",
       "      <td>40.844334</td>\n",
       "      <td>-73.830376</td>\n",
       "    </tr>\n",
       "  </tbody>\n",
       "</table>\n",
       "<p>41909 rows × 27 columns</p>\n",
       "</div>"
      ],
      "text/plain": [
       "       UNIT     DATEn     TIMEn  ENTRIESn   EXITSn  ENTRIESn_hourly  \\\n",
       "5      R003  05-02-11  00:00:00   4388348  2911036             15.0   \n",
       "6      R003  05-02-11  04:00:00   5818689  3874767             19.0   \n",
       "7      R003  05-02-11  08:00:00   4388855  2911194            488.0   \n",
       "8      R003  05-02-11  12:00:00   4389345  2911326            490.0   \n",
       "9      R003  05-02-11  16:00:00   4389576  2911558            231.0   \n",
       "...     ...       ...       ...       ...      ...              ...   \n",
       "42472  R459  05-30-11  16:00:00    543248    29529            658.0   \n",
       "42473  R459  05-30-11  20:00:00    546793    29564           3545.0   \n",
       "42474  R459  05-31-11  00:00:00    547062    29572            269.0   \n",
       "42478  R459  05-31-11  16:00:00    547063    29588              1.0   \n",
       "42479  R459  05-31-11  20:00:00    547063    29593              0.0   \n",
       "\n",
       "       EXITSn_hourly             datetime  hour  day_week  ...  pressurei  \\\n",
       "5               34.0  2011-05-02 00:00:00     0         0  ...      30.31   \n",
       "6               40.0  2011-05-02 04:00:00     4         0  ...      30.27   \n",
       "7              118.0  2011-05-02 08:00:00     8         0  ...      30.30   \n",
       "8              132.0  2011-05-02 12:00:00    12         0  ...      30.24   \n",
       "9              232.0  2011-05-02 16:00:00    16         0  ...      30.16   \n",
       "...              ...                  ...   ...       ...  ...        ...   \n",
       "42472           37.0  2011-05-30 16:00:00    16         0  ...      30.05   \n",
       "42473           35.0  2011-05-30 20:00:00    20         0  ...      30.08   \n",
       "42474            8.0  2011-05-31 00:00:00     0         1  ...      30.12   \n",
       "42478           16.0  2011-05-31 16:00:00    16         1  ...      30.15   \n",
       "42479            5.0  2011-05-31 20:00:00    20         1  ...      30.16   \n",
       "\n",
       "      rain  tempi  wspdi meanprecipi  meanpressurei  meantempi  meanwspdi  \\\n",
       "5        0   50.0    6.9         0.0      30.238333  54.166667   8.250000   \n",
       "6        0   50.0    4.6         0.0      30.238333  54.166667   8.250000   \n",
       "7        0   53.1   10.4         0.0      30.238333  54.166667   8.250000   \n",
       "8        0   57.0   11.5         0.0      30.238333  54.166667   8.250000   \n",
       "9        0   59.0   11.5         0.0      30.238333  54.166667   8.250000   \n",
       "...    ...    ...    ...         ...            ...        ...        ...   \n",
       "42472    0   86.0    9.2         0.0      30.063333  78.166667   9.583333   \n",
       "42473    0   82.0    6.9         0.0      30.063333  78.166667   9.583333   \n",
       "42474    0   78.1    5.8         0.0      30.158333  77.133333   7.683333   \n",
       "42478    0   82.9    9.2         0.0      30.158333  77.133333   7.683333   \n",
       "42479    0   73.9    9.2         0.0      30.158333  77.133333   7.683333   \n",
       "\n",
       "       weather_lat  weather_lon  \n",
       "5        40.700348   -73.887177  \n",
       "6        40.700348   -73.887177  \n",
       "7        40.700348   -73.887177  \n",
       "8        40.700348   -73.887177  \n",
       "9        40.700348   -73.887177  \n",
       "...            ...          ...  \n",
       "42472    40.844334   -73.830376  \n",
       "42473    40.844334   -73.830376  \n",
       "42474    40.844334   -73.830376  \n",
       "42478    40.844334   -73.830376  \n",
       "42479    40.844334   -73.830376  \n",
       "\n",
       "[41909 rows x 27 columns]"
      ]
     },
     "execution_count": 24,
     "metadata": {},
     "output_type": "execute_result"
    }
   ],
   "source": [
    "desc['ENTRIESn_hourly']\n",
    "desc[desc['EXITSn_hourly']>0]"
   ]
  },
  {
   "cell_type": "code",
   "execution_count": 25,
   "id": "34e1bc39",
   "metadata": {},
   "outputs": [],
   "source": [
    "def correlation(x, y):\n",
    "    des_x = x - x.mean()\n",
    "    des_y = y - y.mean()\n",
    "    n = (des_x*des_y).sum()\n",
    "    p = n/(des_x.std(ddof=0)*des_y.std(ddof=0))\n",
    "    return p"
   ]
  },
  {
   "cell_type": "code",
   "execution_count": 26,
   "id": "cf6d34b8",
   "metadata": {},
   "outputs": [
    {
     "ename": "NameError",
     "evalue": "name 'entries' is not defined",
     "output_type": "error",
     "traceback": [
      "\u001b[1;31m---------------------------------------------------------------------------\u001b[0m",
      "\u001b[1;31mNameError\u001b[0m                                 Traceback (most recent call last)",
      "\u001b[1;32m<ipython-input-26-5a0e06d95550>\u001b[0m in \u001b[0;36m<module>\u001b[1;34m\u001b[0m\n\u001b[1;32m----> 1\u001b[1;33m \u001b[1;33m(\u001b[0m\u001b[0mentries\u001b[0m \u001b[1;33m-\u001b[0m \u001b[0mentries\u001b[0m\u001b[1;33m.\u001b[0m\u001b[0mmean\u001b[0m\u001b[1;33m(\u001b[0m\u001b[1;33m)\u001b[0m\u001b[1;33m)\u001b[0m\u001b[1;33m\u001b[0m\u001b[1;33m\u001b[0m\u001b[0m\n\u001b[0m",
      "\u001b[1;31mNameError\u001b[0m: name 'entries' is not defined"
     ]
    }
   ],
   "source": [
    "(entries - entries.mean())"
   ]
  },
  {
   "cell_type": "code",
   "execution_count": null,
   "id": "64ebd5e8",
   "metadata": {},
   "outputs": [],
   "source": [
    "entries.std(ddof=0)"
   ]
  },
  {
   "cell_type": "code",
   "execution_count": null,
   "id": "fd751f19",
   "metadata": {},
   "outputs": [],
   "source": [
    "entries_and_exits = pd.DataFrame({\n",
    "    'ENTRIESn': [3144312, 3144335, 3144353, 3144424, 3144594,\n",
    "                 3144808, 3144895, 3144905, 3144941, 3145094],\n",
    "    'EXITSn': [1088151, 1088159, 1088177, 1088231, 1088275,\n",
    "               1088317, 1088328, 1088331, 1088420, 1088753]\n",
    "})\n",
    "\n",
    "def get_hourly_entries_and_exits(entries_and_exits):\n",
    "    return entries_and_exits -  entries_and_exits.shift(1)"
   ]
  },
  {
   "cell_type": "code",
   "execution_count": null,
   "id": "747de1fd",
   "metadata": {},
   "outputs": [],
   "source": [
    " get_hourly_entries_and_exits(entries_and_exits)"
   ]
  },
  {
   "cell_type": "code",
   "execution_count": null,
   "id": "c83b6fa6",
   "metadata": {},
   "outputs": [],
   "source": [
    "#Desloque a linha pela quantidade indicada de períodos de deslocamento\n",
    "entries_and_exits.shift(1)"
   ]
  },
  {
   "cell_type": "code",
   "execution_count": null,
   "id": "9dbeddb1",
   "metadata": {},
   "outputs": [],
   "source": [
    "entries_and_exits"
   ]
  },
  {
   "cell_type": "code",
   "execution_count": null,
   "id": "4c7c5cf7",
   "metadata": {},
   "outputs": [],
   "source": [
    "grades_df = pd.DataFrame(\n",
    "    data={'exam1': [43, 81, 78, 75, 89, 70, 91, 65, 98, 87],\n",
    "          'exam2': [24, 63, 56, 56, 67, 51, 79, 46, 72, 60]},\n",
    "    index=['Andre', 'Barry', 'Chris', 'Dan', 'Emilio', \n",
    "           'Fred', 'Greta', 'Humbert', 'Ivan', 'James']\n",
    ")"
   ]
  },
  {
   "cell_type": "code",
   "execution_count": null,
   "id": "f4f8b441",
   "metadata": {},
   "outputs": [],
   "source": [
    "def convert_grades(grades):\n",
    "    if 90<= grades <= 100:\n",
    "        grade = 'A'\n",
    "    elif  80<=grades<= 89:\n",
    "        grade = 'B'\n",
    "    elif 70<=grades<=79:\n",
    "        grade ='C'\n",
    "    elif 60<= grades<=69:\n",
    "        grade='D'\n",
    "    else:\n",
    "        grade='F'\n",
    "    return grade"
   ]
  },
  {
   "cell_type": "code",
   "execution_count": null,
   "id": "1e94688c",
   "metadata": {},
   "outputs": [],
   "source": [
    "grades_df.applymap(convert_grades)"
   ]
  },
  {
   "cell_type": "code",
   "execution_count": null,
   "id": "b9c68348",
   "metadata": {},
   "outputs": [],
   "source": [
    "if True:\n",
    "    def convert_grades_curve(exam_grades):\n",
    "        # Pandas has a bult-in function that will perform this calculation\n",
    "        # This will give the bottom 0% to 10% of students the grade 'F',\n",
    "        # 10% to 20% the grade 'D', and so on. You can read more about\n",
    "        # the qcut() function here:\n",
    "        # http://pandas.pydata.org/pandas-docs/stable/generated/pandas.qcut.html\n",
    "        return pd.qcut(exam_grades,\n",
    "                       [0, 0.1, 0.2, 0.5, 0.8, 1],\n",
    "                       labels=['F', 'D', 'C', 'B', 'A'])\n",
    "        "
   ]
  },
  {
   "cell_type": "code",
   "execution_count": null,
   "id": "27cfde06",
   "metadata": {},
   "outputs": [],
   "source": [
    "convert_grades_curve(grades_df['exam1'])"
   ]
  },
  {
   "cell_type": "code",
   "execution_count": null,
   "id": "a80e9f9b",
   "metadata": {},
   "outputs": [],
   "source": [
    "def stada\n",
    "grades_df.apply()"
   ]
  },
  {
   "cell_type": "code",
   "execution_count": null,
   "id": "dd5dfd89",
   "metadata": {},
   "outputs": [],
   "source": [
    "grades_df.std()"
   ]
  },
  {
   "cell_type": "code",
   "execution_count": null,
   "id": "3268a0c5",
   "metadata": {},
   "outputs": [],
   "source": [
    "pd.qcut(grades_df['exam1'],q =2)"
   ]
  },
  {
   "cell_type": "code",
   "execution_count": null,
   "id": "a9dabfd9",
   "metadata": {},
   "outputs": [],
   "source": [
    "x =list(grades_df['exam1'].values)"
   ]
  },
  {
   "cell_type": "code",
   "execution_count": null,
   "id": "b2b4be2b",
   "metadata": {},
   "outputs": [],
   "source": [
    "x"
   ]
  },
  {
   "cell_type": "code",
   "execution_count": null,
   "id": "63ded015",
   "metadata": {},
   "outputs": [],
   "source": [
    "def padronizar(df):\n",
    "    return (df -df.mean())/df.std(ddof=0)"
   ]
  },
  {
   "cell_type": "code",
   "execution_count": null,
   "id": "0c6719e2",
   "metadata": {},
   "outputs": [],
   "source": [
    "grades_df.apply(padronizar)"
   ]
  },
  {
   "cell_type": "code",
   "execution_count": null,
   "id": "0bae5956",
   "metadata": {},
   "outputs": [],
   "source": [
    "x = pd.Series([25, 20, 5, 15, 10])"
   ]
  },
  {
   "cell_type": "code",
   "execution_count": null,
   "id": "e5919729",
   "metadata": {},
   "outputs": [],
   "source": [
    "def second(df):\n",
    "    y = list(df)\n",
    "    y.sort()\n",
    "    seriey = pd.Series(y)\n",
    "    return seriey[len(seriey)-2]"
   ]
  },
  {
   "cell_type": "code",
   "execution_count": null,
   "id": "a216e118",
   "metadata": {},
   "outputs": [],
   "source": [
    "grades_df.apply(second)"
   ]
  },
  {
   "cell_type": "code",
   "execution_count": null,
   "id": "45ac7f6b",
   "metadata": {},
   "outputs": [],
   "source": [
    "df = pd.DataFrame({\n",
    "    'a': [4, 5, 3, 1, 2],\n",
    "    'b': [20, 10, 40, 50, 30],\n",
    "    'c': [25, 20, 5, 15, 10]\n",
    "})\n"
   ]
  },
  {
   "cell_type": "code",
   "execution_count": null,
   "id": "f7c73cc9",
   "metadata": {},
   "outputs": [],
   "source": [
    "df.apply(second)"
   ]
  },
  {
   "cell_type": "code",
   "execution_count": null,
   "id": "af25cf42",
   "metadata": {},
   "outputs": [],
   "source": [
    "def second(column):\n",
    "    ordem = column.sort_values(ascending = False)\n",
    "    return ordem.iloc[1]\n",
    "\n",
    "def second_largest(df):\n",
    "    return df.apply(second)"
   ]
  },
  {
   "cell_type": "code",
   "execution_count": null,
   "id": "7cae50bc",
   "metadata": {},
   "outputs": [],
   "source": [
    "second(df['a'])"
   ]
  },
  {
   "cell_type": "code",
   "execution_count": null,
   "id": "391a8626",
   "metadata": {},
   "outputs": [],
   "source": [
    "second_largest(df)"
   ]
  },
  {
   "cell_type": "code",
   "execution_count": null,
   "id": "c42093f5",
   "metadata": {},
   "outputs": [],
   "source": [
    "if True:\n",
    "    s = pd.Series([1, 2, 3, 4])\n",
    "    df = pd.DataFrame({\n",
    "        0: [10, 20, 30, 40],\n",
    "        1: [50, 60, 70, 80],\n",
    "        2: [90, 100, 110, 120],\n",
    "        3: [130, 140, 150, 160]})\n",
    "    \n",
    "print (df)\n",
    "print ('') # Create a blank line between outputs\n",
    "print (df + s)\n",
    "    \n"
   ]
  },
  {
   "cell_type": "code",
   "execution_count": null,
   "id": "f87450a7",
   "metadata": {},
   "outputs": [],
   "source": [
    "grades_df = pd.DataFrame(\n",
    "    data={'exam1': [43, 81, 78, 75, 89, 70, 91, 65, 98, 87],\n",
    "          'exam2': [24, 63, 56, 56, 67, 51, 79, 46, 72, 60]},\n",
    "    index=['Andre', 'Barry', 'Chris', 'Dan', 'Emilio', \n",
    "           'Fred', 'Greta', 'Humbert', 'Ivan', 'James']\n",
    ")\n",
    "x = grades_df.mean()\n",
    "y = grades_df.std()\n",
    "seriemean= pd.Series(x.values,index=['exam1','exam2'])\n",
    "seriestd = pd.Series(y.values,index =['exam1','exam2'])"
   ]
  },
  {
   "cell_type": "code",
   "execution_count": null,
   "id": "7636bb06",
   "metadata": {},
   "outputs": [],
   "source": [
    "x =(grades_df - seriemean)/seriestd"
   ]
  },
  {
   "cell_type": "code",
   "execution_count": null,
   "id": "23b2d137",
   "metadata": {},
   "outputs": [],
   "source": [
    "grades_df"
   ]
  },
  {
   "cell_type": "code",
   "execution_count": null,
   "id": "9cadd0ea",
   "metadata": {},
   "outputs": [],
   "source": [
    "seriemean"
   ]
  },
  {
   "cell_type": "code",
   "execution_count": null,
   "id": "4f7969b4",
   "metadata": {},
   "outputs": [],
   "source": [
    "e1 = []\n",
    "e2 = []\n",
    "def std_rows(df):\n",
    "    for i in df.index:\n",
    "        pdr = (df.loc[i] - df.loc[i].mean())/df.loc[i].std()\n",
    "        e1.append(pdr.values[0]); e2.append(pdr.values[1])\n",
    "\n",
    "    new_df = pd.DataFrame(data={'exam1': e1,\n",
    "                            'exam2': e2},\n",
    "                          index = df.index)\n",
    "    \n",
    "    return new_df"
   ]
  },
  {
   "cell_type": "code",
   "execution_count": null,
   "id": "7b78020c",
   "metadata": {},
   "outputs": [],
   "source": [
    "pdr = (grades_df.loc['Andre']- grades_df.loc['Andre'].mean())/grades_df.loc['Andre'].std()"
   ]
  },
  {
   "cell_type": "code",
   "execution_count": null,
   "id": "67ecf8ed",
   "metadata": {},
   "outputs": [],
   "source": [
    "pdr.index"
   ]
  },
  {
   "cell_type": "code",
   "execution_count": null,
   "id": "196dd52b",
   "metadata": {},
   "outputs": [],
   "source": [
    "pdr.values[0]"
   ]
  },
  {
   "cell_type": "code",
   "execution_count": null,
   "id": "f6845dfb",
   "metadata": {},
   "outputs": [],
   "source": [
    "std_rows(grades_df)"
   ]
  },
  {
   "cell_type": "code",
   "execution_count": null,
   "id": "d0aef8b2",
   "metadata": {},
   "outputs": [],
   "source": [
    "print(grades_df.mean(axis='index'))"
   ]
  },
  {
   "cell_type": "code",
   "execution_count": null,
   "id": "429b4a7e",
   "metadata": {},
   "outputs": [],
   "source": [
    "#Solução alternativa ao longo das colunas(padrão do pandas), para padronizas aos colunas\n",
    "#Padronização em relação aos exames 1 e 2\n",
    "(grades_df - grades_df.mean())/ grades_df.std()"
   ]
  },
  {
   "cell_type": "code",
   "execution_count": null,
   "id": "e561e0ed",
   "metadata": {},
   "outputs": [],
   "source": [
    "#Solução alternativa ao longo das linhas, para padronizar as linhas \n",
    "\n",
    "#Subtração de médias das linhas de cada estudante,  pelo valor de cada linha\n",
    "#A função mean calcula ao longo das linhas usando argumento columns\n",
    "#A função sub(div também) calcula ao longo das linhas usando index\n",
    "mean_diff = grades_df.sub(grades_df.mean(axis='columns'), axis='index')\n",
    "# Padronição das notas do estudantes por suas respectivas notas\n",
    "mean_diff.div(grades_df.std(axis='columns'),axis='index')"
   ]
  },
  {
   "cell_type": "code",
   "execution_count": null,
   "id": "96dc2c97",
   "metadata": {},
   "outputs": [],
   "source": [
    "import matplotlib.pyplot as plt\n",
    "import numpy as np\n",
    "import pandas as pd\n",
    "import seaborn as sns\n",
    "\n",
    "values = np.array([1, 3, 2, 4, 1, 6, 4])\n",
    "example_df = pd.DataFrame({\n",
    "    'value': values,\n",
    "    'even': values % 2 == 0,\n",
    "    'above_three': values > 3 \n",
    "}, index=['a', 'b', 'c', 'd', 'e', 'f', 'g'])\n",
    "\n",
    "# Change False to True for each block of code to see what it does\n",
    "\n",
    "# Examine DataFrame\n",
    "if True:\n",
    "    print(example_df)\n"
   ]
  },
  {
   "cell_type": "code",
   "execution_count": null,
   "id": "d6969ddf",
   "metadata": {},
   "outputs": [],
   "source": [
    "### Código para agrupar os dados do metrô por uma variável de sua escolha, então\n",
    "### imprima a média de passageiros dentro de cada grupo ou crie um gráfico.\n",
    "subway_weather = pd.read_csv('nyc_subway_weather.csv')\n",
    "subway_weather"
   ]
  },
  {
   "cell_type": "code",
   "execution_count": null,
   "id": "c4a92249",
   "metadata": {},
   "outputs": [],
   "source": [
    "%matplotlib inline\n",
    "df = subway_weather.groupby('day_week')\n",
    "df.mean()['']"
   ]
  },
  {
   "cell_type": "code",
   "execution_count": null,
   "id": "e2b7d1ea",
   "metadata": {},
   "outputs": [],
   "source": [
    "%pylab inline\n",
    "plot(df.mean()['ENTRIESn_hourly'])"
   ]
  },
  {
   "cell_type": "code",
   "execution_count": null,
   "id": "9ac2db58",
   "metadata": {},
   "outputs": [],
   "source": [
    "values = np.array([1, 3, 2, 4, 1, 6, 4])\n",
    "example_df = pd.DataFrame({\n",
    "    'value': values,\n",
    "    'even': values % 2 == 0,\n",
    "    'above_three': values > 3 \n",
    "}, index=['a', 'b', 'c', 'd', 'e', 'f', 'g'])\n",
    "\n",
    "# Change False to True for each block of code to see what it does\n",
    "\n",
    "# Standardize each group\n",
    "if True:\n",
    "    def standardize(xs):\n",
    "        return (xs - xs.mean()) / xs.std()\n",
    "    grouped_data = example_df.groupby('even')\n",
    "    print (grouped_data['value'].apply(standardize))"
   ]
  },
  {
   "cell_type": "code",
   "execution_count": null,
   "id": "b853c6d5",
   "metadata": {},
   "outputs": [],
   "source": [
    "example_df"
   ]
  },
  {
   "cell_type": "code",
   "execution_count": null,
   "id": "b60cdd1d",
   "metadata": {},
   "outputs": [],
   "source": [
    "grouped_data['even'].sum()"
   ]
  },
  {
   "cell_type": "code",
   "execution_count": null,
   "id": "f5566730",
   "metadata": {},
   "outputs": [],
   "source": [
    "if True:\n",
    "    def second_largest(xs):\n",
    "        sorted_xs = xs.sort_values(inplace=False, ascending=False)\n",
    "        return sorted_xs\n",
    "    grouped_data = example_df.groupby('even')\n",
    "    print(grouped_data['value'].apply(second_largest))# Ordenando no Data Frame por grupos False e True"
   ]
  },
  {
   "cell_type": "code",
   "execution_count": null,
   "id": "1a17c541",
   "metadata": {},
   "outputs": [],
   "source": [
    "print(second_largest(example_df['even'])) #Ordenando por ordem alfabética os grupos da coluna even\n",
    "print(second_largest(example_df['value']))#Ordenando por ordem numérica os grupos da coluna value"
   ]
  },
  {
   "cell_type": "code",
   "execution_count": null,
   "id": "a33a992f",
   "metadata": {},
   "outputs": [],
   "source": [
    "# Fazendo o agrupamento dos valores True e False pela soma de ambos os valores\n",
    "grouped_data['value'].sum()"
   ]
  },
  {
   "cell_type": "code",
   "execution_count": null,
   "id": "04c69630",
   "metadata": {},
   "outputs": [],
   "source": [
    "# --- Questionário ---\n",
    "# DataFrame com entradas e saídas cumulativas para várias estações\n",
    "ridership_df = pd.DataFrame({\n",
    "    'UNIT': ['R051', 'R079', 'R051', 'R079', 'R051', 'R079', 'R051', 'R079', 'R051'],\n",
    "    'TIMEn': ['00:00:00', '02:00:00', '04:00:00', '06:00:00', '08:00:00', '10:00:00', '12:00:00', '14:00:00', '16:00:00'],\n",
    "    'ENTRIESn': [3144312, 8936644, 3144335, 8936658, 3144353, 8936687, 3144424, 8936819, 3144594],\n",
    "    'EXITSn': [1088151, 13755385,  1088159, 13755393,  1088177, 13755598, 1088231, 13756191,  1088275]})"
   ]
  },
  {
   "cell_type": "code",
   "execution_count": null,
   "id": "63c51122",
   "metadata": {},
   "outputs": [],
   "source": [
    "#teste antes de iniciar a função\n",
    "group= ridership_df.groupby('UNIT')\n",
    "group['EXITSn'].sum()"
   ]
  },
  {
   "cell_type": "code",
   "execution_count": null,
   "id": "ebdaa56a",
   "metadata": {},
   "outputs": [],
   "source": [
    "def dif(xs):\n",
    "    df = xs - xs.shift(1)\n",
    "    return df"
   ]
  },
  {
   "cell_type": "code",
   "execution_count": null,
   "id": "9e3ff72d",
   "metadata": {},
   "outputs": [],
   "source": [
    "def  get_hourly_entries_and_exits(entries_and_exits):\n",
    "    '''\n",
    "    Preencha esta função para obter um DataFrame com entradas cumulativas\n",
    "    e sai e retorna um DataFrame com entradas e saídas de hora em hora.\n",
    "    As entradas e saídas horárias devem ser calculadas separadamente para\n",
    "    cada estação (a coluna 'UNIT').\n",
    "    \n",
    "    Dica: Dê uma olhada na função `get_hourly_entries_and_exits()`\n",
    "    você escreveu em um quiz anterior, DataFrame Vectorized Operations. Se\n",
    "    você copiá-lo aqui e renomeá-lo, você pode usá-lo e o `.apply()`\n",
    "    função para ajudar a resolver este problema.\n",
    "    '''\n",
    "    df = xs - xs.shift(1)\n",
    "    return df              \n",
    "    group = ridership_df.group['UNIT']\n",
    "print(group['ENTRIESn'].apply(dif))\n",
    "print(group['EXITSn'].apply(dif))"
   ]
  },
  {
   "cell_type": "code",
   "execution_count": null,
   "id": "6c6adc19",
   "metadata": {},
   "outputs": [],
   "source": [
    "get_hourly_entries_and_exits()"
   ]
  },
  {
   "cell_type": "code",
   "execution_count": null,
   "id": "ec2ae6ff",
   "metadata": {},
   "outputs": [],
   "source": [
    "#Solução correta\n",
    "ridership_df.groupby('UNIT')['ENTRIESn','EXITSn'].apply(dif)"
   ]
  },
  {
   "cell_type": "code",
   "execution_count": null,
   "id": "d2bb8cf6",
   "metadata": {},
   "outputs": [],
   "source": [
    "import pandas as pd\n",
    "\n",
    "subway_df = pd.DataFrame({\n",
    "    'UNIT': ['R003', 'R003', 'R003', 'R003', 'R003', 'R004', 'R004', 'R004',\n",
    "             'R004', 'R004'],\n",
    "    'DATEn': ['05-01-11', '05-02-11', '05-03-11', '05-04-11', '05-05-11',\n",
    "              '05-01-11', '05-02-11', '05-03-11', '05-04-11', '05-05-11'],\n",
    "    'hour': [0, 0, 0, 0, 0, 0, 0, 0, 0, 0],\n",
    "    'ENTRIESn': [ 4388333,  4388348,  4389885,  4391507,  4393043, 14656120,\n",
    "                 14656174, 14660126, 14664247, 14668301],\n",
    "    'EXITSn': [ 2911002,  2911036,  2912127,  2913223,  2914284, 14451774,\n",
    "               14451851, 14454734, 14457780, 14460818],\n",
    "    'latitude': [ 40.689945,  40.689945,  40.689945,  40.689945,  40.689945,\n",
    "                  40.69132 ,  40.69132 ,  40.69132 ,  40.69132 ,  40.69132 ],\n",
    "    'longitude': [-73.872564, -73.872564, -73.872564, -73.872564, -73.872564,\n",
    "                  -73.867135, -73.867135, -73.867135, -73.867135, -73.867135]\n",
    "})\n",
    "\n",
    "weather_df = pd.DataFrame({\n",
    "    'DATEn': ['05-01-11', '05-01-11', '05-02-11', '05-02-11', '05-03-11',\n",
    "              '05-03-11', '05-04-11', '05-04-11', '05-05-11', '05-05-11'],\n",
    "    'hour': [0, 0, 0, 0, 0, 0, 0, 0, 0, 0],\n",
    "    'latitude': [ 40.689945,  40.69132 ,  40.689945,  40.69132 ,  40.689945,\n",
    "                  40.69132 ,  40.689945,  40.69132 ,  40.689945,  40.69132 ],\n",
    "    'longitude': [-73.872564, -73.867135, -73.872564, -73.867135, -73.872564,\n",
    "                  -73.867135, -73.872564, -73.867135, -73.872564, -73.867135],\n",
    "    'pressurei': [ 30.24,  30.24,  30.32,  30.32,  30.14,  30.14,  29.98,  29.98,\n",
    "                   30.01,  30.01],\n",
    "    'fog': [0, 0, 0, 0, 0, 0, 0, 0, 0, 0],\n",
    "    'rain': [0, 0, 0, 0, 0, 0, 0, 0, 0, 0],\n",
    "    'tempi': [ 52. ,  52. ,  48.9,  48.9,  54. ,  54. ,  57.2,  57.2,  48.9,  48.9],\n",
    "    'wspdi': [  8.1,   8.1,   6.9,   6.9,   3.5,   3.5,  15. ,  15. ,  15. ,  15. ]\n",
    "})\n"
   ]
  },
  {
   "cell_type": "code",
   "execution_count": null,
   "id": "2d4decc7",
   "metadata": {},
   "outputs": [],
   "source": [
    "subway_df"
   ]
  },
  {
   "cell_type": "code",
   "execution_count": null,
   "id": "7714a411",
   "metadata": {},
   "outputs": [],
   "source": []
  },
  {
   "cell_type": "code",
   "execution_count": null,
   "id": "442c4c39",
   "metadata": {
    "scrolled": true
   },
   "outputs": [],
   "source": [
    "def combine_dfs(df_1, df_2, coluna, como):\n",
    "    '''\n",
    "    Preencha esta função para obter 2 DataFrames, um com dados do metrô e outro com dados meteorológicos,\n",
    "    e retornar um único dataframe com uma linha para cada data, hora e local. Incluir apenas\n",
    "    horários e locais que tenham dados de metrô e meteorológicos disponíveis.\n",
    "    '''\n",
    "    return df_1.merge(df_2,how = como, on = coluna)\n",
    "\n",
    "combine_dfs(subway_df,weather_df,'DATEn','inner' )#Só as datas coincidem"
   ]
  },
  {
   "cell_type": "code",
   "execution_count": null,
   "id": "9473db77",
   "metadata": {
    "scrolled": true
   },
   "outputs": [],
   "source": [
    "#As colunas DATEn, hour, latitude e longitude devem coincidir em seus dados(ser idênticos)\n",
    "def std(xs):\n",
    "    return (xs- xs.mean)/xs.std()\n",
    "inter = subway_df.merge(weather_df, on=['DATEn','hour','latitude','longitude'],how='inner')"
   ]
  },
  {
   "cell_type": "code",
   "execution_count": null,
   "id": "b20604d3",
   "metadata": {},
   "outputs": [],
   "source": [
    "subway_df.merge(weather_df, on=['DATEn','hour','latitude'],how='inner')"
   ]
  },
  {
   "cell_type": "code",
   "execution_count": 28,
   "id": "08fbcefb",
   "metadata": {},
   "outputs": [],
   "source": [
    "import matplotlib.pyplot as plt\n",
    "import seaborn as sns"
   ]
  },
  {
   "cell_type": "code",
   "execution_count": 27,
   "id": "bfdf28ac",
   "metadata": {},
   "outputs": [],
   "source": [
    "subway_weather = pd.read_csv('nyc_subway_weather.csv')"
   ]
  },
  {
   "cell_type": "code",
   "execution_count": 36,
   "id": "ffa32959",
   "metadata": {},
   "outputs": [
    {
     "name": "stderr",
     "output_type": "stream",
     "text": [
      "<ipython-input-36-3869c18a8b59>:1: FutureWarning: Indexing with multiple keys (implicitly converted to a tuple of keys) will be deprecated, use a list instead.\n",
      "  rain= subway_weather.groupby('rain')['ENTRIESn','EXITSn']\n"
     ]
    }
   ],
   "source": [
    "rain= subway_weather.groupby('rain')['ENTRIESn','EXITSn']"
   ]
  },
  {
   "cell_type": "code",
   "execution_count": 40,
   "id": "4ecd724c",
   "metadata": {},
   "outputs": [
    {
     "data": {
      "text/plain": [
       "rain\n",
       "0    AxesSubplot(0.125,0.125;0.775x0.755)\n",
       "1    AxesSubplot(0.125,0.125;0.775x0.755)\n",
       "dtype: object"
      ]
     },
     "execution_count": 40,
     "metadata": {},
     "output_type": "execute_result"
    },
    {
     "data": {
      "image/png": "[encoded data removed]",
      "text/plain": [
       "<Figure size 432x288 with 1 Axes>"
      ]
     },
     "metadata": {
      "needs_background": "light"
     },
     "output_type": "display_data"
    },
    {
     "data": {
      "image/png": "[encoded data removed]",
      "text/plain": [
       "<Figure size 432x288 with 1 Axes>"
      ]
     },
     "metadata": {
      "needs_background": "light"
     },
     "output_type": "display_data"
    }
   ],
   "source": [
    "rain.plot()"
   ]
  },
  {
   "cell_type": "code",
   "execution_count": 47,
   "id": "07f66b01",
   "metadata": {},
   "outputs": [
    {
     "data": {
      "text/plain": [
       "<matplotlib.collections.PathCollection at 0x7bf0db6bb0>"
      ]
     },
     "execution_count": 47,
     "metadata": {},
     "output_type": "execute_result"
    },
    {
     "data": {
      "image/png": "[encoded data removed]",
      "text/plain": [
       "<Figure size 432x288 with 1 Axes>"
      ]
     },
     "metadata": {
      "needs_background": "light"
     },
     "output_type": "display_data"
    }
   ],
   "source": [
    "x = [0,2,4,8,10]\n",
    "y = [1]*len(x)\n",
    "s = [100,200,300,400,500]\n",
    "plt.scatter(x,y)"
   ]
  },
  {
   "cell_type": "code",
   "execution_count": 48,
   "id": "d069dc79",
   "metadata": {},
   "outputs": [],
   "source": [
    "a = np.array([\n",
    "    [['A1a', 'A1b', 'A1c'], ['A2a', 'A2b', 'A2c']],\n",
    "    [['B1a', 'B1b', 'B1c'], ['B2a', 'B2b', 'B2c']]\n",
    "])"
   ]
  },
  {
   "cell_type": "code",
   "execution_count": 54,
   "id": "49c4e4fd",
   "metadata": {},
   "outputs": [
    {
     "data": {
      "text/plain": [
       "(2, 2, 3)"
      ]
     },
     "execution_count": 54,
     "metadata": {},
     "output_type": "execute_result"
    }
   ],
   "source": [
    "a.shape"
   ]
  },
  {
   "cell_type": "code",
   "execution_count": 59,
   "id": "679c9d1b",
   "metadata": {},
   "outputs": [
    {
     "data": {
      "text/plain": [
       "array([[['A1a', 'A1b', 'A1c'],\n",
       "        ['A2a', 'A2b', 'A2c']],\n",
       "\n",
       "       [['B1a', 'B1b', 'B1c'],\n",
       "        ['B2a', 'B2b', 'B2c']]], dtype='<U3')"
      ]
     },
     "execution_count": 59,
     "metadata": {},
     "output_type": "execute_result"
    }
   ],
   "source": [
    "a"
   ]
  },
  {
   "cell_type": "code",
   "execution_count": null,
   "id": "e3f213d8",
   "metadata": {},
   "outputs": [],
   "source": []
  }
 ],
 "metadata": {
  "kernelspec": {
   "display_name": "Python 3",
   "language": "python",
   "name": "python3"
  },
  "language_info": {
   "codemirror_mode": {
    "name": "ipython",
    "version": 3
   },
   "file_extension": ".py",
   "mimetype": "text/x-python",
   "name": "python",
   "nbconvert_exporter": "python",
   "pygments_lexer": "ipython3",
   "version": "3.8.8"
  }
 },
 "nbformat": 4,
 "nbformat_minor": 5
}
