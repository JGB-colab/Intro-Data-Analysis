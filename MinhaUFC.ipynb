{
  "cells": [
    {
      "cell_type": "markdown",
      "metadata": {
        "id": "view-in-github",
        "colab_type": "text"
      },
      "source": [
        "<a href=\"https://colab.research.google.com/github/JGB-colab/Intro-Data-Analysis/blob/main/MinhaUFC.ipynb\" target=\"_parent\"><img src=\"https://colab.research.google.com/assets/colab-badge.svg\" alt=\"Open In Colab\"/></a>"
      ]
    },
    {
      "cell_type": "markdown",
      "metadata": {
        "id": "fVVyIv3vnXnf"
      },
      "source": [
        "# Web Scraping( Projeto Minha UFC)\n",
        "\n",
        "\n",
        "\n"
      ]
    },
    {
      "cell_type": "markdown",
      "metadata": {
        "id": "D43GzhjYu7U5"
      },
      "source": [
        "<h3> Será feito um web scraping para o Projeto Minha UFC, cujo objetivo centralizar as informações por meio de um chatbot com entendimento de linguagem natural, sendo assim, cada um dos tópicos irão cobrir o que o chatbot será capaz de responder através do site."
      ]
    },
    {
      "cell_type": "markdown",
      "metadata": {
        "id": "XfQAQNmbxp69"
      },
      "source": [
        "# Observações\n"
      ]
    },
    {
      "cell_type": "markdown",
      "metadata": {
        "id": "J5Zwz-Vtn2oc"
      },
      "source": [
        "#Bibliotecas"
      ]
    },
    {
      "cell_type": "code",
      "execution_count": null,
      "metadata": {
        "colab": {
          "base_uri": "https://localhost:8080/"
        },
        "id": "wDRTU7KzqkXg",
        "outputId": "a50b5ff0-f283-4d6e-92bf-28cf3016411e"
      },
      "outputs": [
        {
          "output_type": "stream",
          "name": "stdout",
          "text": [
            "Looking in indexes: https://pypi.org/simple, https://us-python.pkg.dev/colab-wheels/public/simple/\n",
            "Requirement already satisfied: flask-restful in /usr/local/lib/python3.7/dist-packages (0.3.9)\n",
            "Requirement already satisfied: pytz in /usr/local/lib/python3.7/dist-packages (from flask-restful) (2022.4)\n",
            "Requirement already satisfied: six>=1.3.0 in /usr/local/lib/python3.7/dist-packages (from flask-restful) (1.15.0)\n",
            "Requirement already satisfied: Flask>=0.8 in /usr/local/lib/python3.7/dist-packages (from flask-restful) (1.1.4)\n",
            "Requirement already satisfied: aniso8601>=0.82 in /usr/local/lib/python3.7/dist-packages (from flask-restful) (9.0.1)\n",
            "Requirement already satisfied: itsdangerous<2.0,>=0.24 in /usr/local/lib/python3.7/dist-packages (from Flask>=0.8->flask-restful) (1.1.0)\n",
            "Requirement already satisfied: click<8.0,>=5.1 in /usr/local/lib/python3.7/dist-packages (from Flask>=0.8->flask-restful) (7.1.2)\n",
            "Requirement already satisfied: Werkzeug<2.0,>=0.15 in /usr/local/lib/python3.7/dist-packages (from Flask>=0.8->flask-restful) (1.0.1)\n",
            "Requirement already satisfied: Jinja2<3.0,>=2.10.1 in /usr/local/lib/python3.7/dist-packages (from Flask>=0.8->flask-restful) (2.11.3)\n",
            "Requirement already satisfied: MarkupSafe>=0.23 in /usr/local/lib/python3.7/dist-packages (from Jinja2<3.0,>=2.10.1->Flask>=0.8->flask-restful) (2.0.1)\n",
            "Looking in indexes: https://pypi.org/simple, https://us-python.pkg.dev/colab-wheels/public/simple/\n",
            "Requirement already satisfied: flask-ngrok in /usr/local/lib/python3.7/dist-packages (0.0.25)\n",
            "Requirement already satisfied: requests in /usr/local/lib/python3.7/dist-packages (from flask-ngrok) (2.23.0)\n",
            "Requirement already satisfied: Flask>=0.8 in /usr/local/lib/python3.7/dist-packages (from flask-ngrok) (1.1.4)\n",
            "Requirement already satisfied: itsdangerous<2.0,>=0.24 in /usr/local/lib/python3.7/dist-packages (from Flask>=0.8->flask-ngrok) (1.1.0)\n",
            "Requirement already satisfied: Werkzeug<2.0,>=0.15 in /usr/local/lib/python3.7/dist-packages (from Flask>=0.8->flask-ngrok) (1.0.1)\n",
            "Requirement already satisfied: Jinja2<3.0,>=2.10.1 in /usr/local/lib/python3.7/dist-packages (from Flask>=0.8->flask-ngrok) (2.11.3)\n",
            "Requirement already satisfied: click<8.0,>=5.1 in /usr/local/lib/python3.7/dist-packages (from Flask>=0.8->flask-ngrok) (7.1.2)\n",
            "Requirement already satisfied: MarkupSafe>=0.23 in /usr/local/lib/python3.7/dist-packages (from Jinja2<3.0,>=2.10.1->Flask>=0.8->flask-ngrok) (2.0.1)\n",
            "Requirement already satisfied: idna<3,>=2.5 in /usr/local/lib/python3.7/dist-packages (from requests->flask-ngrok) (2.10)\n",
            "Requirement already satisfied: urllib3!=1.25.0,!=1.25.1,<1.26,>=1.21.1 in /usr/local/lib/python3.7/dist-packages (from requests->flask-ngrok) (1.24.3)\n",
            "Requirement already satisfied: chardet<4,>=3.0.2 in /usr/local/lib/python3.7/dist-packages (from requests->flask-ngrok) (3.0.4)\n",
            "Requirement already satisfied: certifi>=2017.4.17 in /usr/local/lib/python3.7/dist-packages (from requests->flask-ngrok) (2022.9.24)\n",
            "Looking in indexes: https://pypi.org/simple, https://us-python.pkg.dev/colab-wheels/public/simple/\n",
            "Requirement already satisfied: flask in /usr/local/lib/python3.7/dist-packages (1.1.4)\n",
            "Requirement already satisfied: click<8.0,>=5.1 in /usr/local/lib/python3.7/dist-packages (from flask) (7.1.2)\n",
            "Requirement already satisfied: Jinja2<3.0,>=2.10.1 in /usr/local/lib/python3.7/dist-packages (from flask) (2.11.3)\n",
            "Requirement already satisfied: Werkzeug<2.0,>=0.15 in /usr/local/lib/python3.7/dist-packages (from flask) (1.0.1)\n",
            "Requirement already satisfied: itsdangerous<2.0,>=0.24 in /usr/local/lib/python3.7/dist-packages (from flask) (1.1.0)\n",
            "Requirement already satisfied: MarkupSafe>=0.23 in /usr/local/lib/python3.7/dist-packages (from Jinja2<3.0,>=2.10.1->flask) (2.0.1)\n"
          ]
        }
      ],
      "source": [
        "# Para juntar o cardápio do dia junto a api rest\n",
        "!pip install flask-restful\n",
        "!pip install flask-ngrok\n",
        "!pip install flask"
      ]
    },
    {
      "cell_type": "code",
      "execution_count": null,
      "metadata": {
        "id": "Z0LN9wMxTE4z"
      },
      "outputs": [],
      "source": [
        "import pandas as pd\n",
        "import json\n",
        "import re\n",
        "import time\n",
        "import requests\n",
        "import pickle\n",
        "from collections import defaultdict\n",
        "from bs4 import BeautifulSoup as bs"
      ]
    },
    {
      "cell_type": "markdown",
      "metadata": {
        "id": "sS-9FBmdqQ2A"
      },
      "source": [
        "# Cardápio do dia"
      ]
    },
    {
      "cell_type": "markdown",
      "metadata": {
        "id": "C2JG1j1CMKV7"
      },
      "source": [
        "## Pici"
      ]
    },
    {
      "cell_type": "code",
      "execution_count": null,
      "metadata": {
        "id": "75q5PnN1XJfY"
      },
      "outputs": [],
      "source": [
        "def requisicao_site(url):\n",
        "    response = requests.get(url)\n",
        "    content = response.content\n",
        "    site = bs(content,'html.parser')\n",
        "    return site\n",
        "    \n",
        "url = \"https://www.ufc.br/restaurante/cardapio/1-restaurante-universitario-de-fortaleza/\"\n",
        "\n",
        "response = requests.get(url)\n",
        "content_cardapio = response.content\n",
        "site = bs(content_cardapio,'html.parser') # passando html\n",
        "\n",
        "# Pegando os elementos do cardapio\n",
        "desjejum = site.find('table',attrs={'class':'refeicao desjejum'})\n",
        "almoco = site.find('table',attrs={'class':'refeicao almoco'})\n",
        "jantar = site.find('table',attrs={'class':'refeicao jantar'})\n"
      ]
    },
    {
      "cell_type": "code",
      "source": [
        "desjejum"
      ],
      "metadata": {
        "colab": {
          "base_uri": "https://localhost:8080/"
        },
        "id": "lHsfVCz14RdM",
        "outputId": "f4284b6d-7868-40d9-ecf5-e3a59a9196c0"
      },
      "execution_count": null,
      "outputs": [
        {
          "output_type": "execute_result",
          "data": {
            "text/plain": [
              "<table class=\"refeicao desjejum\">\n",
              "<tbody class=\"listras\"> <tr class=\"item\">\n",
              "<td class=\"bebidas\">Bebidas</td>\n",
              "<td class=\"bebidas\"><span class=\"desc\">Café</span><br/><span class=\"desc\">Leite Integral</span><span class=\"desc lactose\"> (Contém Lactose)</span><br/><span class=\"desc\">Leite de Soja</span> </td>\n",
              "</tr> <tr class=\"item\">\n",
              "<td class=\"paes\">Pães</td>\n",
              "<td class=\"paes\"><span class=\"desc\">Pão Carioca</span><span class=\"desc gluten\"> (Contém Glúten)</span><br/><span class=\"desc\">Pão Sovado  </span><span class=\"desc gluten\"> (Contém Glúten)</span> </td>\n",
              "</tr> <tr class=\"item\">\n",
              "<td class=\"frutas\">Frutas</td>\n",
              "<td class=\"frutas\"><span class=\"desc\">Maçã</span><br/><span class=\"desc\">Abacaxi</span> </td>\n",
              "</tr> <tr class=\"item\">\n",
              "<td class=\"especial\">Especial</td>\n",
              "<td class=\"especial\"><span class=\"desc\">Carne moída ao molho</span> </td>\n",
              "</tr> </tbody>\n",
              "</table>"
            ]
          },
          "metadata": {},
          "execution_count": 64
        }
      ]
    },
    {
      "cell_type": "code",
      "source": [
        "def junta_palavras(vetor_string):\n",
        "    texto = ''\n",
        "    for elemento in vetor_string:\n",
        "      texto += elemento +','\n",
        "    return texto[0:-1]"
      ],
      "metadata": {
        "id": "9HW9KW-O927k"
      },
      "execution_count": null,
      "outputs": []
    },
    {
      "cell_type": "code",
      "execution_count": null,
      "metadata": {
        "id": "aE4udTjZMOH1"
      },
      "outputs": [],
      "source": [
        "# Retornando cardapio em formato dicionário\n",
        "def cardapio_do_dia():\n",
        "    dia = site.find('table').findAll('th')[1].text.split() # Dia da semana\n",
        "    cardapio_json = {\"restaurante_menu\":[{\"Dia\": \"{0}{1}\".format(dia[0],dia[1])},{\"Campi\":\"Pici\"}]}\n",
        "    desjejum_list= junta_palavras([i.text for i in desjejum('span')])\n",
        "    almoco_list = junta_palavras([i.text for i in almoco('span')]) \n",
        "    jantar_list = junta_palavras([i.text for i in jantar('span')]) \n",
        "    cardapio_json[\"restaurante_menu\"].append({\"Desjejum\": json.dumps((desjejum_list),ensure_ascii=False)})\n",
        "    cardapio_json[\"restaurante_menu\"].append({\"Almoco\":  json.dumps(almoco_list,ensure_ascii=False)})\n",
        "    cardapio_json[\"restaurante_menu\"].append({\"Jantar\": json.dumps((jantar_list),ensure_ascii=False)})\n",
        "    return json.dumps(cardapio_json,ensure_ascii = False)\n",
        "    "
      ]
    },
    {
      "cell_type": "code",
      "execution_count": null,
      "metadata": {
        "id": "wgLHUnSerMAb"
      },
      "outputs": [],
      "source": [
        "# Checando erro de retorno do cardápio,para saber se existe ou não cardápio no dia\n",
        "def checagem_de_retorno():\n",
        "  try:\n",
        "    menu = json.loads(cardapio_do_dia())\n",
        "    aux = 0\n",
        "  except:\n",
        "      dia = site.find('table').findAll('th')[1].text.split()\n",
        "      menu = dia[0]+dia[1]+': '+ site.find('td',attrs = {'colspan':'3'}).text  # Mostra mensagem de não haver cardápio\n",
        "      aux = 1\n",
        "  return [menu,aux]"
      ]
    },
    {
      "cell_type": "code",
      "execution_count": null,
      "metadata": {
        "colab": {
          "base_uri": "https://localhost:8080/"
        },
        "id": "GJU8Thxlw7Xs",
        "outputId": "bb5714b1-0f7b-4817-9a93-992f04eed429"
      },
      "outputs": [
        {
          "output_type": "execute_result",
          "data": {
            "text/plain": [
              "[{'restaurante_menu': [{'Dia': 'Sexta(21/10)'},\n",
              "   {'Campi': 'Pici'},\n",
              "   {'Desjejum': '\"Café,Leite Integral, (Contém Lactose),Leite de Soja,Pão Carioca, (Contém Glúten),Pão Sovado  , (Contém Glúten),Maçã,Abacaxi,Carne moída ao molho\"'},\n",
              "   {'Almoco': '\"Dobradinha,Filé de frango acebolado,Yakissoba Vegetariano, (Contém Glúten),Batata sautè com orégano,Cuscuz,Arroz Branco,Arroz Integral,Feijão de Corda,Melão espanhol,Doce\"'},\n",
              "   {'Jantar': '\"Calabresa acebolada,Escondidinho de frango, (Contém Lactose),Tortinha de Legumes, (Contém Glúten),Alface, Repolho, Cenoura, Salsinha,Farofa Crispy,Arroz Branco,Arroz Integral,Feijão Carioca,Banana,Doce\"'}]},\n",
              " 0]"
            ]
          },
          "metadata": {},
          "execution_count": 68
        }
      ],
      "source": [
        "checagem_de_retorno()"
      ]
    },
    {
      "cell_type": "markdown",
      "metadata": {
        "id": "aJmMHvHzIL3a"
      },
      "source": [
        "## Quixadá"
      ]
    },
    {
      "cell_type": "code",
      "execution_count": null,
      "metadata": {
        "id": "00DmtBh3K3N4"
      },
      "outputs": [],
      "source": [
        "def cardapio_quixada():\n",
        "    try: \n",
        "      ru_quixada = requisicao_site('https://www.quixada.ufc.br/restaurante-universitario/')\n",
        "      cardapio = ru_quixada.findAll('img',attrs={'loading':'lazy'})\n",
        "      almoco = cardapio[0]['srcset'].split(',')\n",
        "      jantar = cardapio[1]['srcset'].split(',')\n",
        "      link_almoco = almoco[0].split(' ')\n",
        "      link_jantar = jantar[0].split(' ')\n",
        "      cardapio_quixada = [{ \"cardapio\":[{'almoco': link_almoco[0]},{'jantar':link_jantar[0]}]},'image']\n",
        "    except ConnectionError:\n",
        "       cardapio_quixada = [{ \"cardapio\":[{'almoco': 'Houve um erro de conexão ao tentar requisitar o almoço'},{'jantar':'Houve um erro de conexão ao tentar requisitar o almoço'}]},'text']\n",
        "    return json.dumps(cardapio_quixada,ensure_ascii = False)\n",
        "json_quixada = cardapio_quixada()"
      ]
    },
    {
      "cell_type": "code",
      "execution_count": null,
      "metadata": {
        "id": "z5piAGpe7VvB"
      },
      "outputs": [],
      "source": [
        "cardapio_quixada = json.loads(json_quixada)"
      ]
    },
    {
      "cell_type": "code",
      "execution_count": null,
      "metadata": {
        "colab": {
          "base_uri": "https://localhost:8080/"
        },
        "id": "kWgQM-KTPLjF",
        "outputId": "8ba352e2-a2d3-4ba9-fdd0-3e736123852f"
      },
      "outputs": [
        {
          "output_type": "execute_result",
          "data": {
            "text/plain": [
              "[{'cardapio': [{'almoco': 'https://www.quixada.ufc.br/wp-content/uploads/2022/10/Cardapio-almoco-e-jantar-17-a-21-de-outubro_page-0001-1024x725.jpg'},\n",
              "   {'jantar': 'https://www.quixada.ufc.br/wp-content/uploads/2017/09/37172224072_5b2023c322_h-1-1024x680.jpg'}]},\n",
              " 'image']"
            ]
          },
          "metadata": {},
          "execution_count": 71
        }
      ],
      "source": [
        "cardapio_quixada"
      ]
    },
    {
      "cell_type": "code",
      "execution_count": null,
      "metadata": {
        "id": "Gg5-npPTcVI0"
      },
      "outputs": [],
      "source": [
        "# ----------------Esboço de como a função em javascript deve ser-----------------------#\n",
        "\n",
        "def mostrar_menu():\n",
        "  ##Caso nao tenha cardápio\n",
        "  if desjejum == None:\n",
        "        dia = site.find('table').findAll('th')[1].text.split()\n",
        "        print(dia[0]+dia[1]+'\\n'+site.find('td',attrs = {'colspan':'3'}).text)   # Mostra mensagem de não haver cardápio\n",
        "  else:\n",
        "    # transformando tipo DICIONÁRIO em formato json\n",
        "    cardapio = cardapio_do_dia()\n",
        "    json_menu = cardapio\n",
        "      # Retornando cardapio\n",
        "    print(json.loads(json_menu)['restaurante_menu'][0]['Dia']\n",
        "    + '\\n')\n",
        "    print('Campi',':',json.loads(json_menu)['restaurante_menu'][1]['Campi'])\n",
        "    print('\\n')\n",
        "    print('Desjejum:\\n')\n",
        "    print(json.loads(json_menu)['restaurante_menu'][2]['Desjejum'])\n",
        "    print('\\n')\n",
        "    print('Almoço:\\n')\n",
        "    print(json.loads(json_menu)['restaurante_menu'][3]['Almoco'])\n",
        "    print('\\n')\n",
        "    print('Jantar:\\n')\n",
        "    print('\\n')\n",
        "    print(json.loads(json_menu)['restaurante_menu'][4]['Jantar'])"
      ]
    },
    {
      "cell_type": "markdown",
      "metadata": {
        "id": "rHbyLE4cnwWY"
      },
      "source": [
        "# Perguntas Frequentes"
      ]
    },
    {
      "cell_type": "markdown",
      "metadata": {
        "id": "KNxtyxLaVxHJ"
      },
      "source": [
        "###Teste unitário para uma página do faq"
      ]
    },
    {
      "cell_type": "code",
      "execution_count": null,
      "metadata": {
        "id": "4mn_LiiFqfcm"
      },
      "outputs": [],
      "source": [
        "#content_faq = requisicao_site('https://prograd.ufc.br/pt/perguntas-frequentes/?limit=todas')"
      ]
    },
    {
      "cell_type": "code",
      "execution_count": null,
      "metadata": {
        "id": "vRZJdoBwpFS-"
      },
      "outputs": [],
      "source": [
        "# Armezando perguntas em um dicionário \n",
        "\n",
        "#2) Requisitando da página do faq, as perguntas frequentes\n",
        "#def pega_conteudo(tag1,tag2):\n",
        "#lista_de_perguntas = content_faq.find('div',{'class':'subpages'}).find('ul',{'class':'menu'}) # objeto bs4\n",
        "\n",
        "# 3) Armezenando nomes em dicionário\n",
        "#armazena_nomes = {}\n",
        "# j = 0 \n",
        "#  for pergunta in lista_de_perguntas:  \n",
        "#    armazena_nomes[str(pergunta.string)] = pergunta.find(tag, {'href':re.compile('^https')}) # Esta linha encontra qualquer objeto começando com https dentro do objeto bs4"
      ]
    },
    {
      "cell_type": "markdown",
      "metadata": {
        "id": "rgJFSTowir-U"
      },
      "source": [
        "## Executando coleta de conteudo de perguntas frequentes"
      ]
    },
    {
      "cell_type": "code",
      "execution_count": null,
      "metadata": {
        "id": "mUqAxRWcWFGn"
      },
      "outputs": [],
      "source": [
        "def coleta_dados_faq(armazena_nomes,topico):\n",
        "  lista_faq = {}\n",
        "  for topico in armazena_nomes:\n",
        "    link = armazena_nomes[str(topico)]['href']\n",
        "    html = requisicao_site(link)\n",
        "    conteudo = html.find('article',{'class':'article'})\n",
        "    lista_faq[str(topico)] = conteudo\n",
        "    print(lista_faq)\n",
        "    time.sleep(60)\n",
        "  return lista_faq"
      ]
    },
    {
      "cell_type": "code",
      "execution_count": null,
      "metadata": {
        "id": "nvLTFaDIbb5C"
      },
      "outputs": [],
      "source": [
        "#armazena_nomes"
      ]
    },
    {
      "cell_type": "code",
      "execution_count": null,
      "metadata": {
        "id": "ZqMI6_My0A7p"
      },
      "outputs": [],
      "source": [
        "#admissao= requisicao_site(armazena_nomes['Admissão de Graduados']['href']) # Testando função de requisicao para um elemento da lista\n"
      ]
    },
    {
      "cell_type": "markdown",
      "source": [
        "## PRAE"
      ],
      "metadata": {
        "id": "vBKlWyhvr3YE"
      }
    },
    {
      "cell_type": "code",
      "source": [
        "site_prae = requisicao_site('https://prae.ufc.br/pt/')"
      ],
      "metadata": {
        "id": "_PcYKZjzr9hs"
      },
      "execution_count": null,
      "outputs": []
    },
    {
      "cell_type": "code",
      "source": [
        "padrao  = re.compile(r'\\d{4}') # $ 4 dígitos quaisquer $"
      ],
      "metadata": {
        "id": "Mrw6h8gb3ikb"
      },
      "execution_count": null,
      "outputs": []
    },
    {
      "cell_type": "code",
      "source": [
        "conteudo_info = site_prae.findAll('li')\n",
        "links_prae = []\n",
        "lista_nomes = []\n",
        "for element in conteudo_info:\n",
        "    try:\n",
        "      links_prae.append({element.get_text(): element.contents[0]['href']})\n",
        "      lista_nomes.append(element.get_text())\n",
        "    except TypeError:\n",
        "      pass"
      ],
      "metadata": {
        "id": "Salb9x90sSyZ"
      },
      "execution_count": null,
      "outputs": []
    },
    {
      "cell_type": "code",
      "source": [
        "'''conteudo_faq_prae = []\n",
        "for elemento in links_prae[5:]:\n",
        "    link = list(elemento.values())[0]\n",
        "    nome = list(elemento.keys())[0]\n",
        "    requisicao = requisicao_site(link)\n",
        "    conteudo_faq_prae.append({nome:requisicao})\n",
        "    time.sleep(30)'''"
      ],
      "metadata": {
        "id": "uCzK5dQ1GNIG",
        "colab": {
          "base_uri": "https://localhost:8080/",
          "height": 53
        },
        "outputId": "a72a313b-8c8e-43ed-d8db-0a915981ef2d"
      },
      "execution_count": null,
      "outputs": [
        {
          "output_type": "execute_result",
          "data": {
            "text/plain": [
              "'conteudo_faq_prae = []\\nfor elemento in links_prae[5:]:\\n    link = list(elemento.values())[0]\\n    nome = list(elemento.keys())[0]\\n    requisicao = requisicao_site(link)\\n    conteudo_faq_prae.append({nome:requisicao})\\n    time.sleep(30)'"
            ],
            "application/vnd.google.colaboratory.intrinsic+json": {
              "type": "string"
            }
          },
          "metadata": {},
          "execution_count": 81
        }
      ]
    },
    {
      "cell_type": "code",
      "source": [
        "'''def pega_texto():\n",
        "  respostas_faq_prae = defaultdict(list)\n",
        "  for ind in range(2,len(conteudo_faq_prae)):\n",
        "    html = conteudo_faq_prae[ind][lista_nomes[ind+5]]\n",
        "    resposta = html.findAll('p')\n",
        "    for parte in resposta:\n",
        "      texto = ''\n",
        "      texto += parte.text +'\\n'\n",
        "      respostas_faq_prae[lista_nomes[ind+5]].append(texto)\n",
        "  return respostas_faq_prae'''"
      ],
      "metadata": {
        "id": "34hCdQw47vlG",
        "colab": {
          "base_uri": "https://localhost:8080/",
          "height": 53
        },
        "outputId": "e8751ca5-8f54-4d1a-98e1-cdaf1b7bccbb"
      },
      "execution_count": null,
      "outputs": [
        {
          "output_type": "execute_result",
          "data": {
            "text/plain": [
              "\"def pega_texto():\\n  respostas_faq_prae = defaultdict(list)\\n  for ind in range(2,len(conteudo_faq_prae)):\\n    html = conteudo_faq_prae[ind][lista_nomes[ind+5]]\\n    resposta = html.findAll('p')\\n    for parte in resposta:\\n      texto = ''\\n      texto += parte.text +'\\n'\\n      respostas_faq_prae[lista_nomes[ind+5]].append(texto)\\n  return respostas_faq_prae\""
            ],
            "application/vnd.google.colaboratory.intrinsic+json": {
              "type": "string"
            }
          },
          "metadata": {},
          "execution_count": 82
        }
      ]
    },
    {
      "cell_type": "code",
      "source": [
        "#respostas = pega_texto()"
      ],
      "metadata": {
        "id": "fep7gHPg8kSM"
      },
      "execution_count": null,
      "outputs": []
    },
    {
      "cell_type": "code",
      "source": [
        "#respostas"
      ],
      "metadata": {
        "id": "2jZ44Tx0EnlR"
      },
      "execution_count": null,
      "outputs": []
    },
    {
      "cell_type": "code",
      "source": [
        "conteudo_prae= defaultdict(list,\n",
        "            {'Ajuda de Custo': ['O Programa Ajuda de Custo tem por objetivos:\\n',\n",
        "              '1. Conceder ajuda de custo aos estudantes dos Cursos de Graduação da Universidade Federal do Ceará (UFC) que desejam participar em eventos de natureza acadêmica,\\xa0 artística ou de movimentos estudantis;\\n',\n",
        "              '2. Conceder ajuda de custo aos estudantes que representam o Diretório Central dos Estudantes (DCE), os Centros Acadêmicos (CA’s) e as Associações Atléticas na participação em eventos do movimento estudantil, com representação de delegações e na promoção de eventos acadêmicos, políticos, artísticos e esportivos.\\n',\n",
        "              '3. Conceder ajuda de custo aos estudantes que representam as seleções esportivas da Universidade Federal do Ceará em competições, locais, regionais, nacionais e internacionais.\\n',\n",
        "              'DIVISÃO DE APOIO ADMINISTRATIVO\\nEndereço: Rua Paulino Nogueira, 315 – Bloco III – 1° Andar – Benfica – Fortaleza\\xa0– CE\\nFone: (85) 3366 7440 / 3366 7443\\nFax: (85) 3366 7442\\nE-mail: prae.secretaria@ufc.br\\n',\n",
        "              'Rua Paulino Nogueira, 315 - Bloco III - 1° Andar - Benfica - CEP 60020-270 - Fortaleza - CE\\n',\n",
        "              'tel: +55 (85) 3366 7440\\n'],\n",
        "             'Auxílio Creche': ['O Auxílio-Creche foi regulamentado por meio do anexo ad referendum XXI – da resolução nº 08/2013 do CEPE. Para acessar a este benefício, a/o discente deve estar matriculada(o) em um dos cursos de graduação da UFC, na carga horária mínima exigida no edital correspondente; apresentar situação de vulnerabilidade socioeconômica com base nos parâmetros estabelecidos no PNAES, e ter filho(a) com idade entre 6 meses e 4 anos incompletos, que esteja sob sua guarda e que coabite com a(o) mesma(o).\\n',\n",
        "              'No que diz respeito à renovação do benefício, esta se dá conforme as indicações dispostas nos editais. É válido ainda ressaltar, que o auxílio-creche é cumulativo com quaisquer outras bolsas, estágios ou trabalhos formais remunerados dos discentes.\\n',\n",
        "              'DIVISÃO DE BENEFÍCIOS E MORADIA\\nEndereço: Rua Paulino Nogueira, 315 – Bloco III – 1° Andar – Benfica – Fortaleza\\xa0– CE\\nFone: (85) 3366 7448\\nE-mail: dibem.case@ufc.br\\n',\n",
        "              'Rua Paulino Nogueira, 315 - Bloco III - 1° Andar - Benfica - CEP 60020-270 - Fortaleza - CE\\n',\n",
        "              'tel: +55 (85) 3366 7440\\n'],\n",
        "             'Auxílio Emergencial': ['O Auxílio Emergencial surgiu com o intuito de assistir estudantes em situação de vulnerabilidade socioeconômica, que ingressam na universidade em listas de espera do SISU, e que portanto, adentram após os processos seletivos da PRAE. Também foi originalmente pensado para atender estudantes que chegavam no segundo semestre letivo do ano, em chamada regular ou de espera. Mas com o passar do tempo passou a atender igualmente outras situações, tais como:\\n',\n",
        "              'Para a solicitação do benefício o/a discente deve atender pelo menos um dos requisitos estabelecidos, possuir renda familiar per capita compatível com a definida pelo PNAES e estar atento aos demais requisitos dispostos nos editais. Ressalte-se que, para solicitá-lo, os discentes não podem ser beneficiados por outras bolsas, estágios ou outras formas de rendas formais, a exceção dos residentes e beneficiários do auxílio-moradia.\\n',\n",
        "              'DIVISÃO DE BENEFÍCIOS E MORADIA\\nEndereço: Rua Paulino Nogueira, 315 – Bloco III – 1° Andar – Benfica – Fortaleza\\xa0– CE\\nFone: (85) 3366 7448\\nE-mail: dibem.case@ufc.br\\n',\n",
        "              'Rua Paulino Nogueira, 315 - Bloco III - 1° Andar - Benfica - CEP 60020-270 - Fortaleza - CE\\n',\n",
        "              'tel: +55 (85) 3366 7440\\n'],\n",
        "             'Auxílio Moradia': ['O Programa Auxílio Moradia tem por objetivo viabilizar a permanência de estudantes matriculados nos Cursos de Graduação dos Campi da Universidade Federal do Ceará (UFC) em Crateús, Quixadá, Russas e Sobral em comprovada situação de vulnerabilidade econômica, assegurando-lhes auxílio institucional para complementação de despesas com moradia e alimentação durante todo o período do curso ou enquanto persistir a mesma situação.\\n',\n",
        "              'Importante! A vinculação dos estudantes ao Programa Auxílio Moradia não os impede de receber, por mérito, qualquer uma das bolsas dos diversos programas da UFC, de agências de fomento ou de empresas.\\n',\n",
        "              'COORDENADORIA DE ASSISTÊNCIA ESTUDANTIL\\nDIVISÃO DE BENEFÍCIOS E MORADIA\\nFone: (85) 3366 7448\\n',\n",
        "              'E-mail: dibem.case@ufc.br\\n',\n",
        "              'Rua Paulino Nogueira, 315 - Bloco III - 1° Andar - Benfica - CEP 60020-270 - Fortaleza - CE\\n',\n",
        "              'tel: +55 (85) 3366 7440\\n'],\n",
        "             'Acompanhamento ao Estudante': ['DIVISÃO DE ATENÇÃO AO ESTUDANTE – DAE\\nEndereço: Rua Paulino Nogueira, 315 – Bloco III – 1° andar – Benfica – Fortaleza – CE\\nFone: (85) 3366 7447 – E-mail: dae.case@ufc.br\\n',\n",
        "              'A equipe da Divisão de Atenção ao Estudante (DAE), ligada à Coordenadoria de Assistência Estudantil (CASE), realiza o acompanhamento psicológico e psicossocial de estudantes com matrícula ativa em cursos de graduação da UFC Fortaleza. De 1987 até 2016, o trabalho desenvolvido hoje pela DAE era realizado pelo Programa de Apoio Psicopedagógico ao Estudante Universitário (PAPEU).\\n',\n",
        "              'A equipe da DAE é composta por psicólogos(as) e assistente social. São ofertados gratuitamente os seguintes serviços: Acolhimento; Atendimento Psicológico/Psicanalítico Individual; e Atividades de Grupo.\\n',\n",
        "              'Rua Paulino Nogueira, 315 - Bloco III - 1° Andar - Benfica - CEP 60020-270 - Fortaleza - CE\\n',\n",
        "              'tel: +55 (85) 3366 7440\\n'],\n",
        "             'Bolsa de Incentivo ao Desporto': ['O Programa Bolsa de Incentivo ao Desporto tem por objetivo incentivar os estudantes a incrementarem seu desempenho desportivo e acadêmico, mediante atuação em atividades relativas à gestão desportiva e rendimento desportivo.\\n',\n",
        "              'COORDENADORIA DE ATIVIDADES DESPORTIVAS\\nEndereço: Rua Paulino Nogueira, 2762 – Benfica\\xa0– Fortaleza\\xa0– CE\\nFone: (85) 3366 7871\\nE-mail:desportoufc@ufc.br\\n',\n",
        "              'Rua Paulino Nogueira, 315 - Bloco III - 1° Andar - Benfica - CEP 60020-270 - Fortaleza - CE\\n',\n",
        "              'tel: +55 (85) 3366 7440\\n'],\n",
        "             'Bolsa de Iniciação Acadêmica': ['O Programa Bolsa de Iniciação Acadêmica tem por objetivo propiciar aos estudantes de Cursos de Graduação Presenciais da Universidade Federal do Ceará (UFC) – em situação de vulnerabilidade sócio-econômica comprovada – especialmente os de semestres iniciais, condições financeiras para sua permanência e desempenho acadêmico satisfatório, mediante atuação, em caráter de iniciação acadêmica, nas diversas unidades da Instituição.\\n',\n",
        "              'DIVISÃO DE BENEFÍCIOS E MORADIA\\nEndereço: Rua Paulino Nogueira, 315 – Bloco III – 1º Andar – Benfica\\xa0– Fortaleza\\xa0– CE\\nFone: (85) 3366 7448\\nFax: (85) 3366 7442\\nE-mail: dibem.case@ufc.br\\n',\n",
        "              'Rua Paulino Nogueira, 315 - Bloco III - 1° Andar - Benfica - CEP 60020-270 - Fortaleza - CE\\n',\n",
        "              'tel: +55 (85) 3366 7440\\n'],\n",
        "             'Residência Universitária': ['\\n',\n",
        "              'A Moradia Estudantil no âmbito da residência universitária visa contribuir para permanência do estudante em vulnerabilidade socioeconômica nos cursos presenciais de graduação, considerando que este estudante não possui núcleo familiar residindo na sede onde realiza a graduação.\\n',\n",
        "              'A assistência estudantil assim busca propiciar condições dignas de moradia e alimentação de qualidade para este público a fim de concluir o curso de forma satisfatória.\\n',\n",
        "              'Atualmente há em funcionamento 10 residências universitárias: 09 no campus Benfica, 01 no campus Pici.\\n',\n",
        "              'DIVISÃO DE BENEFÍCIOS E MORADIA\\n',\n",
        "              'Endereço: Rua Paulino Nogueira, 315 – Bloco III – 1º Andar – Benfica\\xa0– Fortaleza\\xa0– CE\\nFone: (85) 3366 7448\\nFax: (85) 3366 7442\\nE-mail:dibem.case@ufc.br\\n',\n",
        "              'Rua Paulino Nogueira, 315 - Bloco III - 1° Andar - Benfica - CEP 60020-270 - Fortaleza - CE\\n',\n",
        "              'tel: +55 (85) 3366 7440\\n'],\n",
        "             'Restaurante Universitário': ['O Programa de Restaurante Universitário ter por objetivo oferecer refeição balanceada e de qualidade a estudantes, docentes, servidores técnico-administrativos da UFC e pessoal a serviço da UFC de empresas terceirizadas contratadas, além de constituir um espaço de convivência e integração da comunidade universitária.\\n',\n",
        "              'COORDENADORIA DE RESTAURANTE UNIVERSITÁRIO\\nFone/Fax: (85) 3366 7441\\nE-mail:ru@ufc.br\\n',\n",
        "              'HORÁRIOS DE FUNCIONAMENTO:\\nCafé da manhã (somente para Residentes): das 6h15min às 8h30min\\nAlmoço: das 11h às 14h\\nJantar: das 17h às 19h30min\\nRecarga dos cartões: das 08h às 19h\\n',\n",
        "              'VALOR DAS REFEIÇÕES:\\nEstudante – R$ 1,10\\nServidor técnico–administrativo – R$ 13,50\\xa0 – Atualizado em Abril/2022\\nDocente – R$ 13,50 – Atualizado em Abril/2022\\n\\n',\n",
        "              'PÚBLICO ALVO: Estudantes, servidores técnico–administrativos, docentes e pessoal a serviço da UFC de empresas terceirizadas contratadas.\\n',\n",
        "              'Além das categorias acima descritas, também podem solicitar o acesso aos Refeitórios participantes de eventos realizados pela UFC (congressos, encontro de estudantes, cursos, etc.), desde que estejam vinculados a outras Instituições Federais de Ensino Superior, pesquisadores que estejam desenvolvendo algum trabalho em parceria com a Universidade, bolsistas de projetos, dentre outros, desde que formalizem a solicitação através do envio de um ofício para a Pró-Reitoria de Assuntos Estudantis.\\n',\n",
        "              'Formulário de\\xa0Solicitação de Serviços do RU – Eventos de Serviços do RU (DOC 113 KB) Outros formatos: ODT (57 KB) PDF (46 KB)\\n',\n",
        "              'Controle Gerencial de Participantes de Eventos (DOC 145 KB) Outros formatos: ODT (58 KB) PDF (61 KB)\\n',\n",
        "              'Controle Gerencial de Visitantes\\xa0(DOC 144 KB) Outros formatos: ODT (58 KB) PDF (61 KB)\\n',\n",
        "              'Rua Paulino Nogueira, 315 - Bloco III - 1° Andar - Benfica - CEP 60020-270 - Fortaleza - CE\\n',\n",
        "              'tel: +55 (85) 3366 7440\\n'],\n",
        "             'Projetos e Ações': ['A\\xa0 equipe da Pró-Reitoria de Assuntos Estudantis, se reinventou e, mesmo no período de pandemia desenvolveu inúmeras atividades, ações, projetos, mudanças estruturais e implementação de novos benefícios objetivando a melhoria de seu produto e alcançar novos objetivos.\\n',\n",
        "              '\\xa0\\n',\n",
        "              'Confere aqui as nossas ações inovadoras\\n',\n",
        "              'Ações Inovadoras da PRAE ( PDF 6 MB)\\n',\n",
        "              'Rua Paulino Nogueira, 315 - Bloco III - 1° Andar - Benfica - CEP 60020-270 - Fortaleza - CE\\n',\n",
        "              'tel: +55 (85) 3366 7440\\n'],\n",
        "             'Editais e Resultados': ['\\xa0\\n',\n",
        "              'Rua Paulino Nogueira, 315 - Bloco III - 1° Andar - Benfica - CEP 60020-270 - Fortaleza - CE\\n',\n",
        "              'tel: +55 (85) 3366 7440\\n'],\n",
        "             'Endereços e Telefones': ['Pró-Reitora: Profa. Dra. Geovana Maria Cartaxo de Arruda Freire\\nEndereço: Rua Paulino Nogueira, 315 – Benfica – CEP 60020-270 – Fortaleza – CE\\nFone: (85) 3366 7440\\nFax: (85) 3366 7442\\nE-mail: prae.secretaria@ufc.br\\n',\n",
        "              'DIVISÃO DE APOIO ADMINISTRATIVO\\nFone: (85) 3366 7440\\nFax: (85) 3366 7442\\nE-mail: prae.secretaria@ufc.br\\n',\n",
        "              'ASSESSORIA ADMINISTRATIVA\\nFax: (85) 3366 7442\\nE-mail: aap.prae@ufc.br\\n',\n",
        "              'Coordenadora: Márcia Regina Mariano de Sousa Arão\\nFone: (85) 3366 7445 / 3366 7444\\nFax: (85) 3366 7442\\nE-mail: case@ufc.br\\n',\n",
        "              'DIVISÃO DE ATENÇÃO AO ESTUDANTE\\nFone: (85) 3366 7447\\nFax: (85) 3366 7442\\nE-mail: dae.case@ufc.br\\n',\n",
        "              'DIVISÃO DE BENEFÍCIOS E MORADIA\\nFone: (85) 3366 7448\\nFax: (85) 3366 7442\\nE-mail: dibem.case@ufc.br\\n',\n",
        "              'Coordenador: Wildner Lins de Souza\\nEndereço: Avenida da Universidade, 2762 – Campus do Benfica II -Quadra do CEU ao lado do Bloco de Psicologia – Fortaleza – CE\\nFone: (85) 3366 7871\\nE-mail: desportoufc@ufc.br\\n',\n",
        "              'DIVISÃO DE DESPORTO DE PARTICIPAÇÃO\\nFone: (85) 3366 7871\\n',\n",
        "              'DIVISÃO DE DESPORTO DE RENDIMENTO\\nDiretor: José Clovandi Costa Filho\\nFone: (85) 3366 7871\\n',\n",
        "              'Coordenador: Francisco José Albuquerque Cruz\\nFone/Fax: (85) 3366 7441\\nE-mail: praeufc@gmail.com\\n',\n",
        "              'DIVISÃO DE ALIMENTAÇÃO E NUTRIÇÃO\\nDiretora: Natália Lopes Vasconcelos\\nFone: (85) 3366 9531\\n',\n",
        "              'Seção do Refeitório do Benfica\\nChefe: Conceição de Maria Coelho de Carvalho\\nFone/Fax: (85) 3366 7776\\n',\n",
        "              'Seção do Refeitório do Pici\\nChefe: Cleonice de Castro Silva\\nFone/Fax: (85) 3366 9530\\n',\n",
        "              'Seção do Refeitório do Porangabuçu\\nFone/Fax: (85) 3366 7447\\n',\n",
        "              'DIVISÃO DE SERVIÇOS OPERACIONAIS\\nDiretor: José Pereira Duarte\\nFone/Fax: (85) 3366 9530\\n',\n",
        "              'Rua Paulino Nogueira, 315 - Bloco III - 1° Andar - Benfica - CEP 60020-270 - Fortaleza - CE\\n',\n",
        "              'tel: +55 (85) 3366 7440\\n'],\n",
        "             'Notícias': ['Rua Paulino Nogueira, 315 - Bloco III - 1° Andar - Benfica - CEP 60020-270 - Fortaleza - CE\\n',\n",
        "              'tel: +55 (85) 3366 7440\\n'],\n",
        "             'OBSERVAÊ – Observatório da Vida Estudantil': ['\\n',\n",
        "              'A Pró-Reitoria de Assuntos Estudantis, no dia 26 de novembro de 2020, realizou solenidade de lançamento do Observatório da Vida Estudantil (OBSERVAÊ).\\n',\n",
        "              'O referido observatório objetiva sistematizar, coletar e divulgar informações pertinentes à vida do estudante da UFC, com foco em fortalecer e orientar a política de assistência estudantil, e oferecer dados e subsídios para o aperfeiçoamento dos processos de planejamento, gestão, execução e avaliação desta importante política pública de inclusão social. O Projeto contou com apoio e colaboração das diversas divisões que formam a PRAE e consta como objetivo prioritário do nosso Plano de Desenvolvimento Institucional (PDI).\\n',\n",
        "              'Segue portaria que instituiu o Observatório da Vida Estudantil (OBSERVAÊ)\\n',\n",
        "              '⇒ Portaria nº 178, de 25 de novembro de 2020, do Gabinete do Reitor\\n',\n",
        "              'Confira também a notícia e o webnário do seu lançamento na íntegra:\\n',\n",
        "              '⇒ Página da UFC (temporariamente indisponível em razão do período defeso eleitoral)\\n',\n",
        "              '⇒ Galeria de fotos (temporariamente indisponível em razão do período defeso eleitoral)\\n',\n",
        "              '⇒ Webnário “Assistência Estudantil: avaliação e fortalecimento da política nas instituições de nível superior”:\\n',\n",
        "              '\\n',\n",
        "              'Rua Paulino Nogueira, 315 - Bloco III - 1° Andar - Benfica - CEP 60020-270 - Fortaleza - CE\\n',\n",
        "              'tel: +55 (85) 3366 7440\\n'],\n",
        "             'MapSaúde – Promoção da Qualidade de Vida Estudantil': ['Esta iniciativa objetiva coletar, organizar e divulgar dados sobre projetos e ações internos e externos à UFC que contribuam para a Qualidade de Vida dos estudantes.\\n',\n",
        "              'As exigências decorrentes da rotina acadêmica (conteúdos curriculares, avaliações, apresentação de seminários, habilidades sociais, etc.), aliadas a fatores como vulnerabilidade socioeconômica e diversas fragilidades psíquicas, podem levar a condições de tensão, angústia e até quadros de adoecimento.\\n',\n",
        "              'Tais questões, identificadas pela equipe técnica da Pró-Reitoria de Assuntos Estudantis (PRAE) nos seus afazeres diários, somadas à impossibilidade de suprir a demanda por atendimento psicológico, levaram à formulação deste Projeto denominado Mapsaúde.\\n',\n",
        "              'Os interessados em contribuir com o Mapsaúde, divulgando projetos e ações relativos à qualidade de vida estudantil, podem entrar em contato conosco via e-mail: mapsaude@ufc.br ou através do instagram @mapsaudeufc. Agradecemos a parceria.\\n',\n",
        "              'Listados abaixo estão os projetos mapeados até o momento que se adequaram para funcionar durante o período da pandemia:\\n',\n",
        "              'Rua Paulino Nogueira, 315 - Bloco III - 1° Andar - Benfica - CEP 60020-270 - Fortaleza - CE\\n',\n",
        "              'tel: +55 (85) 3366 7440\\n'],\n",
        "             'Agenda da Pró-reitora': ['\\n',\n",
        "              'Rua Paulino Nogueira, 315 - Bloco III - 1° Andar - Benfica - CEP 60020-270 - Fortaleza - CE\\n',\n",
        "              'tel: +55 (85) 3366 7440\\n'],\n",
        "             'Intimações': ['Ficam intimados os estudantes abaixo listados, \\xa0conforme determina o Art. 26, § 4º, da Lei no 9.784/99, a comparecer à Pró- Reitoria de Assuntos Estudantis, da Universidade Federal do Ceará (UFC), situada à Rua Paulino Nogueira, n 315- Fortaleza – CE, das 08:00h às 17:00h, a fim de cumprir o que determina cada Edital, os quais podem ser acessados clicando no respectivo links\\n',\n",
        "              '\\xa0\\n',\n",
        "              'MARIA DEANE SANTOS\\n',\n",
        "              'JOAO VICTOR ARAGÃO ALVES 18/08/2022\\n',\n",
        "              '\\xa0\\n',\n",
        "              'JOAO VICTOR ARAGÃO ALVES 05/07/2022\\n',\n",
        "              '\\xa0\\n',\n",
        "              'Milena Bezerra Gomes 25/04/2022\\n',\n",
        "              'Lucivania Santos Lima 25/04/2022\\n',\n",
        "              'Eric Alves Mendes 25/04/2022\\n',\n",
        "              'Carine de Mesquita Barbosa 25/04/2022\\n',\n",
        "              '\\xa0\\n',\n",
        "              '\\xa0\\n',\n",
        "              'Ian costa fernandes 14/02/2022\\n',\n",
        "              'Jonathan de sousa paiva 14/02/2022\\n',\n",
        "              'Renato gomes da costa 14/02/2022\\n',\n",
        "              'Alysson de oliveira andrade 14/02/2022\\n',\n",
        "              'Bruno pereira de almeida 14/02/2022\\n',\n",
        "              '\\xa0\\n',\n",
        "              '\\xa0\\n',\n",
        "              'Francisco Herivelton Peixoto Cardoso 07/02/2022\\n',\n",
        "              '\\xa0\\n',\n",
        "              'Vanessa Venancio de Sousa 04/02/2022\\n',\n",
        "              '\\xa0\\n',\n",
        "              'Humberto Goncalves Meireles 02/02/2022\\n',\n",
        "              '\\xa0\\n',\n",
        "              'Yoanes Maciel de Sousa 21/12/2021\\n',\n",
        "              'Thiago Silva Duarte 21/12/2021\\n',\n",
        "              'Ramon Mota de Sousa 21/12/2021\\n',\n",
        "              'Raireno Pinheiro Maciel 21/12/2021\\n',\n",
        "              'Maria Eduarda Sousa Lopes 21/12/2021\\n',\n",
        "              'Debora Cristina Olivindo da Silva 21/12/2021\\n',\n",
        "              '\\xa0\\n',\n",
        "              '\\xa0\\n',\n",
        "              'ANTONIO JOSUELDO APRIGIO DE SOUZA 05/11/2021\\n',\n",
        "              'KATIANE FERREIRA DA SILVA 05/11/2021\\n',\n",
        "              'PAULO VICTOR SOMBRA BOMFIM\\xa0 05/11/2021\\n',\n",
        "              'FRANCISCA ELAINE DE SOUZA FRANÇA 28/10/2021\\n',\n",
        "              'Rua Paulino Nogueira, 315 - Bloco III - 1° Andar - Benfica - CEP 60020-270 - Fortaleza - CE\\n',\n",
        "              'tel: +55 (85) 3366 7440\\n'],\n",
        "             0: [],\n",
        "             1: []})"
      ],
      "metadata": {
        "id": "nUErLbGlWtHo"
      },
      "execution_count": null,
      "outputs": []
    },
    {
      "cell_type": "code",
      "source": [
        "topics = list(conteudo_prae.keys())"
      ],
      "metadata": {
        "id": "A0ayWizKXGLK"
      },
      "execution_count": null,
      "outputs": []
    },
    {
      "cell_type": "code",
      "source": [
        "answer  =list(conteudo_prae.values())"
      ],
      "metadata": {
        "id": "CfZhmA6YXGW_"
      },
      "execution_count": null,
      "outputs": []
    },
    {
      "cell_type": "code",
      "source": [
        "# Crindo dataframe para coleta de dados\n",
        "planilha_prae = pd.DataFrame(data = {'resposta':answer},index = topics)\n",
        "# Dropando linhas indesejadas\n",
        "def dropar_linhas(df,*args):\n",
        "    lista_drop = list(args)\n",
        "    nova_planilha = df.drop(axis = 0, index = lista_drop)\n",
        "    return nova_planilha\n",
        "planilha_prae = dropar_linhas(planilha_prae, 'Editais e Resultados','Endereços e Telefones','Notícias','Agenda da Pró-reitora','Intimações',0,1)\n",
        "planilha_prae"
      ],
      "metadata": {
        "colab": {
          "base_uri": "https://localhost:8080/",
          "height": 426
        },
        "id": "ab2f5UQVZOhc",
        "outputId": "2c032862-ea96-43be-85a9-c7ddf5a1d6f2"
      },
      "execution_count": null,
      "outputs": [
        {
          "output_type": "execute_result",
          "data": {
            "text/plain": [
              "                                                                                             resposta\n",
              "Ajuda de Custo                                      [O Programa Ajuda de Custo tem por objetivos:\\...\n",
              "Auxílio Creche                                      [O Auxílio-Creche foi regulamentado por meio d...\n",
              "Auxílio Emergencial                                 [O Auxílio Emergencial surgiu com o intuito de...\n",
              "Auxílio Moradia                                     [O Programa Auxílio Moradia tem por objetivo v...\n",
              "Acompanhamento ao Estudante                         [DIVISÃO DE ATENÇÃO AO ESTUDANTE – DAE\\nEndere...\n",
              "Bolsa de Incentivo ao Desporto                      [O Programa Bolsa de Incentivo ao Desporto tem...\n",
              "Bolsa de Iniciação Acadêmica                        [O Programa Bolsa de Iniciação Acadêmica tem p...\n",
              "Residência Universitária                            [\\n, A Moradia Estudantil no âmbito da residên...\n",
              "Restaurante Universitário                           [O Programa de Restaurante Universitário ter p...\n",
              "Projetos e Ações                                    [A  equipe da Pró-Reitoria de Assuntos Estudan...\n",
              "OBSERVAÊ – Observatório da Vida Estudantil          [\\n, A Pró-Reitoria de Assuntos Estudantis, no...\n",
              "MapSaúde – Promoção da Qualidade de Vida Estuda...  [Esta iniciativa objetiva coletar, organizar e..."
            ],
            "text/html": [
              "\n",
              "  <div id=\"df-7ff66be2-1fe9-4888-a962-10691235dc67\">\n",
              "    <div class=\"colab-df-container\">\n",
              "      <div>\n",
              "<style scoped>\n",
              "    .dataframe tbody tr th:only-of-type {\n",
              "        vertical-align: middle;\n",
              "    }\n",
              "\n",
              "    .dataframe tbody tr th {\n",
              "        vertical-align: top;\n",
              "    }\n",
              "\n",
              "    .dataframe thead th {\n",
              "        text-align: right;\n",
              "    }\n",
              "</style>\n",
              "<table border=\"1\" class=\"dataframe\">\n",
              "  <thead>\n",
              "    <tr style=\"text-align: right;\">\n",
              "      <th></th>\n",
              "      <th>resposta</th>\n",
              "    </tr>\n",
              "  </thead>\n",
              "  <tbody>\n",
              "    <tr>\n",
              "      <th>Ajuda de Custo</th>\n",
              "      <td>[O Programa Ajuda de Custo tem por objetivos:\\...</td>\n",
              "    </tr>\n",
              "    <tr>\n",
              "      <th>Auxílio Creche</th>\n",
              "      <td>[O Auxílio-Creche foi regulamentado por meio d...</td>\n",
              "    </tr>\n",
              "    <tr>\n",
              "      <th>Auxílio Emergencial</th>\n",
              "      <td>[O Auxílio Emergencial surgiu com o intuito de...</td>\n",
              "    </tr>\n",
              "    <tr>\n",
              "      <th>Auxílio Moradia</th>\n",
              "      <td>[O Programa Auxílio Moradia tem por objetivo v...</td>\n",
              "    </tr>\n",
              "    <tr>\n",
              "      <th>Acompanhamento ao Estudante</th>\n",
              "      <td>[DIVISÃO DE ATENÇÃO AO ESTUDANTE – DAE\\nEndere...</td>\n",
              "    </tr>\n",
              "    <tr>\n",
              "      <th>Bolsa de Incentivo ao Desporto</th>\n",
              "      <td>[O Programa Bolsa de Incentivo ao Desporto tem...</td>\n",
              "    </tr>\n",
              "    <tr>\n",
              "      <th>Bolsa de Iniciação Acadêmica</th>\n",
              "      <td>[O Programa Bolsa de Iniciação Acadêmica tem p...</td>\n",
              "    </tr>\n",
              "    <tr>\n",
              "      <th>Residência Universitária</th>\n",
              "      <td>[\\n, A Moradia Estudantil no âmbito da residên...</td>\n",
              "    </tr>\n",
              "    <tr>\n",
              "      <th>Restaurante Universitário</th>\n",
              "      <td>[O Programa de Restaurante Universitário ter p...</td>\n",
              "    </tr>\n",
              "    <tr>\n",
              "      <th>Projetos e Ações</th>\n",
              "      <td>[A  equipe da Pró-Reitoria de Assuntos Estudan...</td>\n",
              "    </tr>\n",
              "    <tr>\n",
              "      <th>OBSERVAÊ – Observatório da Vida Estudantil</th>\n",
              "      <td>[\\n, A Pró-Reitoria de Assuntos Estudantis, no...</td>\n",
              "    </tr>\n",
              "    <tr>\n",
              "      <th>MapSaúde – Promoção da Qualidade de Vida Estudantil</th>\n",
              "      <td>[Esta iniciativa objetiva coletar, organizar e...</td>\n",
              "    </tr>\n",
              "  </tbody>\n",
              "</table>\n",
              "</div>\n",
              "      <button class=\"colab-df-convert\" onclick=\"convertToInteractive('df-7ff66be2-1fe9-4888-a962-10691235dc67')\"\n",
              "              title=\"Convert this dataframe to an interactive table.\"\n",
              "              style=\"display:none;\">\n",
              "        \n",
              "  <svg xmlns=\"http://www.w3.org/2000/svg\" height=\"24px\"viewBox=\"0 0 24 24\"\n",
              "       width=\"24px\">\n",
              "    <path d=\"M0 0h24v24H0V0z\" fill=\"none\"/>\n",
              "    <path d=\"M18.56 5.44l.94 2.06.94-2.06 2.06-.94-2.06-.94-.94-2.06-.94 2.06-2.06.94zm-11 1L8.5 8.5l.94-2.06 2.06-.94-2.06-.94L8.5 2.5l-.94 2.06-2.06.94zm10 10l.94 2.06.94-2.06 2.06-.94-2.06-.94-.94-2.06-.94 2.06-2.06.94z\"/><path d=\"M17.41 7.96l-1.37-1.37c-.4-.4-.92-.59-1.43-.59-.52 0-1.04.2-1.43.59L10.3 9.45l-7.72 7.72c-.78.78-.78 2.05 0 2.83L4 21.41c.39.39.9.59 1.41.59.51 0 1.02-.2 1.41-.59l7.78-7.78 2.81-2.81c.8-.78.8-2.07 0-2.86zM5.41 20L4 18.59l7.72-7.72 1.47 1.35L5.41 20z\"/>\n",
              "  </svg>\n",
              "      </button>\n",
              "      \n",
              "  <style>\n",
              "    .colab-df-container {\n",
              "      display:flex;\n",
              "      flex-wrap:wrap;\n",
              "      gap: 12px;\n",
              "    }\n",
              "\n",
              "    .colab-df-convert {\n",
              "      background-color: #E8F0FE;\n",
              "      border: none;\n",
              "      border-radius: 50%;\n",
              "      cursor: pointer;\n",
              "      display: none;\n",
              "      fill: #1967D2;\n",
              "      height: 32px;\n",
              "      padding: 0 0 0 0;\n",
              "      width: 32px;\n",
              "    }\n",
              "\n",
              "    .colab-df-convert:hover {\n",
              "      background-color: #E2EBFA;\n",
              "      box-shadow: 0px 1px 2px rgba(60, 64, 67, 0.3), 0px 1px 3px 1px rgba(60, 64, 67, 0.15);\n",
              "      fill: #174EA6;\n",
              "    }\n",
              "\n",
              "    [theme=dark] .colab-df-convert {\n",
              "      background-color: #3B4455;\n",
              "      fill: #D2E3FC;\n",
              "    }\n",
              "\n",
              "    [theme=dark] .colab-df-convert:hover {\n",
              "      background-color: #434B5C;\n",
              "      box-shadow: 0px 1px 3px 1px rgba(0, 0, 0, 0.15);\n",
              "      filter: drop-shadow(0px 1px 2px rgba(0, 0, 0, 0.3));\n",
              "      fill: #FFFFFF;\n",
              "    }\n",
              "  </style>\n",
              "\n",
              "      <script>\n",
              "        const buttonEl =\n",
              "          document.querySelector('#df-7ff66be2-1fe9-4888-a962-10691235dc67 button.colab-df-convert');\n",
              "        buttonEl.style.display =\n",
              "          google.colab.kernel.accessAllowed ? 'block' : 'none';\n",
              "\n",
              "        async function convertToInteractive(key) {\n",
              "          const element = document.querySelector('#df-7ff66be2-1fe9-4888-a962-10691235dc67');\n",
              "          const dataTable =\n",
              "            await google.colab.kernel.invokeFunction('convertToInteractive',\n",
              "                                                     [key], {});\n",
              "          if (!dataTable) return;\n",
              "\n",
              "          const docLinkHtml = 'Like what you see? Visit the ' +\n",
              "            '<a target=\"_blank\" href=https://colab.research.google.com/notebooks/data_table.ipynb>data table notebook</a>'\n",
              "            + ' to learn more about interactive tables.';\n",
              "          element.innerHTML = '';\n",
              "          dataTable['output_type'] = 'display_data';\n",
              "          await google.colab.output.renderOutput(dataTable, element);\n",
              "          const docLink = document.createElement('div');\n",
              "          docLink.innerHTML = docLinkHtml;\n",
              "          element.appendChild(docLink);\n",
              "        }\n",
              "      </script>\n",
              "    </div>\n",
              "  </div>\n",
              "  "
            ]
          },
          "metadata": {},
          "execution_count": 88
        }
      ]
    },
    {
      "cell_type": "code",
      "source": [
        "# definindo formato de texto legível\n",
        "def formata_texto(df,linhas,colunas):\n",
        "    for ind in linhas:\n",
        "      frase = ''\n",
        "      for texto in planilha_prae.loc[ind,colunas]:\n",
        "        frase = frase +  texto\n",
        "      planilha_prae.loc[ind,colunas] = frase\n",
        "      frase = ''\n",
        "    return df\n",
        "planilha_prae = formata_texto(planilha_prae,planilha_prae.index,'resposta')"
      ],
      "metadata": {
        "id": "_Y8T3AO0c8WZ"
      },
      "execution_count": null,
      "outputs": []
    },
    {
      "cell_type": "code",
      "source": [
        "planilha_prae"
      ],
      "metadata": {
        "colab": {
          "base_uri": "https://localhost:8080/",
          "height": 426
        },
        "id": "toFmbkEWgsFx",
        "outputId": "02653280-b4d1-4bf3-ec94-25a937129667"
      },
      "execution_count": null,
      "outputs": [
        {
          "output_type": "execute_result",
          "data": {
            "text/plain": [
              "                                                                                             resposta\n",
              "Ajuda de Custo                                      O Programa Ajuda de Custo tem por objetivos:\\n...\n",
              "Auxílio Creche                                      O Auxílio-Creche foi regulamentado por meio do...\n",
              "Auxílio Emergencial                                 O Auxílio Emergencial surgiu com o intuito de ...\n",
              "Auxílio Moradia                                     O Programa Auxílio Moradia tem por objetivo vi...\n",
              "Acompanhamento ao Estudante                         DIVISÃO DE ATENÇÃO AO ESTUDANTE – DAE\\nEndereç...\n",
              "Bolsa de Incentivo ao Desporto                      O Programa Bolsa de Incentivo ao Desporto tem ...\n",
              "Bolsa de Iniciação Acadêmica                        O Programa Bolsa de Iniciação Acadêmica tem po...\n",
              "Residência Universitária                            \\nA Moradia Estudantil no âmbito da residência...\n",
              "Restaurante Universitário                           O Programa de Restaurante Universitário ter po...\n",
              "Projetos e Ações                                    A  equipe da Pró-Reitoria de Assuntos Estudant...\n",
              "OBSERVAÊ – Observatório da Vida Estudantil          \\nA Pró-Reitoria de Assuntos Estudantis, no di...\n",
              "MapSaúde – Promoção da Qualidade de Vida Estuda...  Esta iniciativa objetiva coletar, organizar e ..."
            ],
            "text/html": [
              "\n",
              "  <div id=\"df-80580c91-e686-4d43-a566-44cbab91a7d5\">\n",
              "    <div class=\"colab-df-container\">\n",
              "      <div>\n",
              "<style scoped>\n",
              "    .dataframe tbody tr th:only-of-type {\n",
              "        vertical-align: middle;\n",
              "    }\n",
              "\n",
              "    .dataframe tbody tr th {\n",
              "        vertical-align: top;\n",
              "    }\n",
              "\n",
              "    .dataframe thead th {\n",
              "        text-align: right;\n",
              "    }\n",
              "</style>\n",
              "<table border=\"1\" class=\"dataframe\">\n",
              "  <thead>\n",
              "    <tr style=\"text-align: right;\">\n",
              "      <th></th>\n",
              "      <th>resposta</th>\n",
              "    </tr>\n",
              "  </thead>\n",
              "  <tbody>\n",
              "    <tr>\n",
              "      <th>Ajuda de Custo</th>\n",
              "      <td>O Programa Ajuda de Custo tem por objetivos:\\n...</td>\n",
              "    </tr>\n",
              "    <tr>\n",
              "      <th>Auxílio Creche</th>\n",
              "      <td>O Auxílio-Creche foi regulamentado por meio do...</td>\n",
              "    </tr>\n",
              "    <tr>\n",
              "      <th>Auxílio Emergencial</th>\n",
              "      <td>O Auxílio Emergencial surgiu com o intuito de ...</td>\n",
              "    </tr>\n",
              "    <tr>\n",
              "      <th>Auxílio Moradia</th>\n",
              "      <td>O Programa Auxílio Moradia tem por objetivo vi...</td>\n",
              "    </tr>\n",
              "    <tr>\n",
              "      <th>Acompanhamento ao Estudante</th>\n",
              "      <td>DIVISÃO DE ATENÇÃO AO ESTUDANTE – DAE\\nEndereç...</td>\n",
              "    </tr>\n",
              "    <tr>\n",
              "      <th>Bolsa de Incentivo ao Desporto</th>\n",
              "      <td>O Programa Bolsa de Incentivo ao Desporto tem ...</td>\n",
              "    </tr>\n",
              "    <tr>\n",
              "      <th>Bolsa de Iniciação Acadêmica</th>\n",
              "      <td>O Programa Bolsa de Iniciação Acadêmica tem po...</td>\n",
              "    </tr>\n",
              "    <tr>\n",
              "      <th>Residência Universitária</th>\n",
              "      <td>\\nA Moradia Estudantil no âmbito da residência...</td>\n",
              "    </tr>\n",
              "    <tr>\n",
              "      <th>Restaurante Universitário</th>\n",
              "      <td>O Programa de Restaurante Universitário ter po...</td>\n",
              "    </tr>\n",
              "    <tr>\n",
              "      <th>Projetos e Ações</th>\n",
              "      <td>A  equipe da Pró-Reitoria de Assuntos Estudant...</td>\n",
              "    </tr>\n",
              "    <tr>\n",
              "      <th>OBSERVAÊ – Observatório da Vida Estudantil</th>\n",
              "      <td>\\nA Pró-Reitoria de Assuntos Estudantis, no di...</td>\n",
              "    </tr>\n",
              "    <tr>\n",
              "      <th>MapSaúde – Promoção da Qualidade de Vida Estudantil</th>\n",
              "      <td>Esta iniciativa objetiva coletar, organizar e ...</td>\n",
              "    </tr>\n",
              "  </tbody>\n",
              "</table>\n",
              "</div>\n",
              "      <button class=\"colab-df-convert\" onclick=\"convertToInteractive('df-80580c91-e686-4d43-a566-44cbab91a7d5')\"\n",
              "              title=\"Convert this dataframe to an interactive table.\"\n",
              "              style=\"display:none;\">\n",
              "        \n",
              "  <svg xmlns=\"http://www.w3.org/2000/svg\" height=\"24px\"viewBox=\"0 0 24 24\"\n",
              "       width=\"24px\">\n",
              "    <path d=\"M0 0h24v24H0V0z\" fill=\"none\"/>\n",
              "    <path d=\"M18.56 5.44l.94 2.06.94-2.06 2.06-.94-2.06-.94-.94-2.06-.94 2.06-2.06.94zm-11 1L8.5 8.5l.94-2.06 2.06-.94-2.06-.94L8.5 2.5l-.94 2.06-2.06.94zm10 10l.94 2.06.94-2.06 2.06-.94-2.06-.94-.94-2.06-.94 2.06-2.06.94z\"/><path d=\"M17.41 7.96l-1.37-1.37c-.4-.4-.92-.59-1.43-.59-.52 0-1.04.2-1.43.59L10.3 9.45l-7.72 7.72c-.78.78-.78 2.05 0 2.83L4 21.41c.39.39.9.59 1.41.59.51 0 1.02-.2 1.41-.59l7.78-7.78 2.81-2.81c.8-.78.8-2.07 0-2.86zM5.41 20L4 18.59l7.72-7.72 1.47 1.35L5.41 20z\"/>\n",
              "  </svg>\n",
              "      </button>\n",
              "      \n",
              "  <style>\n",
              "    .colab-df-container {\n",
              "      display:flex;\n",
              "      flex-wrap:wrap;\n",
              "      gap: 12px;\n",
              "    }\n",
              "\n",
              "    .colab-df-convert {\n",
              "      background-color: #E8F0FE;\n",
              "      border: none;\n",
              "      border-radius: 50%;\n",
              "      cursor: pointer;\n",
              "      display: none;\n",
              "      fill: #1967D2;\n",
              "      height: 32px;\n",
              "      padding: 0 0 0 0;\n",
              "      width: 32px;\n",
              "    }\n",
              "\n",
              "    .colab-df-convert:hover {\n",
              "      background-color: #E2EBFA;\n",
              "      box-shadow: 0px 1px 2px rgba(60, 64, 67, 0.3), 0px 1px 3px 1px rgba(60, 64, 67, 0.15);\n",
              "      fill: #174EA6;\n",
              "    }\n",
              "\n",
              "    [theme=dark] .colab-df-convert {\n",
              "      background-color: #3B4455;\n",
              "      fill: #D2E3FC;\n",
              "    }\n",
              "\n",
              "    [theme=dark] .colab-df-convert:hover {\n",
              "      background-color: #434B5C;\n",
              "      box-shadow: 0px 1px 3px 1px rgba(0, 0, 0, 0.15);\n",
              "      filter: drop-shadow(0px 1px 2px rgba(0, 0, 0, 0.3));\n",
              "      fill: #FFFFFF;\n",
              "    }\n",
              "  </style>\n",
              "\n",
              "      <script>\n",
              "        const buttonEl =\n",
              "          document.querySelector('#df-80580c91-e686-4d43-a566-44cbab91a7d5 button.colab-df-convert');\n",
              "        buttonEl.style.display =\n",
              "          google.colab.kernel.accessAllowed ? 'block' : 'none';\n",
              "\n",
              "        async function convertToInteractive(key) {\n",
              "          const element = document.querySelector('#df-80580c91-e686-4d43-a566-44cbab91a7d5');\n",
              "          const dataTable =\n",
              "            await google.colab.kernel.invokeFunction('convertToInteractive',\n",
              "                                                     [key], {});\n",
              "          if (!dataTable) return;\n",
              "\n",
              "          const docLinkHtml = 'Like what you see? Visit the ' +\n",
              "            '<a target=\"_blank\" href=https://colab.research.google.com/notebooks/data_table.ipynb>data table notebook</a>'\n",
              "            + ' to learn more about interactive tables.';\n",
              "          element.innerHTML = '';\n",
              "          dataTable['output_type'] = 'display_data';\n",
              "          await google.colab.output.renderOutput(dataTable, element);\n",
              "          const docLink = document.createElement('div');\n",
              "          docLink.innerHTML = docLinkHtml;\n",
              "          element.appendChild(docLink);\n",
              "        }\n",
              "      </script>\n",
              "    </div>\n",
              "  </div>\n",
              "  "
            ]
          },
          "metadata": {},
          "execution_count": 90
        }
      ]
    },
    {
      "cell_type": "code",
      "source": [
        "#Salvando planilha de resposta de tópicos\n",
        "planilha_prae.to_excel('faq_prae.xlsx')"
      ],
      "metadata": {
        "id": "SfagHFuuikn8"
      },
      "execution_count": null,
      "outputs": []
    },
    {
      "cell_type": "markdown",
      "source": [
        "### Aqui houve o salvamento do arquivo então e o carregamento de outra planilha, para que se possa juntar as respostas nessa planilha carregada"
      ],
      "metadata": {
        "id": "BqIbppBHlq6a"
      }
    },
    {
      "cell_type": "code",
      "source": [
        "'''qnas_excel = pd.read_excel('/content/QnA.xlsx')  # Planilha carregada\n",
        "qnas_excel.to_csv (\"Test.csv\",  \n",
        "                  index = None, \n",
        "                  header=True)\n",
        "    \n",
        "qnas = pd.DataFrame(pd.read_csv(\"Test.csv\")) \n",
        "qnas'''"
      ],
      "metadata": {
        "colab": {
          "base_uri": "https://localhost:8080/",
          "height": 53
        },
        "id": "gJxC91hOkG2P",
        "outputId": "d81ce6ee-ac7e-4135-d288-710700071c51"
      },
      "execution_count": null,
      "outputs": [
        {
          "output_type": "execute_result",
          "data": {
            "text/plain": [
              "'qnas_excel = pd.read_excel(\\'/content/QnA.xlsx\\')  # Planilha carregada\\nqnas_excel.to_csv (\"Test.csv\",  \\n                  index = None, \\n                  header=True)\\n    \\nqnas = pd.DataFrame(pd.read_csv(\"Test.csv\")) \\nqnas'"
            ],
            "application/vnd.google.colaboratory.intrinsic+json": {
              "type": "string"
            }
          },
          "metadata": {},
          "execution_count": 92
        }
      ]
    },
    {
      "cell_type": "code",
      "source": [
        "'''qnas_prae = pd.read_excel('/content/faq_prae.xlsx')''' # Planilha salva"
      ],
      "metadata": {
        "id": "j7jWflgDlDjU",
        "colab": {
          "base_uri": "https://localhost:8080/",
          "height": 35
        },
        "outputId": "b6e9e1d2-b8f7-479b-adf5-f4ffc9eba3c7"
      },
      "execution_count": null,
      "outputs": [
        {
          "output_type": "execute_result",
          "data": {
            "text/plain": [
              "\"qnas_prae = pd.read_excel('/content/faq_prae.xlsx')\""
            ],
            "application/vnd.google.colaboratory.intrinsic+json": {
              "type": "string"
            }
          },
          "metadata": {},
          "execution_count": 93
        }
      ]
    },
    {
      "cell_type": "code",
      "source": [
        "'''filtro_prae = qnas[qnas['Setor']=='prae']'''"
      ],
      "metadata": {
        "id": "ikIszioKkSA6",
        "colab": {
          "base_uri": "https://localhost:8080/",
          "height": 35
        },
        "outputId": "8c1434e4-243e-435f-a763-316990e92f2f"
      },
      "execution_count": null,
      "outputs": [
        {
          "output_type": "execute_result",
          "data": {
            "text/plain": [
              "\"filtro_prae = qnas[qnas['Setor']=='prae']\""
            ],
            "application/vnd.google.colaboratory.intrinsic+json": {
              "type": "string"
            }
          },
          "metadata": {},
          "execution_count": 94
        }
      ]
    },
    {
      "cell_type": "code",
      "source": [
        "'''qnas_prae.rename(columns = {'Unnamed: 0':'Assuntos'}, inplace = True)'''"
      ],
      "metadata": {
        "id": "8FadBBVumS9F",
        "colab": {
          "base_uri": "https://localhost:8080/",
          "height": 35
        },
        "outputId": "d27e4c2d-6a7c-4bfc-b207-2541bf1f0164"
      },
      "execution_count": null,
      "outputs": [
        {
          "output_type": "execute_result",
          "data": {
            "text/plain": [
              "\"qnas_prae.rename(columns = {'Unnamed: 0':'Assuntos'}, inplace = True)\""
            ],
            "application/vnd.google.colaboratory.intrinsic+json": {
              "type": "string"
            }
          },
          "metadata": {},
          "execution_count": 95
        }
      ]
    },
    {
      "cell_type": "code",
      "source": [
        "'''qnas_prae'''"
      ],
      "metadata": {
        "colab": {
          "base_uri": "https://localhost:8080/",
          "height": 35
        },
        "id": "8QZ85OkbuIfW",
        "outputId": "4d741f99-044f-42b8-d2bf-2b881cf38512"
      },
      "execution_count": null,
      "outputs": [
        {
          "output_type": "execute_result",
          "data": {
            "text/plain": [
              "'qnas_prae'"
            ],
            "application/vnd.google.colaboratory.intrinsic+json": {
              "type": "string"
            }
          },
          "metadata": {},
          "execution_count": 96
        }
      ]
    },
    {
      "cell_type": "code",
      "source": [
        "'''\n",
        "# Juntando os dfs\n",
        "planilha_formatada = pd.DataFrame(columns= filtro_prae.columns, index = [i for i in range(len(qnas_prae))])\n",
        "planilha_formatada['Resposta'] = qnas_prae['resposta']\n",
        "planilha_formatada['Setor'] = pd.Series(['prae']*(len(planilha_formatada)))\n",
        "planilha_formatada['Assunto (contexto)'] = qnas_prae['Assuntos']'''"
      ],
      "metadata": {
        "id": "9-nMMDJKmS_0",
        "colab": {
          "base_uri": "https://localhost:8080/",
          "height": 53
        },
        "outputId": "f6027f1f-afc2-42be-c6e9-979a5a288fe7"
      },
      "execution_count": null,
      "outputs": [
        {
          "output_type": "execute_result",
          "data": {
            "text/plain": [
              "\"\\n# Juntando os dfs\\nplanilha_formatada = pd.DataFrame(columns= filtro_prae.columns, index = [i for i in range(len(qnas_prae))])\\nplanilha_formatada['Resposta'] = qnas_prae['resposta']\\nplanilha_formatada['Setor'] = pd.Series(['prae']*(len(planilha_formatada)))\\nplanilha_formatada['Assunto (contexto)'] = qnas_prae['Assuntos']\""
            ],
            "application/vnd.google.colaboratory.intrinsic+json": {
              "type": "string"
            }
          },
          "metadata": {},
          "execution_count": 97
        }
      ]
    },
    {
      "cell_type": "code",
      "source": [
        "'''planilha_formatada'''"
      ],
      "metadata": {
        "colab": {
          "base_uri": "https://localhost:8080/",
          "height": 35
        },
        "id": "05FdiFAps3kD",
        "outputId": "c61119ca-9ae7-4771-bc48-1abbf6074bd8"
      },
      "execution_count": null,
      "outputs": [
        {
          "output_type": "execute_result",
          "data": {
            "text/plain": [
              "'planilha_formatada'"
            ],
            "application/vnd.google.colaboratory.intrinsic+json": {
              "type": "string"
            }
          },
          "metadata": {},
          "execution_count": 98
        }
      ]
    },
    {
      "cell_type": "code",
      "source": [
        "#resultado = pd.concat([qnas,planilha_formatada])\n",
        "#resultado"
      ],
      "metadata": {
        "id": "lhYLtww5u4YC"
      },
      "execution_count": null,
      "outputs": []
    },
    {
      "cell_type": "code",
      "source": [
        "#resultado.to_excel('Qnas_atualizado.xlsx')"
      ],
      "metadata": {
        "id": "73C7tmpswusH"
      },
      "execution_count": null,
      "outputs": []
    },
    {
      "cell_type": "markdown",
      "metadata": {
        "id": "4w5vfSCcMfUF"
      },
      "source": [
        "# Contatos"
      ]
    },
    {
      "cell_type": "markdown",
      "metadata": {
        "id": "eWzHoZP8SvYQ"
      },
      "source": [
        "## Prograd(Com requisição)"
      ]
    },
    {
      "cell_type": "markdown",
      "metadata": {
        "id": "kzvIO4TZQDSe"
      },
      "source": [
        "\n",
        "\n",
        "<h4>Esta função possui os seguintes elementos em sua estrutura:</h4>\n",
        "\n",
        "*  {\"sector\"}---> setor\n",
        "*\t {\"email\"}---> endereço de e-mail\n",
        "*\t {\"phone\"}---> telefone de contato\n",
        "*\t {\"site\"}----> link do site \n",
        "*\t {\"faq\"} ----> link das perguntas frequentes\n",
        "*\t {\"contacts\"} ---> link geral de contatos e endereços\n",
        "*\t {\"whatsapp\"} ---> contato whatsapp\n",
        "\n"
      ]
    },
    {
      "cell_type": "code",
      "execution_count": null,
      "metadata": {
        "id": "s1nFoeuqZGEy"
      },
      "outputs": [],
      "source": [
        "def requisicao_site_json(url):\n",
        "    response = requests.get(url)\n",
        "    content = response.content\n",
        "    return json.loads(content)"
      ]
    },
    {
      "cell_type": "code",
      "execution_count": null,
      "metadata": {
        "id": "_NEeXZccCSXK"
      },
      "outputs": [],
      "source": [
        "# Usando a função de requisição do faq temos\n",
        "site_prograd = requisicao_site('https://prograd.ufc.br/pt/contatos/')"
      ]
    },
    {
      "cell_type": "code",
      "execution_count": null,
      "metadata": {
        "id": "2TYSrzp_TR2n"
      },
      "outputs": [],
      "source": [
        "#Puxando links dos setores\n",
        "setores= site_prograd.findAll('div',attrs = {'class':'subpages'})[0].findAll('a')"
      ]
    },
    {
      "cell_type": "code",
      "execution_count": null,
      "metadata": {
        "id": "Gxu5v15dVGD6"
      },
      "outputs": [],
      "source": [
        "# Agora será definida a estrutura do objeto json\n",
        "def estrutura_json(sub,resp,tel,email):\n",
        "  contatos_json =   [{\"setor\":\"Prograd\"},\n",
        "                    {\"resp\":\"{0}\".format(resp)},\n",
        "                    {\"subsetor\":\"{0}\".format(sub)},\n",
        "                    {\"fone\":\"{0}\".format(tel)},\n",
        "                    {\"email\":\"{0}\".format(email)},\n",
        "                    {\"site\":\"https://prograd.ufc.br/pt/\"},\n",
        "                    {\"faq\": \"https://prograd.ufc.br/pt/perguntas-frequentes/\"},\n",
        "                    {\"contats\":\"https://prograd.ufc.br/pt/contatos/pro-reitor-e-apoio/\"},\n",
        "                    {\"whatsapp\":\"+55(85)33669410\"}]\n",
        "  return contatos_json"
      ]
    },
    {
      "cell_type": "code",
      "execution_count": null,
      "metadata": {
        "id": "Y8RvwPEEUm3q",
        "colab": {
          "base_uri": "https://localhost:8080/"
        },
        "outputId": "08723ce3-317f-434b-c86c-bddd622d0f07"
      },
      "outputs": [
        {
          "output_type": "execute_result",
          "data": {
            "text/plain": [
              "'\\'def transforma_dados(i,f,url):\\n  \\n  site = requisicao_site(url)\\n  contatos = site.findAll(\\'p\\')\\n  tamanho = len(contatos[:f])\\n  dados = []\\n  for ind in range(i,tamanho):\\n    dados.append(contatos[ind].text.split(\\'\\n\\'))\\n  return dados\\n\\ndef estruturando_contatos(): # função específica\\n  vetor_armazena_contatos = [{\"contatos\":[]}]\\n  for ind in range(len(setores)):\\n    if ind == 0:\\n        contatos = transforma_dados(1,-2,str(setores[ind][\"href\"]))\\n        contato_principal = estrutura_json(\\'Coordenação Prograd\\',contatos[ind][0],contatos[ind][2],contatos[ind][3])\\n        vetor_armazena_contatos[0][\"contatos\"].append(contato_principal)\\n        for posicao in range(1,len(contatos)):\\n          contatos_json = estrutura_json(contatos[posicao][0],contatos[posicao][1],contatos[posicao][2],contatos[posicao][3])\\n          vetor_armazena_contatos[0][\"contatos\"].append(contatos_json) \\n    elif ind == 5:\\n        contatos = transforma_dados(0,-2,str(setores[5][\"href\"]))\\n        contato_principal = estrutura_json(contatos[0][0],contatos[2][0],contatos[2][2],contatos[2][3])\\n        vetor_armazena_contatos[0][\"contatos\"].append(contato_principal)\\n        for posicao in range(3,len(contatos)):\\n          if posicao !=3 and posicao!=6:                                                                                                            \\n            contatos_json = estrutura_json(contatos[posicao][0],contatos[posicao][1],contatos[posicao][2],contatos[posicao][3])\\n            vetor_armazena_contatos[0][\"contatos\"].append(contatos_json) \\n          elif posicao==3:\\n            contatos_json = estrutura_json(contatos[3][0],contatos[3][1],contatos[3][2],\\'sem email\\')\\n            vetor_armazena_contatos[0][\"contatos\"].append(contatos_json) \\n          elif posicao ==6:\\n            contatos_json = estrutura_json(contatos[posicao][0],contatos[posicao][2],contatos[posicao][1],contatos[posicao][3])\\n            vetor_armazena_contatos[0][\"contatos\"].append(contatos_json)   \\n    else:\\n        contatos = transforma_dados(0,3,str(setores[ind][\"href\"]))\\n        contatos_json = estrutura_json(contatos[0][0],contatos[2][0],contatos[2][2],contatos[2][3])\\n        vetor_armazena_contatos[0][\"contatos\"].append(contatos_json) \\n    time.sleep(15)\\n  return vetor_armazena_contatos\\n\\nprograd_json = estruturando_contatos()'"
            ],
            "application/vnd.google.colaboratory.intrinsic+json": {
              "type": "string"
            }
          },
          "metadata": {},
          "execution_count": 105
        }
      ],
      "source": [
        "''''def transforma_dados(i,f,url):\n",
        "  \n",
        "  site = requisicao_site(url)\n",
        "  contatos = site.findAll('p')\n",
        "  tamanho = len(contatos[:f])\n",
        "  dados = []\n",
        "  for ind in range(i,tamanho):\n",
        "    dados.append(contatos[ind].text.split('\\n'))\n",
        "  return dados\n",
        "\n",
        "def estruturando_contatos(): # função específica\n",
        "  vetor_armazena_contatos = [{\"contatos\":[]}]\n",
        "  for ind in range(len(setores)):\n",
        "    if ind == 0:\n",
        "        contatos = transforma_dados(1,-2,str(setores[ind][\"href\"]))\n",
        "        contato_principal = estrutura_json('Coordenação Prograd',contatos[ind][0],contatos[ind][2],contatos[ind][3])\n",
        "        vetor_armazena_contatos[0][\"contatos\"].append(contato_principal)\n",
        "        for posicao in range(1,len(contatos)):\n",
        "          contatos_json = estrutura_json(contatos[posicao][0],contatos[posicao][1],contatos[posicao][2],contatos[posicao][3])\n",
        "          vetor_armazena_contatos[0][\"contatos\"].append(contatos_json) \n",
        "    elif ind == 5:\n",
        "        contatos = transforma_dados(0,-2,str(setores[5][\"href\"]))\n",
        "        contato_principal = estrutura_json(contatos[0][0],contatos[2][0],contatos[2][2],contatos[2][3])\n",
        "        vetor_armazena_contatos[0][\"contatos\"].append(contato_principal)\n",
        "        for posicao in range(3,len(contatos)):\n",
        "          if posicao !=3 and posicao!=6:                                                                                                            \n",
        "            contatos_json = estrutura_json(contatos[posicao][0],contatos[posicao][1],contatos[posicao][2],contatos[posicao][3])\n",
        "            vetor_armazena_contatos[0][\"contatos\"].append(contatos_json) \n",
        "          elif posicao==3:\n",
        "            contatos_json = estrutura_json(contatos[3][0],contatos[3][1],contatos[3][2],'sem email')\n",
        "            vetor_armazena_contatos[0][\"contatos\"].append(contatos_json) \n",
        "          elif posicao ==6:\n",
        "            contatos_json = estrutura_json(contatos[posicao][0],contatos[posicao][2],contatos[posicao][1],contatos[posicao][3])\n",
        "            vetor_armazena_contatos[0][\"contatos\"].append(contatos_json)   \n",
        "    else:\n",
        "        contatos = transforma_dados(0,3,str(setores[ind][\"href\"]))\n",
        "        contatos_json = estrutura_json(contatos[0][0],contatos[2][0],contatos[2][2],contatos[2][3])\n",
        "        vetor_armazena_contatos[0][\"contatos\"].append(contatos_json) \n",
        "    time.sleep(15)\n",
        "  return vetor_armazena_contatos\n",
        "\n",
        "prograd_json = estruturando_contatos()'''"
      ]
    },
    {
      "cell_type": "code",
      "execution_count": null,
      "metadata": {
        "id": "JZ4Yaai_WL0L",
        "colab": {
          "base_uri": "https://localhost:8080/"
        },
        "outputId": "69650fba-8189-4e19-cf60-5b54f1b76078"
      },
      "outputs": [
        {
          "output_type": "execute_result",
          "data": {
            "text/plain": [
              "\" Gravando arquivo json\\nwith open('contato_prograd.json','w') as file:\\n  arquivo = json.dump(contatos_prograd, file,ensure_ascii=False)\""
            ],
            "application/vnd.google.colaboratory.intrinsic+json": {
              "type": "string"
            }
          },
          "metadata": {},
          "execution_count": 106
        }
      ],
      "source": [
        "''' Gravando arquivo json\n",
        "with open('contato_prograd.json','w') as file:\n",
        "  arquivo = json.dump(contatos_prograd, file,ensure_ascii=False)'''"
      ]
    },
    {
      "cell_type": "code",
      "execution_count": null,
      "metadata": {
        "id": "MDDesH70ADGu",
        "colab": {
          "base_uri": "https://localhost:8080/"
        },
        "outputId": "8c1c7373-dc01-47bc-981a-e5e535192355"
      },
      "outputs": [
        {
          "output_type": "execute_result",
          "data": {
            "text/plain": [
              "\"from google.colab import drive\\ndrive.mount('/content/drive')\""
            ],
            "application/vnd.google.colaboratory.intrinsic+json": {
              "type": "string"
            }
          },
          "metadata": {},
          "execution_count": 107
        }
      ],
      "source": [
        "'''from google.colab import drive\n",
        "drive.mount('/content/drive')'''"
      ]
    },
    {
      "cell_type": "markdown",
      "metadata": {
        "id": "4nw2zscobTBU"
      },
      "source": [
        "## Prograd(fixo) /Prae /Prointer\n",
        "## Devido a regras muito distintas na estruturação do site de endereço e contatos da Prae e Prointer, além disso, o escopo pequeno de contatos esta parte da construção do json será feita manualmente."
      ]
    },
    {
      "cell_type": "code",
      "source": [],
      "metadata": {
        "id": "AL-5bPtRFxRe"
      },
      "execution_count": null,
      "outputs": []
    },
    {
      "cell_type": "code",
      "execution_count": null,
      "metadata": {
        "id": "98GIhjRcKzLC"
      },
      "outputs": [],
      "source": [
        "prae_json =[{'contatos_prae': [[{'setor': 'Prae'},\n",
        "   {'resp': 'Pró-Reitora: Profa. Dra. Geovana Maria Cartaxo de Arruda Freire'},\n",
        "   {'subsetor': 'Coordenação principal'},\n",
        "   {'fone': '(85) 3366 7440'},\n",
        "   {'email': 'prae.secretaria@ufc.br'},\n",
        "   {'site': 'https://prae.ufc.br/pt/'},\n",
        "   {'faq': 'Não existente'},\n",
        "   {'contats': 'https://prae.ufc.br/pt/enderecos-e-telefones/'},\n",
        "   {'whatsapp': '+55(85)3366 7440'}],\n",
        "  [{'setor': 'Prae'},\n",
        "   {'resp': 'Pró-Reitora: Profa. Dra. Geovana Maria Cartaxo de Arruda Freire'},\n",
        "   {'subsetor': 'DIVISÃO DE APOIO ADMINISTRATIVO'},\n",
        "   {'fone': '(85) 3366 7440'},\n",
        "   {'email': 'prae.secretaria@ufc.br'},\n",
        "   {'site': 'https://prae.ufc.br/pt/'},\n",
        "   {'faq': 'Não existente'},\n",
        "   {'contats': 'https://prae.ufc.br/pt/enderecos-e-telefones/'},\n",
        "   {'whatsapp': '+55(85)3366 7440'}],\n",
        "  [{'setor': 'Prae'},\n",
        "   {'resp': 'Pró-Reitora: Profa. Dra. Geovana Maria Cartaxo de Arruda Freire'},\n",
        "   {'subsetor': 'ASSESSORIA ADMINISTRATIVA'},\n",
        "   {'fone': 'Fax: (85) 3366 7442'},\n",
        "   {'email': 'praap.prae@ufc.br'},\n",
        "   {'site': 'https://prae.ufc.br/pt/'},\n",
        "   {'faq': 'Não existente'},\n",
        "   {'contats': 'https://prae.ufc.br/pt/enderecos-e-telefones/'},\n",
        "   {'whatsapp': '+55(85)3366 7440'}],\n",
        "  [{'setor': 'Prae'},\n",
        "   {'resp': 'Coordenadora: Márcia Regina Mariano de Sousa Arão'},\n",
        "   {'subsetor': 'COORDENADORIA DE ASSISTÊNCIA ESTUDANTIL'},\n",
        "   {'fone': '(85) 3366-7445 / 3366-7444'},\n",
        "   {'email': 'case@ufc.br'},\n",
        "   {'site': 'https://prae.ufc.br/pt/'},\n",
        "   {'faq': 'Não existente'},\n",
        "   {'contats': 'https://prae.ufc.br/pt/enderecos-e-telefones/'},\n",
        "   {'whatsapp': '+55(85)3366 7440'}],\n",
        "  [{'setor': 'Prae'},\n",
        "   {'resp': 'Coordenadora: Márcia Regina Mariano de Sousa Arão'},\n",
        "   {'subsetor': 'DIVISÃO DE ATENÇÃO AO ESTUDANTE'},\n",
        "   {'fone': ' (85) 3366 7447'},\n",
        "   {'email': 'dae.case@ufc.br'},\n",
        "   {'site': 'https://prae.ufc.br/pt/'},\n",
        "   {'faq': 'Não existente'},\n",
        "   {'contats': 'https://prae.ufc.br/pt/enderecos-e-telefones/'},\n",
        "   {'whatsapp': '+55(85)3366 7440'}],\n",
        "  [{'setor': 'Prae'},\n",
        "   {'resp': 'Coordenadora: Márcia Regina Mariano de Sousa Arão'},\n",
        "   {'subsetor': 'DIVISÃO DE BENEFÍCIOS E MORADIA'},\n",
        "   {'fone': '(85)3366-7448'},\n",
        "   {'email': 'digeb.case@ufc.br'},\n",
        "   {'site': 'https://prae.ufc.br/pt/'},\n",
        "   {'faq': 'Não existente'},\n",
        "   {'contats': 'https://prae.ufc.br/pt/enderecos-e-telefones/'},\n",
        "   {'whatsapp': '+55(85)3366 7440'}],\n",
        "  [{'setor': 'Prae'},\n",
        "   {'resp': 'Coordenador: Wildner Lins de Souza'},\n",
        "   {'subsetor': 'COORDENADORIA  DE ATIVIDADES DESPORTIVAS'},\n",
        "   {'fone': '(85) 3366 7871'},\n",
        "   {'email': 'desportoufc@ufc.br'},\n",
        "   {'site': 'https://prae.ufc.br/pt/'},\n",
        "   {'faq': 'Não existente'},\n",
        "   {'contats': 'https://prae.ufc.br/pt/enderecos-e-telefones/'},\n",
        "   {'whatsapp': '+55(85)3366 7440'}],\n",
        "  [{'setor': 'Prae'},\n",
        "   {'resp': 'Coordenador: Wildner Lins de Souza'},\n",
        "   {'subsetor': 'DIVISÃO DE DESPORTO DE PARTICIPAÇÃO'},\n",
        "   {'fone': '(85) 3366 7871'},\n",
        "   {'email': 'desportoufc@ufc.br'},\n",
        "   {'site': 'https://prae.ufc.br/pt/'},\n",
        "   {'faq': 'Não existente'},\n",
        "   {'contats': 'https://prae.ufc.br/pt/enderecos-e-telefones/'},\n",
        "   {'whatsapp': '+55(85)3366 7440'}],\n",
        "  [{'setor': 'Prae'},\n",
        "   {'resp': 'Diretor: José Clovandi Costa Filho'},\n",
        "   {'subsetor': 'DIVISÃO DE DESPORTO DE RENDIMENTO'},\n",
        "   {'fone': '(85) 3366 7871'},\n",
        "   {'email': 'desportoufc@ufc.br'},\n",
        "   {'site': 'https://prae.ufc.br/pt/'},\n",
        "   {'faq': 'Não existente'},\n",
        "   {'contats': 'https://prae.ufc.br/pt/enderecos-e-telefones/'},\n",
        "   {'whatsapp': '+55(85)3366 7440'}],\n",
        "  [{'setor': 'Prae'},\n",
        "   {'resp': 'Coordenador: Francisco José Albuquerque Cruz'},\n",
        "   {'subsetor': 'COORDENADORIA DE RESTAURANTE UNIVERSITÁRIO'},\n",
        "   {'fone': '(85) 3366 7441'},\n",
        "   {'email': 'praeufc@gmail.com'},\n",
        "   {'site': 'https://prae.ufc.br/pt/'},\n",
        "   {'faq': 'Não existente'},\n",
        "   {'contats': 'https://prae.ufc.br/pt/enderecos-e-telefones/'},\n",
        "   {'whatsapp': '+55(85)3366 7440'}],\n",
        "  [{'setor': 'Prae'},\n",
        "   {'resp': 'Diretora: Natália Lopes Vasconcelos'},\n",
        "   {'subsetor': 'DIVISÃO DE ALIMENTAÇÃO E NUTRIÇÃO'},\n",
        "   {'fone': '(85) 3366 9531'},\n",
        "   {'email': 'praeufc@gmail.com'},\n",
        "   {'site': 'https://prae.ufc.br/pt/'},\n",
        "   {'faq': 'Não existente'},\n",
        "   {'contats': 'https://prae.ufc.br/pt/enderecos-e-telefones/'},\n",
        "   {'whatsapp': '+55(85)3366 7440'}],\n",
        "  [{'setor': 'Prae'},\n",
        "   {'resp': 'Chefe: Conceição de Maria Coelho de Carvalho'},\n",
        "   {'subsetor': 'Seção do Refeitório do Benfica'},\n",
        "   {'fone': '(85) 3366 7776'},\n",
        "   {'email': 'praeufc@gmail.com'},\n",
        "   {'site': 'https://prae.ufc.br/pt/'},\n",
        "   {'faq': 'Não existente'},\n",
        "   {'contats': 'https://prae.ufc.br/pt/enderecos-e-telefones/'},\n",
        "   {'whatsapp': '+55(85)3366 7440'}],\n",
        "  [{'setor': 'Prae'},\n",
        "   {'resp': 'Chefe: Cleonice de Castro Silva'},\n",
        "   {'subsetor': 'Seção do Refeitório do Pici'},\n",
        "   {'fone': '(85) 3366 9530'},\n",
        "   {'email': 'praeufc@gmail.com'},\n",
        "   {'site': 'https://prae.ufc.br/pt/'},\n",
        "   {'faq': 'Não existente'},\n",
        "   {'contats': 'https://prae.ufc.br/pt/enderecos-e-telefones/'},\n",
        "   {'whatsapp': '+55(85)3366 7440'}],\n",
        "  [{'setor': 'Prae'},\n",
        "   {'resp': 'COORDENADORIA DE RESTAURANTE UNIVERSITÁRIO'},\n",
        "   {'subsetor': 'Seção do Refeitório do Porangabuçu'},\n",
        "   {'fone': ' (85) 3366 7447'},\n",
        "   {'email': 'praeufc@gmail.com'},\n",
        "   {'site': 'https://prae.ufc.br/pt/'},\n",
        "   {'faq': 'Não existente'},\n",
        "   {'contats': 'https://prae.ufc.br/pt/enderecos-e-telefones/'},\n",
        "   {'whatsapp': '+55(85)3366 7440'}],\n",
        "  [{'setor': 'Prae'},\n",
        "   {'resp': 'Diretor: José Pereira Duarte'},\n",
        "   {'subsetor': 'DIVISÃO DE SERVIÇOS OPERACIONAIS'},\n",
        "   {'fone': ' (85) 3366 9530'},\n",
        "   {'email': 'praeufc@gmail.com'},\n",
        "   {'site': 'https://prae.ufc.br/pt/'},\n",
        "   {'faq': 'Não existente'},\n",
        "   {'contats': 'https://prae.ufc.br/pt/enderecos-e-telefones/'},\n",
        "   {'whatsapp': '+55(85)3366 7440'}]]}]"
      ]
    },
    {
      "cell_type": "code",
      "execution_count": null,
      "metadata": {
        "id": "YGZJlyOtK3gh"
      },
      "outputs": [],
      "source": [
        "with open('contato_prae.json','w') as file:\n",
        "  arquivo = json.dump(prae_json, file,ensure_ascii=False)"
      ]
    },
    {
      "cell_type": "code",
      "execution_count": null,
      "metadata": {
        "id": "M19J5o2LLG1o"
      },
      "outputs": [],
      "source": [
        "prointer_json =[{'contatos_prointer': [[{'setor': 'Prointer'},\n",
        "   {'resp': 'Augusto Albuquerque (Pró-Reitor)'},\n",
        "   {'subsetor': 'Gabinete do Pró-Reitor'},\n",
        "   {'fone': ' (85) 3366.7333'},\n",
        "   {'email': 'augusto.albuquerque@ufc.br'},\n",
        "   {'site': 'https://prointer.ufc.br/pt/seja-bem-vindo-a-prointer/'},\n",
        "   {'faq': 'https://prointer.ufc.br/pt/relacoes-internacionais/perguntas-frequentes/'},\n",
        "   {'contats': 'https://prointer.ufc.br/pt/sobre-a-prointer/endereco-e-telefones/'},\n",
        "   {'whatsapp': ' (85) 3366.7333'}],\n",
        "  [{'setor': 'Prointer'},\n",
        "   {'resp': ['Camila Gueiros(Gestora Administrativa)',\n",
        "     'Fábio Nogueira(Assessor)',\n",
        "     'Bruno Souza(Atendimento ao Público)']},\n",
        "   {'subsetor': 'Secretaria Administrativa'},\n",
        "   {'fone': ' (85) 3366.7333'},\n",
        "   {'email': ['camilagueiros@ufc.br',\n",
        "     'fabionogueira@ufc.br',\n",
        "     'secretaria@cai.ufc.br']},\n",
        "   {'site': 'https://prointer.ufc.br/pt/seja-bem-vindo-a-prointer/'},\n",
        "   {'faq': 'https://prointer.ufc.br/pt/relacoes-internacionais/perguntas-frequentes/'},\n",
        "   {'contats': 'https://prointer.ufc.br/pt/sobre-a-prointer/endereco-e-telefones/'},\n",
        "   {'whatsapp': ' (85) 3366.7333'}],\n",
        "  [{'setor': 'Prointer'},\n",
        "   {'resp': ['Ananda Badaró (Tradutora e Intérprete)',\n",
        "     'Tadeu Azevedo(Tradutor e Intérprete)',\n",
        "     'Document Verification Service']},\n",
        "   {'subsetor': 'Equipe de Tradução'},\n",
        "   {'fone': ' (85) 3366.7333'},\n",
        "   {'email': ['traducao@cai.ufc.br',\n",
        "     'tradutor@prointer.ufc.br',\n",
        "     'documents@prointer.ufc.br']},\n",
        "   {'site': 'https://prointer.ufc.br/pt/seja-bem-vindo-a-prointer/'},\n",
        "   {'faq': 'https://prointer.ufc.br/pt/relacoes-internacionais/perguntas-frequentes/'},\n",
        "   {'contats': 'https://prointer.ufc.br/pt/sobre-a-prointer/endereco-e-telefones/'},\n",
        "   {'whatsapp': ' (85) 3366.7333'}],\n",
        "  [{'setor': 'Prointer'},\n",
        "   {'resp': ['Mônica Amorim(Diretora)',\n",
        "     'Su Jianhua(Diretor)',\n",
        "     'Luana Leite(Assistente de Administração']},\n",
        "   {'subsetor': 'Instituto Confúcio da UFC'},\n",
        "   {'fone': ' (85) 3366.9031'},\n",
        "   {'email': ['monica_amorim@terra.com.br',\n",
        "     'institutoconfucio@ufc.br',\n",
        "     'institutoconfucio@ufc.br']},\n",
        "   {'site': 'https://prointer.ufc.br/pt/seja-bem-vindo-a-prointer/'},\n",
        "   {'faq': 'https://institutoconfucio.ufc.br/pt/'},\n",
        "   {'contats': 'https://prointer.ufc.br/pt/sobre-a-prointer/endereco-e-telefones/'},\n",
        "   {'whatsapp': ' (85) 3366.9031'}],\n",
        "  [{'setor': 'Prointer'},\n",
        "   {'resp': ['Rodrigo Rego(Coordenador)',\n",
        "     'Fabiano Gadelha(Analista de Tecnologia da Informação)']},\n",
        "   {'subsetor': 'Coordenadoria de Convênios Internacionais'},\n",
        "   {'fone': ' (85) 3366.7336 '},\n",
        "   {'email': ['convenios@prointer.ufc.br', 'fabiano.gadelha@sti.ufc.br']},\n",
        "   {'site': 'https://prointer.ufc.br/pt/seja-bem-vindo-a-prointer/'},\n",
        "   {'faq': 'https://prointer.ufc.br/pt/relacoes-internacionais/perguntas-frequentes/'},\n",
        "   {'contats': 'https://prointer.ufc.br/pt/sobre-a-prointer/endereco-e-telefones/'},\n",
        "   {'whatsapp': ' (85) 3366.7336 '}],\n",
        "  [{'setor': 'Prointer'},\n",
        "   {'resp': ['Talita Vasconcelos(Coordenadora) ',\n",
        "     'Vanderleia Lucia de Souza(Assessora)']},\n",
        "   {'subsetor': 'Coordenadoria de Mobilidade Acadêmica'},\n",
        "   {'fone': '(85)3366.7336'},\n",
        "   {'email': ['mobilidade@prointer.ufc.br', 'administrativo@cai.ufc.br']},\n",
        "   {'site': 'https://prointer.ufc.br/pt/seja-bem-vindo-a-prointer/'},\n",
        "   {'faq': 'https://prointer.ufc.br/pt/relacoes-internacionais/perguntas-frequentes/'},\n",
        "   {'contats': 'https://prointer.ufc.br/pt/sobre-a-prointer/endereco-e-telefones/'},\n",
        "   {'whatsapp': '(85)3366.7336'}],\n",
        "  [{'setor': 'Prointer'},\n",
        "   {'resp': ['Abraão Saraiva(Coordenador) ',\n",
        "     'Gervina Brady(Assistente em Administração)',\n",
        "     'Tatieures Gomes(Analista de Tecnologia da Informação)']},\n",
        "   {'subsetor': 'Coordenadoria de Empreendedorismo'},\n",
        "   {'fone': '(85) 3366.7335'},\n",
        "   {'email': ['abraaofsjr@gmail.com',\n",
        "     'gervina.brady@ufc.br',\n",
        "     'tatieures@ufc.br']},\n",
        "   {'site': 'https://prointer.ufc.br/pt/seja-bem-vindo-a-prointer/'},\n",
        "   {'faq': 'https://prointer.ufc.br/pt/relacoes-internacionais/perguntas-frequentes/'},\n",
        "   {'contats': 'https://prointer.ufc.br/pt/sobre-a-prointer/endereco-e-telefones/'},\n",
        "   {'whatsapp': '((85) 3366.7335'}],\n",
        "  [{'setor': 'Prointer'},\n",
        "   {'resp': ['Bruno Matos(Coordenador)',\n",
        "     'Patrícia Araújo(Administradora)',\n",
        "     'Laura Figueiredo(Assistente em Administração)',\n",
        "     'Ciro Texeira(Administrador)']},\n",
        "   {'subsetor': 'Coordenadoria de Inovação Institucional'},\n",
        "   {'fone': '  (85) 3366.7335'},\n",
        "   {'email': ['brunomatos@ufc.br',\n",
        "     'patricia.araujo@ufc.br|inovacao@prointer.ufc.br',\n",
        "     'lauracfigueiredo@ufc.br',\n",
        "     'ciro.teixeira@ufc.br']},\n",
        "   {'site': 'https://prointer.ufc.br/pt/seja-bem-vindo-a-prointer/'},\n",
        "   {'faq': 'https://prointer.ufc.br/pt/relacoes-internacionais/perguntas-frequentes/'},\n",
        "   {'contats': 'https://prointer.ufc.br/pt/sobre-a-prointer/endereco-e-telefones/'},\n",
        "   {'whatsapp': '((85) 3366.7335'}]]}]"
      ]
    },
    {
      "cell_type": "code",
      "execution_count": null,
      "metadata": {
        "id": "y5RXBZrD9vxJ"
      },
      "outputs": [],
      "source": [
        "import json\n",
        "with open('contato_prointer.json','w') as file:\n",
        "  arquivo = json.dump(prointer_json, file,ensure_ascii=False)"
      ]
    },
    {
      "cell_type": "markdown",
      "metadata": {
        "id": "pOtEnmPi-sN8"
      },
      "source": [
        "### Para colocar na link da url /api/get_contact(setor:string) no flask basta criar o método GET para contatos e ,além disso, salvar cada uns dos jsons em uma lista, assim como será mostrado a seguir"
      ]
    },
    {
      "cell_type": "code",
      "execution_count": null,
      "metadata": {
        "id": "J1qUz8tcBk9m"
      },
      "outputs": [],
      "source": [
        "# Todos os contatos foram salvos em arquivo json, por isso irei somente colocar o carregar o arquivo do web scraping \n",
        "# e salvar no vetor juntos aos outros dois jsons."
      ]
    },
    {
      "cell_type": "code",
      "execution_count": null,
      "metadata": {
        "id": "ukxG9HvfCS_n"
      },
      "outputs": [],
      "source": [
        "prograd_json = [{'contatos': \n",
        "                 [[{'setor': 'Prograd'},\n",
        "    {'resp': 'Pró-Reitora: Profª Ana Paula de Medeiros Ribeiro'},\n",
        "    {'subsetor': 'Coordenação Prograd'},\n",
        "    {'fone': 'Fone: (85) 3366 9498'},\n",
        "    {'email': 'E-mail: protocolo@prograd.ufc.br'},\n",
        "    {'site': 'https://prograd.ufc.br/pt/'},\n",
        "    {'faq': 'https://prograd.ufc.br/pt/perguntas-frequentes/'},\n",
        "    {'contats': 'https://prograd.ufc.br/pt/contatos/pro-reitor-e-apoio/'},\n",
        "    {'whatsapp': '+55(85)33669410'}],\n",
        "   [{'setor': 'Prograd'},\n",
        "    {'resp': 'Responsável: Isabel Cristina Moraes de Souza Castro'},\n",
        "    {'subsetor': 'Divisão de Apoio Administrativo'},\n",
        "    {'fone': 'Fone: (85) 3366 9498'},\n",
        "    {'email': 'E-mail: gabinete@prograd.ufc.br'},\n",
        "    {'site': 'https://prograd.ufc.br/pt/'},\n",
        "    {'faq': 'https://prograd.ufc.br/pt/perguntas-frequentes/'},\n",
        "    {'contats': 'https://prograd.ufc.br/pt/contatos/pro-reitor-e-apoio/'},\n",
        "    {'whatsapp': '+55(85)33669410'}],\n",
        "   [{'setor': 'Prograd'},\n",
        "    {'resp': 'Responsável: Priscilla de Araújo Gois Pinheiro Guerra'},\n",
        "    {'subsetor': 'Seção de Protocolo'},\n",
        "    {'fone': 'Fone: (85) 3366 9410'},\n",
        "    {'email': 'E-mail: protocolo@prograd.ufc.br'},\n",
        "    {'site': 'https://prograd.ufc.br/pt/'},\n",
        "    {'faq': 'https://prograd.ufc.br/pt/perguntas-frequentes/'},\n",
        "    {'contats': 'https://prograd.ufc.br/pt/contatos/pro-reitor-e-apoio/'},\n",
        "    {'whatsapp': '+55(85)33669410'}],\n",
        "   [{'setor': 'Prograd'},\n",
        "    {'resp': 'Responsável: Mônica Cristina de Lucena Lucas'},\n",
        "    {'subsetor': 'Divisão de Comunicação (Atendimento à imprensa)'},\n",
        "    {'fone': 'Fone: (85) 3366 9527 (provisório)'},\n",
        "    {'email': 'E-mail: comunicacao@prograd.ufc.br'},\n",
        "    {'site': 'https://prograd.ufc.br/pt/'},\n",
        "    {'faq': 'https://prograd.ufc.br/pt/perguntas-frequentes/'},\n",
        "    {'contats': 'https://prograd.ufc.br/pt/contatos/pro-reitor-e-apoio/'},\n",
        "    {'whatsapp': '+55(85)33669410'}],\n",
        "   [{'setor': 'Prograd'},\n",
        "    {'resp': 'Assessor: Carlos César Osório de Melo'},\n",
        "    {'subsetor': 'Assessoria de Legislação'},\n",
        "    {'fone': 'Fone: (85) 3366 9421'},\n",
        "    {'email': 'E-mail: ale@prograd.ufc.br'},\n",
        "    {'site': 'https://prograd.ufc.br/pt/'},\n",
        "    {'faq': 'https://prograd.ufc.br/pt/perguntas-frequentes/'},\n",
        "    {'contats': 'https://prograd.ufc.br/pt/contatos/pro-reitor-e-apoio/'},\n",
        "    {'whatsapp': '+55(85)33669410'}],\n",
        "   [{'setor': 'Prograd'},\n",
        "    {'resp': 'Coordenador na UFC: Prof. Pedro Rogério'},\n",
        "    {'subsetor': 'Programa de Residência Pedagógica'},\n",
        "    {'fone': 'Fone: (85) 3366 9527'},\n",
        "    {'email': 'E-mail: rp@prograd.ufc.br'},\n",
        "    {'site': 'https://prograd.ufc.br/pt/'},\n",
        "    {'faq': 'https://prograd.ufc.br/pt/perguntas-frequentes/'},\n",
        "    {'contats': 'https://prograd.ufc.br/pt/contatos/pro-reitor-e-apoio/'},\n",
        "    {'whatsapp': '+55(85)33669410'}],\n",
        "   [{'setor': 'Prograd'},\n",
        "    {'resp': 'Coordenadora na UFC: Profª Maria José Costa dos Santos'},\n",
        "    {'subsetor': 'Programa Institucional de Iniciação à Docência – PIBID'},\n",
        "    {'fone': 'Fone: (85) 3366 9527'},\n",
        "    {'email': 'E-mail: pibid@prograd.ufc.br'},\n",
        "    {'site': 'https://prograd.ufc.br/pt/'},\n",
        "    {'faq': 'https://prograd.ufc.br/pt/perguntas-frequentes/'},\n",
        "    {'contats': 'https://prograd.ufc.br/pt/contatos/pro-reitor-e-apoio/'},\n",
        "    {'whatsapp': '+55(85)33669410'}],\n",
        "   [{'setor': 'Prograd'},\n",
        "    {'resp': 'Coordenador: Prof. Francisco Ari de Andrade'},\n",
        "    {'subsetor': 'COORDENADORIA DE ACOMPANHAMENTO DISCENTE – CAD'},\n",
        "    {'fone': 'Fone: (85) 3366 9519'},\n",
        "    {'email': 'E-mail: cad@prograd.ufc.br'},\n",
        "    {'site': 'https://prograd.ufc.br/pt/'},\n",
        "    {'faq': 'https://prograd.ufc.br/pt/perguntas-frequentes/'},\n",
        "    {'contats': 'https://prograd.ufc.br/pt/contatos/pro-reitor-e-apoio/'},\n",
        "    {'whatsapp': '+55(85)33669410'}],\n",
        "   [{'setor': 'Prograd'},\n",
        "    {'resp': 'Coordenador: Profa. Simone da Silveira Sá Borges'},\n",
        "    {'subsetor': 'COORDENADORIA GERAL DE PROGRAMAS ACADÊMICOS – CGPA'},\n",
        "    {'fone': 'Fone/WhatsApp: (85) 3366 9496'},\n",
        "    {'email': 'E-mail: cgpa@prograd.ufc.br'},\n",
        "    {'site': 'https://prograd.ufc.br/pt/'},\n",
        "    {'faq': 'https://prograd.ufc.br/pt/perguntas-frequentes/'},\n",
        "    {'contats': 'https://prograd.ufc.br/pt/contatos/pro-reitor-e-apoio/'},\n",
        "    {'whatsapp': '+55(85)33669410'}],\n",
        "   [{'setor': 'Prograd'},\n",
        "    {'resp': 'Coordenadora: Aline Batista de Andrade'},\n",
        "    {'subsetor': 'COORDENADORIA DE PROJETOS E ACOMPANHAMENTO CURRICULAR – COPAC'},\n",
        "    {'fone': 'Fone: (85) 3366 9526'},\n",
        "    {'email': 'E-mail: copac@prograd.ufc.br'},\n",
        "    {'site': 'https://prograd.ufc.br/pt/'},\n",
        "    {'faq': 'https://prograd.ufc.br/pt/perguntas-frequentes/'},\n",
        "    {'contats': 'https://prograd.ufc.br/pt/contatos/pro-reitor-e-apoio/'},\n",
        "    {'whatsapp': '+55(85)33669410'}],\n",
        "   [{'setor': 'Prograd'},\n",
        "    {'resp': 'Coordenadora: Profª Andréa Soares Rocha da Silva'},\n",
        "    {'subsetor': 'COORDENADORIA DE PLANEJAMENTO E AVALIAÇÃO DE PROGRAMAS E AÇÕES ACADÊMICAS – COPAV'},\n",
        "    {'fone': 'Fone: (85) 3366 9020'},\n",
        "    {'email': 'E-mail: copav@prograd.ufc.br'},\n",
        "    {'site': 'https://prograd.ufc.br/pt/'},\n",
        "    {'faq': 'https://prograd.ufc.br/pt/perguntas-frequentes/'},\n",
        "    {'contats': 'https://prograd.ufc.br/pt/contatos/pro-reitor-e-apoio/'},\n",
        "    {'whatsapp': '+55(85)33669410'}],\n",
        "   [{'setor': 'Prograd'},\n",
        "    {'resp': 'Coordenador: Prof. Rafael Bráz Azevedo Farias'},\n",
        "    {'subsetor': 'COORDENADORIA DE PLANEJAMENTO, INFORMAÇÃO E COMUNICAÇÃO – COPIC'},\n",
        "    {'fone': 'Fone: (85) 3366 9036'},\n",
        "    {'email': 'E-mail: copic@prograd.ufc.br'},\n",
        "    {'site': 'https://prograd.ufc.br/pt/'},\n",
        "    {'faq': 'https://prograd.ufc.br/pt/perguntas-frequentes/'},\n",
        "    {'contats': 'https://prograd.ufc.br/pt/contatos/pro-reitor-e-apoio/'},\n",
        "    {'whatsapp': '+55(85)33669410'}],\n",
        "   [{'setor': 'Prograd'},\n",
        "    {'resp': 'Diretora: Keyla Maciel Maia'},\n",
        "    {'subsetor': 'DIVISÃO DE PLANEJAMENTO E ENSINO'},\n",
        "    {'fone': 'Fone: (85) 3366 9036'},\n",
        "    {'email': 'sem email'},\n",
        "    {'site': 'https://prograd.ufc.br/pt/'},\n",
        "    {'faq': 'https://prograd.ufc.br/pt/perguntas-frequentes/'},\n",
        "    {'contats': 'https://prograd.ufc.br/pt/contatos/pro-reitor-e-apoio/'},\n",
        "    {'whatsapp': '+55(85)33669410'}],\n",
        "   [{'setor': 'Prograd'},\n",
        "    {'resp': 'Diretora: Milena Teixeira Barbosa'},\n",
        "    {'subsetor': 'DIVISÃO DE SELEÇÃO'},\n",
        "    {'fone': 'E-mail: disel@prograd.ufc.br'},\n",
        "    {'email': 'Fones: (85) 3366 9522 / 3366 9423'},\n",
        "    {'site': 'https://prograd.ufc.br/pt/'},\n",
        "    {'faq': 'https://prograd.ufc.br/pt/perguntas-frequentes/'},\n",
        "    {'contats': 'https://prograd.ufc.br/pt/contatos/pro-reitor-e-apoio/'},\n",
        "    {'whatsapp': '+55(85)33669410'}],\n",
        "   [{'setor': 'Prograd'},\n",
        "    {'resp': 'Diretor: Daélio Feijó Rabelo'},\n",
        "    {'subsetor': 'DIVISÃO DE SELEÇÃO E MATRÍCULA'},\n",
        "    {'fone': 'Fone: (85) 3366 9528'},\n",
        "    {'email': 'E-mail: dsm@prograd.ufc.br'},\n",
        "    {'site': 'https://prograd.ufc.br/pt/'},\n",
        "    {'faq': 'https://prograd.ufc.br/pt/perguntas-frequentes/'},\n",
        "    {'contats': 'https://prograd.ufc.br/pt/contatos/pro-reitor-e-apoio/'},\n",
        "    {'whatsapp': '+55(85)33669410'}],\n",
        "   [{'setor': 'Prograd'},\n",
        "    {'resp': 'Chefe: Francisco Ivanildo Ferreira Fialho'},\n",
        "    {'subsetor': 'DIVISÃO DE MEMÓRIA E DOCUMENTAÇÃO'},\n",
        "    {'fone': '(atendimento exclusivamente por e-mail)'},\n",
        "    {'email': 'E-mail: dmd@prograd.ufc.br'},\n",
        "    {'site': 'https://prograd.ufc.br/pt/'},\n",
        "    {'faq': 'https://prograd.ufc.br/pt/perguntas-frequentes/'},\n",
        "    {'contats': 'https://prograd.ufc.br/pt/contatos/pro-reitor-e-apoio/'},\n",
        "    {'whatsapp': '+55(85)33669410'}],\n",
        "   [{'setor': 'Prograd'},\n",
        "    {'resp': 'Responsável: Michelly Linhares de Moraes'},\n",
        "    {'subsetor': 'Seção de Revalidação de Diplomas'},\n",
        "    {'fone': 'Fone: (85) 3366 9521'},\n",
        "    {'email': 'E-mail: revalidacao@prograd.ufc.br'},\n",
        "    {'site': 'https://prograd.ufc.br/pt/'},\n",
        "    {'faq': 'https://prograd.ufc.br/pt/perguntas-frequentes/'},\n",
        "    {'contats': 'https://prograd.ufc.br/pt/contatos/pro-reitor-e-apoio/'},\n",
        "    {'whatsapp': '+55(85)33669410'}],\n",
        "   [{'setor': 'Prograd'},\n",
        "    {'resp': 'Chefe: Maria Cristina de Figueiredo Monteiro'},\n",
        "    {'subsetor': 'Seção de Registro de Diplomas de Entidades Privadas'},\n",
        "    {'fone': 'Fone: (85) 3366 9523'},\n",
        "    {'email': 'E-mail: registroies@prograd.ufc.br'},\n",
        "    {'site': 'https://prograd.ufc.br/pt/'},\n",
        "    {'faq': 'https://prograd.ufc.br/pt/perguntas-frequentes/'},\n",
        "    {'contats': 'https://prograd.ufc.br/pt/contatos/pro-reitor-e-apoio/'},\n",
        "    {'whatsapp': '+55(85)33669410'}],\n",
        "   [{'setor': 'Prograd'},\n",
        "    {'resp': 'Responsável: Maria de Fátima Andrade'},\n",
        "    {'subsetor': 'Seção de Arquivo'},\n",
        "    {'fone': 'Fone/WhatsApp: (85) 3366 9520'},\n",
        "    {'email': 'E-mail: diarq@prograd.ufc.br'},\n",
        "    {'site': 'https://prograd.ufc.br/pt/'},\n",
        "    {'faq': 'https://prograd.ufc.br/pt/perguntas-frequentes/'},\n",
        "    {'contats': 'https://prograd.ufc.br/pt/contatos/pro-reitor-e-apoio/'},\n",
        "    {'whatsapp': '+55(85)33669410'}]]}]"
      ]
    },
    {
      "cell_type": "markdown",
      "source": [
        "## Pondo link do whatsapp, por meio de regex"
      ],
      "metadata": {
        "id": "mUdlb7dlA9iN"
      }
    },
    {
      "cell_type": "code",
      "source": [
        "def junta_string(vetor_string):\n",
        "    texto = ''\n",
        "    for elemento in vetor_string:\n",
        "      texto += elemento\n",
        "    return texto"
      ],
      "metadata": {
        "id": "qeujZhgw5MR4"
      },
      "execution_count": null,
      "outputs": []
    },
    {
      "cell_type": "code",
      "source": [
        "for elemento in prograd_json[0]['contatos']:        \n",
        "    num = re.findall('[0-9]',elemento[8]['whatsapp'])\n",
        "    elemento[8]['whatsapp'] = 'https://wa.me/'+junta_string(num)\n",
        "prograd_json"
      ],
      "metadata": {
        "id": "puVAHB9v4BDX",
        "colab": {
          "base_uri": "https://localhost:8080/"
        },
        "outputId": "f098e946-6b45-4c90-b389-29b43c2f4942"
      },
      "execution_count": null,
      "outputs": [
        {
          "output_type": "execute_result",
          "data": {
            "text/plain": [
              "[{'contatos': [[{'setor': 'Prograd'},\n",
              "    {'resp': 'Pró-Reitora: Profª Ana Paula de Medeiros Ribeiro'},\n",
              "    {'subsetor': 'Coordenação Prograd'},\n",
              "    {'fone': 'Fone: (85) 3366 9498'},\n",
              "    {'email': 'E-mail: protocolo@prograd.ufc.br'},\n",
              "    {'site': 'https://prograd.ufc.br/pt/'},\n",
              "    {'faq': 'https://prograd.ufc.br/pt/perguntas-frequentes/'},\n",
              "    {'contats': 'https://prograd.ufc.br/pt/contatos/pro-reitor-e-apoio/'},\n",
              "    {'whatsapp': 'https://wa.me/558533669410'}],\n",
              "   [{'setor': 'Prograd'},\n",
              "    {'resp': 'Responsável: Isabel Cristina Moraes de Souza Castro'},\n",
              "    {'subsetor': 'Divisão de Apoio Administrativo'},\n",
              "    {'fone': 'Fone: (85) 3366 9498'},\n",
              "    {'email': 'E-mail: gabinete@prograd.ufc.br'},\n",
              "    {'site': 'https://prograd.ufc.br/pt/'},\n",
              "    {'faq': 'https://prograd.ufc.br/pt/perguntas-frequentes/'},\n",
              "    {'contats': 'https://prograd.ufc.br/pt/contatos/pro-reitor-e-apoio/'},\n",
              "    {'whatsapp': 'https://wa.me/558533669410'}],\n",
              "   [{'setor': 'Prograd'},\n",
              "    {'resp': 'Responsável: Priscilla de Araújo Gois Pinheiro Guerra'},\n",
              "    {'subsetor': 'Seção de Protocolo'},\n",
              "    {'fone': 'Fone: (85) 3366 9410'},\n",
              "    {'email': 'E-mail: protocolo@prograd.ufc.br'},\n",
              "    {'site': 'https://prograd.ufc.br/pt/'},\n",
              "    {'faq': 'https://prograd.ufc.br/pt/perguntas-frequentes/'},\n",
              "    {'contats': 'https://prograd.ufc.br/pt/contatos/pro-reitor-e-apoio/'},\n",
              "    {'whatsapp': 'https://wa.me/558533669410'}],\n",
              "   [{'setor': 'Prograd'},\n",
              "    {'resp': 'Responsável: Mônica Cristina de Lucena Lucas'},\n",
              "    {'subsetor': 'Divisão de Comunicação (Atendimento à imprensa)'},\n",
              "    {'fone': 'Fone: (85) 3366 9527 (provisório)'},\n",
              "    {'email': 'E-mail: comunicacao@prograd.ufc.br'},\n",
              "    {'site': 'https://prograd.ufc.br/pt/'},\n",
              "    {'faq': 'https://prograd.ufc.br/pt/perguntas-frequentes/'},\n",
              "    {'contats': 'https://prograd.ufc.br/pt/contatos/pro-reitor-e-apoio/'},\n",
              "    {'whatsapp': 'https://wa.me/558533669410'}],\n",
              "   [{'setor': 'Prograd'},\n",
              "    {'resp': 'Assessor: Carlos César Osório de Melo'},\n",
              "    {'subsetor': 'Assessoria de Legislação'},\n",
              "    {'fone': 'Fone: (85) 3366 9421'},\n",
              "    {'email': 'E-mail: ale@prograd.ufc.br'},\n",
              "    {'site': 'https://prograd.ufc.br/pt/'},\n",
              "    {'faq': 'https://prograd.ufc.br/pt/perguntas-frequentes/'},\n",
              "    {'contats': 'https://prograd.ufc.br/pt/contatos/pro-reitor-e-apoio/'},\n",
              "    {'whatsapp': 'https://wa.me/558533669410'}],\n",
              "   [{'setor': 'Prograd'},\n",
              "    {'resp': 'Coordenador na UFC: Prof. Pedro Rogério'},\n",
              "    {'subsetor': 'Programa de Residência Pedagógica'},\n",
              "    {'fone': 'Fone: (85) 3366 9527'},\n",
              "    {'email': 'E-mail: rp@prograd.ufc.br'},\n",
              "    {'site': 'https://prograd.ufc.br/pt/'},\n",
              "    {'faq': 'https://prograd.ufc.br/pt/perguntas-frequentes/'},\n",
              "    {'contats': 'https://prograd.ufc.br/pt/contatos/pro-reitor-e-apoio/'},\n",
              "    {'whatsapp': 'https://wa.me/558533669410'}],\n",
              "   [{'setor': 'Prograd'},\n",
              "    {'resp': 'Coordenadora na UFC: Profª Maria José Costa dos Santos'},\n",
              "    {'subsetor': 'Programa Institucional de Iniciação à Docência – PIBID'},\n",
              "    {'fone': 'Fone: (85) 3366 9527'},\n",
              "    {'email': 'E-mail: pibid@prograd.ufc.br'},\n",
              "    {'site': 'https://prograd.ufc.br/pt/'},\n",
              "    {'faq': 'https://prograd.ufc.br/pt/perguntas-frequentes/'},\n",
              "    {'contats': 'https://prograd.ufc.br/pt/contatos/pro-reitor-e-apoio/'},\n",
              "    {'whatsapp': 'https://wa.me/558533669410'}],\n",
              "   [{'setor': 'Prograd'},\n",
              "    {'resp': 'Coordenador: Prof. Francisco Ari de Andrade'},\n",
              "    {'subsetor': 'COORDENADORIA DE ACOMPANHAMENTO DISCENTE – CAD'},\n",
              "    {'fone': 'Fone: (85) 3366 9519'},\n",
              "    {'email': 'E-mail: cad@prograd.ufc.br'},\n",
              "    {'site': 'https://prograd.ufc.br/pt/'},\n",
              "    {'faq': 'https://prograd.ufc.br/pt/perguntas-frequentes/'},\n",
              "    {'contats': 'https://prograd.ufc.br/pt/contatos/pro-reitor-e-apoio/'},\n",
              "    {'whatsapp': 'https://wa.me/558533669410'}],\n",
              "   [{'setor': 'Prograd'},\n",
              "    {'resp': 'Coordenador: Profa. Simone da Silveira Sá Borges'},\n",
              "    {'subsetor': 'COORDENADORIA GERAL DE PROGRAMAS ACADÊMICOS – CGPA'},\n",
              "    {'fone': 'Fone/WhatsApp: (85) 3366 9496'},\n",
              "    {'email': 'E-mail: cgpa@prograd.ufc.br'},\n",
              "    {'site': 'https://prograd.ufc.br/pt/'},\n",
              "    {'faq': 'https://prograd.ufc.br/pt/perguntas-frequentes/'},\n",
              "    {'contats': 'https://prograd.ufc.br/pt/contatos/pro-reitor-e-apoio/'},\n",
              "    {'whatsapp': 'https://wa.me/558533669410'}],\n",
              "   [{'setor': 'Prograd'},\n",
              "    {'resp': 'Coordenadora: Aline Batista de Andrade'},\n",
              "    {'subsetor': 'COORDENADORIA DE PROJETOS E ACOMPANHAMENTO CURRICULAR – COPAC'},\n",
              "    {'fone': 'Fone: (85) 3366 9526'},\n",
              "    {'email': 'E-mail: copac@prograd.ufc.br'},\n",
              "    {'site': 'https://prograd.ufc.br/pt/'},\n",
              "    {'faq': 'https://prograd.ufc.br/pt/perguntas-frequentes/'},\n",
              "    {'contats': 'https://prograd.ufc.br/pt/contatos/pro-reitor-e-apoio/'},\n",
              "    {'whatsapp': 'https://wa.me/558533669410'}],\n",
              "   [{'setor': 'Prograd'},\n",
              "    {'resp': 'Coordenadora: Profª Andréa Soares Rocha da Silva'},\n",
              "    {'subsetor': 'COORDENADORIA DE PLANEJAMENTO E AVALIAÇÃO DE PROGRAMAS E AÇÕES ACADÊMICAS – COPAV'},\n",
              "    {'fone': 'Fone: (85) 3366 9020'},\n",
              "    {'email': 'E-mail: copav@prograd.ufc.br'},\n",
              "    {'site': 'https://prograd.ufc.br/pt/'},\n",
              "    {'faq': 'https://prograd.ufc.br/pt/perguntas-frequentes/'},\n",
              "    {'contats': 'https://prograd.ufc.br/pt/contatos/pro-reitor-e-apoio/'},\n",
              "    {'whatsapp': 'https://wa.me/558533669410'}],\n",
              "   [{'setor': 'Prograd'},\n",
              "    {'resp': 'Coordenador: Prof. Rafael Bráz Azevedo Farias'},\n",
              "    {'subsetor': 'COORDENADORIA DE PLANEJAMENTO, INFORMAÇÃO E COMUNICAÇÃO – COPIC'},\n",
              "    {'fone': 'Fone: (85) 3366 9036'},\n",
              "    {'email': 'E-mail: copic@prograd.ufc.br'},\n",
              "    {'site': 'https://prograd.ufc.br/pt/'},\n",
              "    {'faq': 'https://prograd.ufc.br/pt/perguntas-frequentes/'},\n",
              "    {'contats': 'https://prograd.ufc.br/pt/contatos/pro-reitor-e-apoio/'},\n",
              "    {'whatsapp': 'https://wa.me/558533669410'}],\n",
              "   [{'setor': 'Prograd'},\n",
              "    {'resp': 'Diretora: Keyla Maciel Maia'},\n",
              "    {'subsetor': 'DIVISÃO DE PLANEJAMENTO E ENSINO'},\n",
              "    {'fone': 'Fone: (85) 3366 9036'},\n",
              "    {'email': 'sem email'},\n",
              "    {'site': 'https://prograd.ufc.br/pt/'},\n",
              "    {'faq': 'https://prograd.ufc.br/pt/perguntas-frequentes/'},\n",
              "    {'contats': 'https://prograd.ufc.br/pt/contatos/pro-reitor-e-apoio/'},\n",
              "    {'whatsapp': 'https://wa.me/558533669410'}],\n",
              "   [{'setor': 'Prograd'},\n",
              "    {'resp': 'Diretora: Milena Teixeira Barbosa'},\n",
              "    {'subsetor': 'DIVISÃO DE SELEÇÃO'},\n",
              "    {'fone': 'E-mail: disel@prograd.ufc.br'},\n",
              "    {'email': 'Fones: (85) 3366 9522 / 3366 9423'},\n",
              "    {'site': 'https://prograd.ufc.br/pt/'},\n",
              "    {'faq': 'https://prograd.ufc.br/pt/perguntas-frequentes/'},\n",
              "    {'contats': 'https://prograd.ufc.br/pt/contatos/pro-reitor-e-apoio/'},\n",
              "    {'whatsapp': 'https://wa.me/558533669410'}],\n",
              "   [{'setor': 'Prograd'},\n",
              "    {'resp': 'Diretor: Daélio Feijó Rabelo'},\n",
              "    {'subsetor': 'DIVISÃO DE SELEÇÃO E MATRÍCULA'},\n",
              "    {'fone': 'Fone: (85) 3366 9528'},\n",
              "    {'email': 'E-mail: dsm@prograd.ufc.br'},\n",
              "    {'site': 'https://prograd.ufc.br/pt/'},\n",
              "    {'faq': 'https://prograd.ufc.br/pt/perguntas-frequentes/'},\n",
              "    {'contats': 'https://prograd.ufc.br/pt/contatos/pro-reitor-e-apoio/'},\n",
              "    {'whatsapp': 'https://wa.me/558533669410'}],\n",
              "   [{'setor': 'Prograd'},\n",
              "    {'resp': 'Chefe: Francisco Ivanildo Ferreira Fialho'},\n",
              "    {'subsetor': 'DIVISÃO DE MEMÓRIA E DOCUMENTAÇÃO'},\n",
              "    {'fone': '(atendimento exclusivamente por e-mail)'},\n",
              "    {'email': 'E-mail: dmd@prograd.ufc.br'},\n",
              "    {'site': 'https://prograd.ufc.br/pt/'},\n",
              "    {'faq': 'https://prograd.ufc.br/pt/perguntas-frequentes/'},\n",
              "    {'contats': 'https://prograd.ufc.br/pt/contatos/pro-reitor-e-apoio/'},\n",
              "    {'whatsapp': 'https://wa.me/558533669410'}],\n",
              "   [{'setor': 'Prograd'},\n",
              "    {'resp': 'Responsável: Michelly Linhares de Moraes'},\n",
              "    {'subsetor': 'Seção de Revalidação de Diplomas'},\n",
              "    {'fone': 'Fone: (85) 3366 9521'},\n",
              "    {'email': 'E-mail: revalidacao@prograd.ufc.br'},\n",
              "    {'site': 'https://prograd.ufc.br/pt/'},\n",
              "    {'faq': 'https://prograd.ufc.br/pt/perguntas-frequentes/'},\n",
              "    {'contats': 'https://prograd.ufc.br/pt/contatos/pro-reitor-e-apoio/'},\n",
              "    {'whatsapp': 'https://wa.me/558533669410'}],\n",
              "   [{'setor': 'Prograd'},\n",
              "    {'resp': 'Chefe: Maria Cristina de Figueiredo Monteiro'},\n",
              "    {'subsetor': 'Seção de Registro de Diplomas de Entidades Privadas'},\n",
              "    {'fone': 'Fone: (85) 3366 9523'},\n",
              "    {'email': 'E-mail: registroies@prograd.ufc.br'},\n",
              "    {'site': 'https://prograd.ufc.br/pt/'},\n",
              "    {'faq': 'https://prograd.ufc.br/pt/perguntas-frequentes/'},\n",
              "    {'contats': 'https://prograd.ufc.br/pt/contatos/pro-reitor-e-apoio/'},\n",
              "    {'whatsapp': 'https://wa.me/558533669410'}],\n",
              "   [{'setor': 'Prograd'},\n",
              "    {'resp': 'Responsável: Maria de Fátima Andrade'},\n",
              "    {'subsetor': 'Seção de Arquivo'},\n",
              "    {'fone': 'Fone/WhatsApp: (85) 3366 9520'},\n",
              "    {'email': 'E-mail: diarq@prograd.ufc.br'},\n",
              "    {'site': 'https://prograd.ufc.br/pt/'},\n",
              "    {'faq': 'https://prograd.ufc.br/pt/perguntas-frequentes/'},\n",
              "    {'contats': 'https://prograd.ufc.br/pt/contatos/pro-reitor-e-apoio/'},\n",
              "    {'whatsapp': 'https://wa.me/558533669410'}]]}]"
            ]
          },
          "metadata": {},
          "execution_count": 115
        }
      ]
    },
    {
      "cell_type": "code",
      "source": [
        "for elemento in prointer_json[0]['contatos_prointer']:        \n",
        "    num = re.findall('[0-9]',elemento[8]['whatsapp'])\n",
        "    elemento[8]['whatsapp'] = 'https://wa.me/'+junta_string(num)\n",
        "prointer_json"
      ],
      "metadata": {
        "id": "NxWAx4PLBLgr",
        "colab": {
          "base_uri": "https://localhost:8080/"
        },
        "outputId": "d9e76ea1-27e2-4f8f-d9c9-ec72113bd4c7"
      },
      "execution_count": null,
      "outputs": [
        {
          "output_type": "execute_result",
          "data": {
            "text/plain": [
              "[{'contatos_prointer': [[{'setor': 'Prointer'},\n",
              "    {'resp': 'Augusto Albuquerque (Pró-Reitor)'},\n",
              "    {'subsetor': 'Gabinete do Pró-Reitor'},\n",
              "    {'fone': ' (85) 3366.7333'},\n",
              "    {'email': 'augusto.albuquerque@ufc.br'},\n",
              "    {'site': 'https://prointer.ufc.br/pt/seja-bem-vindo-a-prointer/'},\n",
              "    {'faq': 'https://prointer.ufc.br/pt/relacoes-internacionais/perguntas-frequentes/'},\n",
              "    {'contats': 'https://prointer.ufc.br/pt/sobre-a-prointer/endereco-e-telefones/'},\n",
              "    {'whatsapp': 'https://wa.me/8533667333'}],\n",
              "   [{'setor': 'Prointer'},\n",
              "    {'resp': ['Camila Gueiros(Gestora Administrativa)',\n",
              "      'Fábio Nogueira(Assessor)',\n",
              "      'Bruno Souza(Atendimento ao Público)']},\n",
              "    {'subsetor': 'Secretaria Administrativa'},\n",
              "    {'fone': ' (85) 3366.7333'},\n",
              "    {'email': ['camilagueiros@ufc.br',\n",
              "      'fabionogueira@ufc.br',\n",
              "      'secretaria@cai.ufc.br']},\n",
              "    {'site': 'https://prointer.ufc.br/pt/seja-bem-vindo-a-prointer/'},\n",
              "    {'faq': 'https://prointer.ufc.br/pt/relacoes-internacionais/perguntas-frequentes/'},\n",
              "    {'contats': 'https://prointer.ufc.br/pt/sobre-a-prointer/endereco-e-telefones/'},\n",
              "    {'whatsapp': 'https://wa.me/8533667333'}],\n",
              "   [{'setor': 'Prointer'},\n",
              "    {'resp': ['Ananda Badaró (Tradutora e Intérprete)',\n",
              "      'Tadeu Azevedo(Tradutor e Intérprete)',\n",
              "      'Document Verification Service']},\n",
              "    {'subsetor': 'Equipe de Tradução'},\n",
              "    {'fone': ' (85) 3366.7333'},\n",
              "    {'email': ['traducao@cai.ufc.br',\n",
              "      'tradutor@prointer.ufc.br',\n",
              "      'documents@prointer.ufc.br']},\n",
              "    {'site': 'https://prointer.ufc.br/pt/seja-bem-vindo-a-prointer/'},\n",
              "    {'faq': 'https://prointer.ufc.br/pt/relacoes-internacionais/perguntas-frequentes/'},\n",
              "    {'contats': 'https://prointer.ufc.br/pt/sobre-a-prointer/endereco-e-telefones/'},\n",
              "    {'whatsapp': 'https://wa.me/8533667333'}],\n",
              "   [{'setor': 'Prointer'},\n",
              "    {'resp': ['Mônica Amorim(Diretora)',\n",
              "      'Su Jianhua(Diretor)',\n",
              "      'Luana Leite(Assistente de Administração']},\n",
              "    {'subsetor': 'Instituto Confúcio da UFC'},\n",
              "    {'fone': ' (85) 3366.9031'},\n",
              "    {'email': ['monica_amorim@terra.com.br',\n",
              "      'institutoconfucio@ufc.br',\n",
              "      'institutoconfucio@ufc.br']},\n",
              "    {'site': 'https://prointer.ufc.br/pt/seja-bem-vindo-a-prointer/'},\n",
              "    {'faq': 'https://institutoconfucio.ufc.br/pt/'},\n",
              "    {'contats': 'https://prointer.ufc.br/pt/sobre-a-prointer/endereco-e-telefones/'},\n",
              "    {'whatsapp': 'https://wa.me/8533669031'}],\n",
              "   [{'setor': 'Prointer'},\n",
              "    {'resp': ['Rodrigo Rego(Coordenador)',\n",
              "      'Fabiano Gadelha(Analista de Tecnologia da Informação)']},\n",
              "    {'subsetor': 'Coordenadoria de Convênios Internacionais'},\n",
              "    {'fone': ' (85) 3366.7336 '},\n",
              "    {'email': ['convenios@prointer.ufc.br', 'fabiano.gadelha@sti.ufc.br']},\n",
              "    {'site': 'https://prointer.ufc.br/pt/seja-bem-vindo-a-prointer/'},\n",
              "    {'faq': 'https://prointer.ufc.br/pt/relacoes-internacionais/perguntas-frequentes/'},\n",
              "    {'contats': 'https://prointer.ufc.br/pt/sobre-a-prointer/endereco-e-telefones/'},\n",
              "    {'whatsapp': 'https://wa.me/8533667336'}],\n",
              "   [{'setor': 'Prointer'},\n",
              "    {'resp': ['Talita Vasconcelos(Coordenadora) ',\n",
              "      'Vanderleia Lucia de Souza(Assessora)']},\n",
              "    {'subsetor': 'Coordenadoria de Mobilidade Acadêmica'},\n",
              "    {'fone': '(85)3366.7336'},\n",
              "    {'email': ['mobilidade@prointer.ufc.br', 'administrativo@cai.ufc.br']},\n",
              "    {'site': 'https://prointer.ufc.br/pt/seja-bem-vindo-a-prointer/'},\n",
              "    {'faq': 'https://prointer.ufc.br/pt/relacoes-internacionais/perguntas-frequentes/'},\n",
              "    {'contats': 'https://prointer.ufc.br/pt/sobre-a-prointer/endereco-e-telefones/'},\n",
              "    {'whatsapp': 'https://wa.me/8533667336'}],\n",
              "   [{'setor': 'Prointer'},\n",
              "    {'resp': ['Abraão Saraiva(Coordenador) ',\n",
              "      'Gervina Brady(Assistente em Administração)',\n",
              "      'Tatieures Gomes(Analista de Tecnologia da Informação)']},\n",
              "    {'subsetor': 'Coordenadoria de Empreendedorismo'},\n",
              "    {'fone': '(85) 3366.7335'},\n",
              "    {'email': ['abraaofsjr@gmail.com',\n",
              "      'gervina.brady@ufc.br',\n",
              "      'tatieures@ufc.br']},\n",
              "    {'site': 'https://prointer.ufc.br/pt/seja-bem-vindo-a-prointer/'},\n",
              "    {'faq': 'https://prointer.ufc.br/pt/relacoes-internacionais/perguntas-frequentes/'},\n",
              "    {'contats': 'https://prointer.ufc.br/pt/sobre-a-prointer/endereco-e-telefones/'},\n",
              "    {'whatsapp': 'https://wa.me/8533667335'}],\n",
              "   [{'setor': 'Prointer'},\n",
              "    {'resp': ['Bruno Matos(Coordenador)',\n",
              "      'Patrícia Araújo(Administradora)',\n",
              "      'Laura Figueiredo(Assistente em Administração)',\n",
              "      'Ciro Texeira(Administrador)']},\n",
              "    {'subsetor': 'Coordenadoria de Inovação Institucional'},\n",
              "    {'fone': '  (85) 3366.7335'},\n",
              "    {'email': ['brunomatos@ufc.br',\n",
              "      'patricia.araujo@ufc.br|inovacao@prointer.ufc.br',\n",
              "      'lauracfigueiredo@ufc.br',\n",
              "      'ciro.teixeira@ufc.br']},\n",
              "    {'site': 'https://prointer.ufc.br/pt/seja-bem-vindo-a-prointer/'},\n",
              "    {'faq': 'https://prointer.ufc.br/pt/relacoes-internacionais/perguntas-frequentes/'},\n",
              "    {'contats': 'https://prointer.ufc.br/pt/sobre-a-prointer/endereco-e-telefones/'},\n",
              "    {'whatsapp': 'https://wa.me/8533667335'}]]}]"
            ]
          },
          "metadata": {},
          "execution_count": 116
        }
      ]
    },
    {
      "cell_type": "code",
      "source": [
        "for elemento in prae_json[0]['contatos_prae']:        \n",
        "    num = re.findall('[0-9]',elemento[8]['whatsapp'])\n",
        "    elemento[8]['whatsapp'] = 'https://wa.me/'+junta_string(num)\n",
        "prae_json"
      ],
      "metadata": {
        "colab": {
          "base_uri": "https://localhost:8080/"
        },
        "id": "QiYccmS1CElW",
        "outputId": "3af4f3f6-deab-43a3-ea31-c592dd3b2af5"
      },
      "execution_count": null,
      "outputs": [
        {
          "output_type": "execute_result",
          "data": {
            "text/plain": [
              "[{'contatos_prae': [[{'setor': 'Prae'},\n",
              "    {'resp': 'Pró-Reitora: Profa. Dra. Geovana Maria Cartaxo de Arruda Freire'},\n",
              "    {'subsetor': 'Coordenação principal'},\n",
              "    {'fone': '(85) 3366 7440'},\n",
              "    {'email': 'prae.secretaria@ufc.br'},\n",
              "    {'site': 'https://prae.ufc.br/pt/'},\n",
              "    {'faq': 'Não existente'},\n",
              "    {'contats': 'https://prae.ufc.br/pt/enderecos-e-telefones/'},\n",
              "    {'whatsapp': 'https://wa.me/558533667440'}],\n",
              "   [{'setor': 'Prae'},\n",
              "    {'resp': 'Pró-Reitora: Profa. Dra. Geovana Maria Cartaxo de Arruda Freire'},\n",
              "    {'subsetor': 'DIVISÃO DE APOIO ADMINISTRATIVO'},\n",
              "    {'fone': '(85) 3366 7440'},\n",
              "    {'email': 'prae.secretaria@ufc.br'},\n",
              "    {'site': 'https://prae.ufc.br/pt/'},\n",
              "    {'faq': 'Não existente'},\n",
              "    {'contats': 'https://prae.ufc.br/pt/enderecos-e-telefones/'},\n",
              "    {'whatsapp': 'https://wa.me/558533667440'}],\n",
              "   [{'setor': 'Prae'},\n",
              "    {'resp': 'Pró-Reitora: Profa. Dra. Geovana Maria Cartaxo de Arruda Freire'},\n",
              "    {'subsetor': 'ASSESSORIA ADMINISTRATIVA'},\n",
              "    {'fone': 'Fax: (85) 3366 7442'},\n",
              "    {'email': 'praap.prae@ufc.br'},\n",
              "    {'site': 'https://prae.ufc.br/pt/'},\n",
              "    {'faq': 'Não existente'},\n",
              "    {'contats': 'https://prae.ufc.br/pt/enderecos-e-telefones/'},\n",
              "    {'whatsapp': 'https://wa.me/558533667440'}],\n",
              "   [{'setor': 'Prae'},\n",
              "    {'resp': 'Coordenadora: Márcia Regina Mariano de Sousa Arão'},\n",
              "    {'subsetor': 'COORDENADORIA DE ASSISTÊNCIA ESTUDANTIL'},\n",
              "    {'fone': '(85) 3366-7445 / 3366-7444'},\n",
              "    {'email': 'case@ufc.br'},\n",
              "    {'site': 'https://prae.ufc.br/pt/'},\n",
              "    {'faq': 'Não existente'},\n",
              "    {'contats': 'https://prae.ufc.br/pt/enderecos-e-telefones/'},\n",
              "    {'whatsapp': 'https://wa.me/558533667440'}],\n",
              "   [{'setor': 'Prae'},\n",
              "    {'resp': 'Coordenadora: Márcia Regina Mariano de Sousa Arão'},\n",
              "    {'subsetor': 'DIVISÃO DE ATENÇÃO AO ESTUDANTE'},\n",
              "    {'fone': ' (85) 3366 7447'},\n",
              "    {'email': 'dae.case@ufc.br'},\n",
              "    {'site': 'https://prae.ufc.br/pt/'},\n",
              "    {'faq': 'Não existente'},\n",
              "    {'contats': 'https://prae.ufc.br/pt/enderecos-e-telefones/'},\n",
              "    {'whatsapp': 'https://wa.me/558533667440'}],\n",
              "   [{'setor': 'Prae'},\n",
              "    {'resp': 'Coordenadora: Márcia Regina Mariano de Sousa Arão'},\n",
              "    {'subsetor': 'DIVISÃO DE BENEFÍCIOS E MORADIA'},\n",
              "    {'fone': '(85)3366-7448'},\n",
              "    {'email': 'digeb.case@ufc.br'},\n",
              "    {'site': 'https://prae.ufc.br/pt/'},\n",
              "    {'faq': 'Não existente'},\n",
              "    {'contats': 'https://prae.ufc.br/pt/enderecos-e-telefones/'},\n",
              "    {'whatsapp': 'https://wa.me/558533667440'}],\n",
              "   [{'setor': 'Prae'},\n",
              "    {'resp': 'Coordenador: Wildner Lins de Souza'},\n",
              "    {'subsetor': 'COORDENADORIA  DE ATIVIDADES DESPORTIVAS'},\n",
              "    {'fone': '(85) 3366 7871'},\n",
              "    {'email': 'desportoufc@ufc.br'},\n",
              "    {'site': 'https://prae.ufc.br/pt/'},\n",
              "    {'faq': 'Não existente'},\n",
              "    {'contats': 'https://prae.ufc.br/pt/enderecos-e-telefones/'},\n",
              "    {'whatsapp': 'https://wa.me/558533667440'}],\n",
              "   [{'setor': 'Prae'},\n",
              "    {'resp': 'Coordenador: Wildner Lins de Souza'},\n",
              "    {'subsetor': 'DIVISÃO DE DESPORTO DE PARTICIPAÇÃO'},\n",
              "    {'fone': '(85) 3366 7871'},\n",
              "    {'email': 'desportoufc@ufc.br'},\n",
              "    {'site': 'https://prae.ufc.br/pt/'},\n",
              "    {'faq': 'Não existente'},\n",
              "    {'contats': 'https://prae.ufc.br/pt/enderecos-e-telefones/'},\n",
              "    {'whatsapp': 'https://wa.me/558533667440'}],\n",
              "   [{'setor': 'Prae'},\n",
              "    {'resp': 'Diretor: José Clovandi Costa Filho'},\n",
              "    {'subsetor': 'DIVISÃO DE DESPORTO DE RENDIMENTO'},\n",
              "    {'fone': '(85) 3366 7871'},\n",
              "    {'email': 'desportoufc@ufc.br'},\n",
              "    {'site': 'https://prae.ufc.br/pt/'},\n",
              "    {'faq': 'Não existente'},\n",
              "    {'contats': 'https://prae.ufc.br/pt/enderecos-e-telefones/'},\n",
              "    {'whatsapp': 'https://wa.me/558533667440'}],\n",
              "   [{'setor': 'Prae'},\n",
              "    {'resp': 'Coordenador: Francisco José Albuquerque Cruz'},\n",
              "    {'subsetor': 'COORDENADORIA DE RESTAURANTE UNIVERSITÁRIO'},\n",
              "    {'fone': '(85) 3366 7441'},\n",
              "    {'email': 'praeufc@gmail.com'},\n",
              "    {'site': 'https://prae.ufc.br/pt/'},\n",
              "    {'faq': 'Não existente'},\n",
              "    {'contats': 'https://prae.ufc.br/pt/enderecos-e-telefones/'},\n",
              "    {'whatsapp': 'https://wa.me/558533667440'}],\n",
              "   [{'setor': 'Prae'},\n",
              "    {'resp': 'Diretora: Natália Lopes Vasconcelos'},\n",
              "    {'subsetor': 'DIVISÃO DE ALIMENTAÇÃO E NUTRIÇÃO'},\n",
              "    {'fone': '(85) 3366 9531'},\n",
              "    {'email': 'praeufc@gmail.com'},\n",
              "    {'site': 'https://prae.ufc.br/pt/'},\n",
              "    {'faq': 'Não existente'},\n",
              "    {'contats': 'https://prae.ufc.br/pt/enderecos-e-telefones/'},\n",
              "    {'whatsapp': 'https://wa.me/558533667440'}],\n",
              "   [{'setor': 'Prae'},\n",
              "    {'resp': 'Chefe: Conceição de Maria Coelho de Carvalho'},\n",
              "    {'subsetor': 'Seção do Refeitório do Benfica'},\n",
              "    {'fone': '(85) 3366 7776'},\n",
              "    {'email': 'praeufc@gmail.com'},\n",
              "    {'site': 'https://prae.ufc.br/pt/'},\n",
              "    {'faq': 'Não existente'},\n",
              "    {'contats': 'https://prae.ufc.br/pt/enderecos-e-telefones/'},\n",
              "    {'whatsapp': 'https://wa.me/558533667440'}],\n",
              "   [{'setor': 'Prae'},\n",
              "    {'resp': 'Chefe: Cleonice de Castro Silva'},\n",
              "    {'subsetor': 'Seção do Refeitório do Pici'},\n",
              "    {'fone': '(85) 3366 9530'},\n",
              "    {'email': 'praeufc@gmail.com'},\n",
              "    {'site': 'https://prae.ufc.br/pt/'},\n",
              "    {'faq': 'Não existente'},\n",
              "    {'contats': 'https://prae.ufc.br/pt/enderecos-e-telefones/'},\n",
              "    {'whatsapp': 'https://wa.me/558533667440'}],\n",
              "   [{'setor': 'Prae'},\n",
              "    {'resp': 'COORDENADORIA DE RESTAURANTE UNIVERSITÁRIO'},\n",
              "    {'subsetor': 'Seção do Refeitório do Porangabuçu'},\n",
              "    {'fone': ' (85) 3366 7447'},\n",
              "    {'email': 'praeufc@gmail.com'},\n",
              "    {'site': 'https://prae.ufc.br/pt/'},\n",
              "    {'faq': 'Não existente'},\n",
              "    {'contats': 'https://prae.ufc.br/pt/enderecos-e-telefones/'},\n",
              "    {'whatsapp': 'https://wa.me/558533667440'}],\n",
              "   [{'setor': 'Prae'},\n",
              "    {'resp': 'Diretor: José Pereira Duarte'},\n",
              "    {'subsetor': 'DIVISÃO DE SERVIÇOS OPERACIONAIS'},\n",
              "    {'fone': ' (85) 3366 9530'},\n",
              "    {'email': 'praeufc@gmail.com'},\n",
              "    {'site': 'https://prae.ufc.br/pt/'},\n",
              "    {'faq': 'Não existente'},\n",
              "    {'contats': 'https://prae.ufc.br/pt/enderecos-e-telefones/'},\n",
              "    {'whatsapp': 'https://wa.me/558533667440'}]]}]"
            ]
          },
          "metadata": {},
          "execution_count": 117
        }
      ]
    },
    {
      "cell_type": "markdown",
      "metadata": {
        "id": "I32TXlzaJH3h"
      },
      "source": [
        "# Localização do setores(API)\n",
        "\n",
        " api/get_location(nome_local:string, setor:string)\n",
        "- Recebe nome(title) do local e setor e busca no banco de dados\n",
        "- Saída: Json\n",
        "{            \n",
        "            \n",
        "                \"location\": [\n",
        "                    {\"setor\": \"Prograd\"},\n",
        "                    {\"latitude\": \"31.15254\"},\n",
        "                    {\"longitude\": \"-3.51515\"},\n",
        "                    {\"address\": \"Rua das carapiras, 2168\"},\n",
        "                    {\"title\": \"Sala 90\"},\n",
        "                    {\"desc\": \"Prédio com escadas...\"},\n",
        "                    {\"maps\": \"https://www.google.com/maps/sdf61s\"}\n",
        "                 ]\n",
        "            }}"
      ]
    },
    {
      "cell_type": "code",
      "execution_count": null,
      "metadata": {
        "id": "r1cPuWNrDh2f"
      },
      "outputs": [],
      "source": [
        "def struture_location(setor,lat,log,address,title,desc,link_maps):\n",
        "              location = {\"location\": \n",
        "              [{\"setor\": setor },\n",
        "              {\"latitude\": \"{0}\".format(lat)},\n",
        "              {\"longitude\": \"{0}\".format(log)},\n",
        "              {\"address\": address},\n",
        "              {\"title\": title},\n",
        "              {\"desc\": desc},\n",
        "              {\"maps\": link_maps}]}\n",
        "              return location"
      ]
    },
    {
      "cell_type": "code",
      "execution_count": null,
      "metadata": {
        "id": "fa2f_RmwPuil"
      },
      "outputs": [],
      "source": [
        "# Prointer\n",
        "desc_prointer = \"...\" # descrição de onde fica a prointer\n",
        "loc_prointer = struture_location(\"Prointer\",\n",
        "                  -3.741827464215639, \n",
        "                  -38.53896668465892,\n",
        "                  \"Av. da Universidade, 2853 - Benfica - 60020-181 - Fortaleza – CE – Brasil\",\n",
        "                  \"Prédio da Reitoria, Altos\",\n",
        "                  desc_prointer,\n",
        "                  \"https://goo.pgl/maps/nTJSJDkXaz8C2iF46\")\n",
        "\n",
        "# Instituto Confúcio \n",
        "\n",
        "desc_confucio = \"...\" \n",
        "loc_confucio = struture_location(\"Prointer\",\n",
        "                  -3.7394130073747687, -38.56946437265177,\n",
        "                  \"Rua Dr. Abdenago Rocha Lima, s/n - Campus do Pici, Fortaleza - CE, 60440-554\",\n",
        "                  \"Instituto Confúcio\",\n",
        "                  desc_confucio,\n",
        "                  \"https://goo.gl/maps/vrmHuB9eKkbrtXxv8\")\n"
      ]
    },
    {
      "cell_type": "code",
      "execution_count": null,
      "metadata": {
        "id": "2WdotkWlSwEi"
      },
      "outputs": [],
      "source": [
        "# Prae\n",
        "desc_prae = \"...\"\n",
        "loc_prae = struture_location(\"Prae\",\n",
        "                  -3.741597800417145,\n",
        "                  -38.53828905915975,\n",
        "                  \"Av. da Universidade, 2853 - Benfica\",\n",
        "                  \"Edifício\",\n",
        "                  desc_prae,\n",
        "                  \"https://goo.gl/maps/2aiPH34CiDZRGfgt7\")\n",
        "# COORDENADORIA  DE ATIVIDADES DESPORTIVAS\n",
        "desc_esportiva = \"Quadra do CEU ao lado do Bloco de Psicologia\"\n",
        "loc_esportiva = struture_location(\"Prae\",\n",
        "                  -3.7399934596046998,\n",
        "                  -38.53890611868392,\n",
        "                  \"Av. da Universidade, 2762 - Centro, Fortaleza - CE, 60020-181\",\n",
        "                  \"Coordenadoria de atividade desportivas \",\n",
        "                  desc_esportiva,\n",
        "                  \"https://goo.gl/maps/3tM7RX9oTqUTgUiz6\")"
      ]
    },
    {
      "cell_type": "code",
      "execution_count": null,
      "metadata": {
        "colab": {
          "base_uri": "https://localhost:8080/"
        },
        "id": "0HnVfMzrYTQW",
        "outputId": "c4185348-a7dc-4794-a1c1-06cfc64a3f01"
      },
      "outputs": [
        {
          "output_type": "execute_result",
          "data": {
            "text/plain": [
              "{'location': [{'setor': 'Prae'},\n",
              "  {'latitude': '-3.741597800417145'},\n",
              "  {'longitude': '-38.53828905915975'},\n",
              "  {'address': 'Av. da Universidade, 2853 - Benfica'},\n",
              "  {'title': 'Edifício'},\n",
              "  {'desc': '...'},\n",
              "  {'maps': 'https://goo.gl/maps/2aiPH34CiDZRGfgt7'}]}"
            ]
          },
          "metadata": {},
          "execution_count": 121
        }
      ],
      "source": [
        "loc_prae"
      ]
    },
    {
      "cell_type": "code",
      "execution_count": null,
      "metadata": {
        "id": "iaQLwBbQUjkC"
      },
      "outputs": [],
      "source": [
        "desc_prograd = \"A frente da Biblioteca Central existe uma escada que leva abaixo da mesma,siga por ela para chegar atrás da bibioteca,ali você encontrará encontrará a Prograd.\"\n",
        "loc_prograd = struture_location(\"Prograd\",\n",
        "                  -3.7425018781683863,\n",
        "                  -38.574071941963766,\n",
        "                  \"Campus do Pici - Pici, Fortaleza - CE, 60455-760\",\n",
        "                  \"Rua Biblioteca Central\",\n",
        "                  desc_prograd,\n",
        "                  \"https://goo.gl/maps/cWz3Kx4Yo5GKMGZq5\")"
      ]
    },
    {
      "cell_type": "code",
      "execution_count": null,
      "metadata": {
        "colab": {
          "base_uri": "https://localhost:8080/"
        },
        "id": "8GorqYHEbU7o",
        "outputId": "892e7cc9-9f21-4fad-ba46-2aa72c2d19f5"
      },
      "outputs": [
        {
          "output_type": "execute_result",
          "data": {
            "text/plain": [
              "{'location': [{'setor': 'Prograd'},\n",
              "  {'latitude': '-3.7425018781683863'},\n",
              "  {'longitude': '-38.574071941963766'},\n",
              "  {'address': 'Campus do Pici - Pici, Fortaleza - CE, 60455-760'},\n",
              "  {'title': 'Rua Biblioteca Central'},\n",
              "  {'desc': 'A frente da Biblioteca Central existe uma escada que leva abaixo da mesma,siga por ela para chegar atrás da bibioteca,ali você encontrará encontrará a Prograd.'},\n",
              "  {'maps': 'https://goo.gl/maps/cWz3Kx4Yo5GKMGZq5'}]}"
            ]
          },
          "metadata": {},
          "execution_count": 123
        }
      ],
      "source": [
        "loc_prograd"
      ]
    },
    {
      "cell_type": "markdown",
      "metadata": {
        "id": "tBQQKIGgX6oE"
      },
      "source": [
        "# API"
      ]
    },
    {
      "cell_type": "code",
      "execution_count": null,
      "metadata": {
        "id": "tl8918lnqKWs",
        "colab": {
          "base_uri": "https://localhost:8080/"
        },
        "outputId": "c320c259-f721-4628-dca8-0a2f9870b1d3"
      },
      "outputs": [
        {
          "output_type": "stream",
          "name": "stdout",
          "text": [
            " * Serving Flask app \"__main__\" (lazy loading)\n",
            " * Environment: production\n",
            "\u001b[31m   WARNING: This is a development server. Do not use it in a production deployment.\u001b[0m\n",
            "\u001b[2m   Use a production WSGI server instead.\u001b[0m\n",
            " * Debug mode: off\n"
          ]
        },
        {
          "output_type": "stream",
          "name": "stderr",
          "text": [
            "INFO:werkzeug: * Running on http://127.0.0.1:5000/ (Press CTRL+C to quit)\n"
          ]
        },
        {
          "output_type": "stream",
          "name": "stdout",
          "text": [
            " * Running on http://c8b5-35-204-201-56.ngrok.io\n",
            " * Traffic stats available on http://127.0.0.1:4040\n"
          ]
        },
        {
          "output_type": "stream",
          "name": "stderr",
          "text": [
            "INFO:werkzeug:127.0.0.1 - - [21/Oct/2022 17:48:33] \"\u001b[37mGET /get_location/prae HTTP/1.1\u001b[0m\" 200 -\n"
          ]
        }
      ],
      "source": [
        "from flask import Flask, jsonify\n",
        "from flask_restful import Api, Resource, reqparse\n",
        "from flask_ngrok import run_with_ngrok\n",
        "from flask import make_response\n",
        "\n",
        "\n",
        "\n",
        "import random\n",
        "app = Flask(__name__)\n",
        "api = Api(app)\n",
        "\n",
        "\n",
        "# Scraping...\n",
        "\n",
        "menu_ru_fort = checagem_de_retorno()\n",
        "menu_ru_quixada = cardapio_quixada\n",
        "contatos_prograd = prograd_json\n",
        "contatos_prointer = prointer_json\n",
        "contatos_prae = prae_json\n",
        "localizacao_prograd = [loc_prograd]\n",
        "localizacao_prointer = [loc_prointer,loc_confucio]\n",
        "localizacao_prae = [loc_prae,loc_esportiva]\n",
        "\n",
        "# Rota GET ...get_ru/<string:campi>\"\n",
        "class get_ru(Resource):\n",
        "    def get(self,campi):\n",
        "      self.campi = campi\n",
        "      if campi == 'pici':\n",
        "          return menu_ru_fort\n",
        "      elif campi == 'quixada':\n",
        "          return menu_ru_quixada\n",
        "# Rota GET...get_contatos/<string:contatos>\"\n",
        "\n",
        "class get_contatos(Resource):\n",
        "    def get(self,setor):\n",
        "      self.setor = setor\n",
        "      if self.setor == 'prograd':\n",
        "        return contatos_prograd\n",
        "      if self.setor ==  'prointer':\n",
        "        return contatos_prointer\n",
        "      if self.setor == 'prae':\n",
        "        return contatos_prae\n",
        "\n",
        "# Rota GET...get_location/<setor:location>\n",
        "class get_location(Resource):\n",
        "    def get(self,loc):\n",
        "      self.loc = loc\n",
        "      if self.loc == 'prograd':\n",
        "        return localizacao_prograd\n",
        "      elif self.loc == 'prointer':\n",
        "        return localizacao_prointer\n",
        "      elif self.loc == 'prae':\n",
        "        return localizacao_prae\n",
        "    \n",
        "api.add_resource(get_ru, \"/get_ru/<string:campi>\") # passagem da url : /get_ru/(nome do campi escrito na função)\n",
        "api.add_resource(get_contatos,\"/get_contatos/<string:setor>\")\n",
        "api.add_resource(get_location,\"/get_location/<string:loc>\")\n",
        "\n",
        "\n",
        "if __name__ == '__main__':\n",
        "    run_with_ngrok(app)\n",
        "    app.run()"
      ]
    }
  ],
  "metadata": {
    "colab": {
      "collapsed_sections": [
        "XfQAQNmbxp69",
        "aJmMHvHzIL3a",
        "KNxtyxLaVxHJ",
        "rgJFSTowir-U",
        "vBKlWyhvr3YE",
        "eWzHoZP8SvYQ",
        "4nw2zscobTBU",
        "pOtEnmPi-sN8",
        "I32TXlzaJH3h",
        "tBQQKIGgX6oE"
      ],
      "provenance": [],
      "authorship_tag": "ABX9TyORpAmqx1b6waf6zNeT0f46",
      "include_colab_link": true
    },
    "kernelspec": {
      "display_name": "Python 3",
      "name": "python3"
    },
    "language_info": {
      "name": "python"
    }
  },
  "nbformat": 4,
  "nbformat_minor": 0
}